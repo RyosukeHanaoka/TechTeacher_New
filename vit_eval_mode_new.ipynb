{
  "nbformat": 4,
  "nbformat_minor": 0,
  "metadata": {
    "colab": {
      "provenance": [],
      "machine_shape": "hm",
      "gpuType": "A100",
      "authorship_tag": "ABX9TyN33+ukgT90E6Q7Tn56WA25",
      "include_colab_link": true
    },
    "kernelspec": {
      "name": "python3",
      "display_name": "Python 3"
    },
    "language_info": {
      "name": "python"
    },
    "accelerator": "GPU"
  },
  "cells": [
    {
      "cell_type": "markdown",
      "metadata": {
        "id": "view-in-github",
        "colab_type": "text"
      },
      "source": [
        "<a href=\"https://colab.research.google.com/github/RyosukeHanaoka/TechTeacher_New/blob/main/vit_eval_mode_new.ipynb\" target=\"_parent\"><img src=\"https://colab.research.google.com/assets/colab-badge.svg\" alt=\"Open In Colab\"/></a>"
      ]
    },
    {
      "cell_type": "code",
      "source": [
        "from google.colab import drive\n",
        "drive.mount('/content/drive')"
      ],
      "metadata": {
        "colab": {
          "base_uri": "https://localhost:8080/"
        },
        "id": "uoC4TXHBCK6d",
        "outputId": "2aac10e4-2a02-4e39-c2d3-0d1e9e9081d6"
      },
      "execution_count": 6,
      "outputs": [
        {
          "output_type": "stream",
          "name": "stdout",
          "text": [
            "Drive already mounted at /content/drive; to attempt to forcibly remount, call drive.mount(\"/content/drive\", force_remount=True).\n"
          ]
        }
      ]
    },
    {
      "cell_type": "code",
      "source": [
        "!pip install pyheif rembg torch timm"
      ],
      "metadata": {
        "colab": {
          "base_uri": "https://localhost:8080/"
        },
        "id": "cyRoqMCdCDNB",
        "outputId": "da58da25-c460-4d6c-87de-6d6a8da534b1"
      },
      "execution_count": 7,
      "outputs": [
        {
          "output_type": "stream",
          "name": "stdout",
          "text": [
            "Collecting pyheif\n",
            "  Downloading pyheif-0.7.1-cp310-cp310-manylinux_2_17_x86_64.manylinux2014_x86_64.whl (9.8 MB)\n",
            "\u001b[2K     \u001b[90m━━━━━━━━━━━━━━━━━━━━━━━━━━━━━━━━━━━━━━━━\u001b[0m \u001b[32m9.8/9.8 MB\u001b[0m \u001b[31m29.8 MB/s\u001b[0m eta \u001b[36m0:00:00\u001b[0m\n",
            "\u001b[?25hCollecting rembg\n",
            "  Downloading rembg-2.0.57-py3-none-any.whl (33 kB)\n",
            "Requirement already satisfied: torch in /usr/local/lib/python3.10/dist-packages (2.3.0+cu121)\n",
            "Requirement already satisfied: timm in /usr/local/lib/python3.10/dist-packages (1.0.7)\n",
            "Requirement already satisfied: cffi>=1.0.0 in /usr/local/lib/python3.10/dist-packages (from pyheif) (1.16.0)\n",
            "Requirement already satisfied: jsonschema in /usr/local/lib/python3.10/dist-packages (from rembg) (4.19.2)\n",
            "Requirement already satisfied: numpy in /usr/local/lib/python3.10/dist-packages (from rembg) (1.25.2)\n",
            "Collecting onnxruntime (from rembg)\n",
            "  Downloading onnxruntime-1.18.1-cp310-cp310-manylinux_2_27_x86_64.manylinux_2_28_x86_64.whl (6.8 MB)\n",
            "\u001b[2K     \u001b[90m━━━━━━━━━━━━━━━━━━━━━━━━━━━━━━━━━━━━━━━━\u001b[0m \u001b[32m6.8/6.8 MB\u001b[0m \u001b[31m82.2 MB/s\u001b[0m eta \u001b[36m0:00:00\u001b[0m\n",
            "\u001b[?25hRequirement already satisfied: opencv-python-headless in /usr/local/lib/python3.10/dist-packages (from rembg) (4.10.0.84)\n",
            "Requirement already satisfied: pillow in /usr/local/lib/python3.10/dist-packages (from rembg) (9.4.0)\n",
            "Requirement already satisfied: pooch in /usr/local/lib/python3.10/dist-packages (from rembg) (1.8.2)\n",
            "Collecting pymatting (from rembg)\n",
            "  Downloading PyMatting-1.1.12-py3-none-any.whl (52 kB)\n",
            "\u001b[2K     \u001b[90m━━━━━━━━━━━━━━━━━━━━━━━━━━━━━━━━━━━━━━━━\u001b[0m \u001b[32m53.0/53.0 kB\u001b[0m \u001b[31m8.1 MB/s\u001b[0m eta \u001b[36m0:00:00\u001b[0m\n",
            "\u001b[?25hRequirement already satisfied: scikit-image in /usr/local/lib/python3.10/dist-packages (from rembg) (0.19.3)\n",
            "Requirement already satisfied: scipy in /usr/local/lib/python3.10/dist-packages (from rembg) (1.11.4)\n",
            "Requirement already satisfied: tqdm in /usr/local/lib/python3.10/dist-packages (from rembg) (4.66.4)\n",
            "Requirement already satisfied: filelock in /usr/local/lib/python3.10/dist-packages (from torch) (3.15.3)\n",
            "Requirement already satisfied: typing-extensions>=4.8.0 in /usr/local/lib/python3.10/dist-packages (from torch) (4.12.2)\n",
            "Requirement already satisfied: sympy in /usr/local/lib/python3.10/dist-packages (from torch) (1.12.1)\n",
            "Requirement already satisfied: networkx in /usr/local/lib/python3.10/dist-packages (from torch) (3.3)\n",
            "Requirement already satisfied: jinja2 in /usr/local/lib/python3.10/dist-packages (from torch) (3.1.4)\n",
            "Requirement already satisfied: fsspec in /usr/local/lib/python3.10/dist-packages (from torch) (2023.6.0)\n",
            "Requirement already satisfied: nvidia-cuda-nvrtc-cu12==12.1.105 in /usr/local/lib/python3.10/dist-packages (from torch) (12.1.105)\n",
            "Requirement already satisfied: nvidia-cuda-runtime-cu12==12.1.105 in /usr/local/lib/python3.10/dist-packages (from torch) (12.1.105)\n",
            "Requirement already satisfied: nvidia-cuda-cupti-cu12==12.1.105 in /usr/local/lib/python3.10/dist-packages (from torch) (12.1.105)\n",
            "Requirement already satisfied: nvidia-cudnn-cu12==8.9.2.26 in /usr/local/lib/python3.10/dist-packages (from torch) (8.9.2.26)\n",
            "Requirement already satisfied: nvidia-cublas-cu12==12.1.3.1 in /usr/local/lib/python3.10/dist-packages (from torch) (12.1.3.1)\n",
            "Requirement already satisfied: nvidia-cufft-cu12==11.0.2.54 in /usr/local/lib/python3.10/dist-packages (from torch) (11.0.2.54)\n",
            "Requirement already satisfied: nvidia-curand-cu12==10.3.2.106 in /usr/local/lib/python3.10/dist-packages (from torch) (10.3.2.106)\n",
            "Requirement already satisfied: nvidia-cusolver-cu12==11.4.5.107 in /usr/local/lib/python3.10/dist-packages (from torch) (11.4.5.107)\n",
            "Requirement already satisfied: nvidia-cusparse-cu12==12.1.0.106 in /usr/local/lib/python3.10/dist-packages (from torch) (12.1.0.106)\n",
            "Requirement already satisfied: nvidia-nccl-cu12==2.20.5 in /usr/local/lib/python3.10/dist-packages (from torch) (2.20.5)\n",
            "Requirement already satisfied: nvidia-nvtx-cu12==12.1.105 in /usr/local/lib/python3.10/dist-packages (from torch) (12.1.105)\n",
            "Requirement already satisfied: triton==2.3.0 in /usr/local/lib/python3.10/dist-packages (from torch) (2.3.0)\n",
            "Requirement already satisfied: nvidia-nvjitlink-cu12 in /usr/local/lib/python3.10/dist-packages (from nvidia-cusolver-cu12==11.4.5.107->torch) (12.5.40)\n",
            "Requirement already satisfied: torchvision in /usr/local/lib/python3.10/dist-packages (from timm) (0.18.0+cu121)\n",
            "Requirement already satisfied: pyyaml in /usr/local/lib/python3.10/dist-packages (from timm) (6.0.1)\n",
            "Requirement already satisfied: huggingface_hub in /usr/local/lib/python3.10/dist-packages (from timm) (0.23.4)\n",
            "Requirement already satisfied: safetensors in /usr/local/lib/python3.10/dist-packages (from timm) (0.4.3)\n",
            "Requirement already satisfied: pycparser in /usr/local/lib/python3.10/dist-packages (from cffi>=1.0.0->pyheif) (2.22)\n",
            "Requirement already satisfied: packaging>=20.9 in /usr/local/lib/python3.10/dist-packages (from huggingface_hub->timm) (24.1)\n",
            "Requirement already satisfied: requests in /usr/local/lib/python3.10/dist-packages (from huggingface_hub->timm) (2.31.0)\n",
            "Requirement already satisfied: MarkupSafe>=2.0 in /usr/local/lib/python3.10/dist-packages (from jinja2->torch) (2.1.5)\n",
            "Requirement already satisfied: attrs>=22.2.0 in /usr/local/lib/python3.10/dist-packages (from jsonschema->rembg) (23.2.0)\n",
            "Requirement already satisfied: jsonschema-specifications>=2023.03.6 in /usr/local/lib/python3.10/dist-packages (from jsonschema->rembg) (2023.12.1)\n",
            "Requirement already satisfied: referencing>=0.28.4 in /usr/local/lib/python3.10/dist-packages (from jsonschema->rembg) (0.35.1)\n",
            "Requirement already satisfied: rpds-py>=0.7.1 in /usr/local/lib/python3.10/dist-packages (from jsonschema->rembg) (0.18.1)\n",
            "Collecting coloredlogs (from onnxruntime->rembg)\n",
            "  Downloading coloredlogs-15.0.1-py2.py3-none-any.whl (46 kB)\n",
            "\u001b[2K     \u001b[90m━━━━━━━━━━━━━━━━━━━━━━━━━━━━━━━━━━━━━━━━\u001b[0m \u001b[32m46.0/46.0 kB\u001b[0m \u001b[31m7.1 MB/s\u001b[0m eta \u001b[36m0:00:00\u001b[0m\n",
            "\u001b[?25hRequirement already satisfied: flatbuffers in /usr/local/lib/python3.10/dist-packages (from onnxruntime->rembg) (24.3.25)\n",
            "Requirement already satisfied: protobuf in /usr/local/lib/python3.10/dist-packages (from onnxruntime->rembg) (3.20.3)\n",
            "Requirement already satisfied: platformdirs>=2.5.0 in /usr/local/lib/python3.10/dist-packages (from pooch->rembg) (4.2.2)\n",
            "Requirement already satisfied: numba!=0.49.0 in /usr/local/lib/python3.10/dist-packages (from pymatting->rembg) (0.58.1)\n",
            "Requirement already satisfied: imageio>=2.4.1 in /usr/local/lib/python3.10/dist-packages (from scikit-image->rembg) (2.31.6)\n",
            "Requirement already satisfied: tifffile>=2019.7.26 in /usr/local/lib/python3.10/dist-packages (from scikit-image->rembg) (2024.6.18)\n",
            "Requirement already satisfied: PyWavelets>=1.1.1 in /usr/local/lib/python3.10/dist-packages (from scikit-image->rembg) (1.6.0)\n",
            "Requirement already satisfied: mpmath<1.4.0,>=1.1.0 in /usr/local/lib/python3.10/dist-packages (from sympy->torch) (1.3.0)\n",
            "Requirement already satisfied: llvmlite<0.42,>=0.41.0dev0 in /usr/local/lib/python3.10/dist-packages (from numba!=0.49.0->pymatting->rembg) (0.41.1)\n",
            "Requirement already satisfied: charset-normalizer<4,>=2 in /usr/local/lib/python3.10/dist-packages (from requests->huggingface_hub->timm) (3.3.2)\n",
            "Requirement already satisfied: idna<4,>=2.5 in /usr/local/lib/python3.10/dist-packages (from requests->huggingface_hub->timm) (3.7)\n",
            "Requirement already satisfied: urllib3<3,>=1.21.1 in /usr/local/lib/python3.10/dist-packages (from requests->huggingface_hub->timm) (2.0.7)\n",
            "Requirement already satisfied: certifi>=2017.4.17 in /usr/local/lib/python3.10/dist-packages (from requests->huggingface_hub->timm) (2024.6.2)\n",
            "Collecting humanfriendly>=9.1 (from coloredlogs->onnxruntime->rembg)\n",
            "  Downloading humanfriendly-10.0-py2.py3-none-any.whl (86 kB)\n",
            "\u001b[2K     \u001b[90m━━━━━━━━━━━━━━━━━━━━━━━━━━━━━━━━━━━━━━━━\u001b[0m \u001b[32m86.8/86.8 kB\u001b[0m \u001b[31m14.1 MB/s\u001b[0m eta \u001b[36m0:00:00\u001b[0m\n",
            "\u001b[?25hInstalling collected packages: humanfriendly, pymatting, pyheif, coloredlogs, onnxruntime, rembg\n",
            "Successfully installed coloredlogs-15.0.1 humanfriendly-10.0 onnxruntime-1.18.1 pyheif-0.7.1 pymatting-1.1.12 rembg-2.0.57\n"
          ]
        }
      ]
    },
    {
      "cell_type": "code",
      "source": [
        "import os\n",
        "import cv2\n",
        "import torch\n",
        "import numpy as np\n",
        "import pyheif\n",
        "from PIL import Image\n",
        "from rembg import remove\n",
        "from torchvision import transforms\n",
        "import timm\n",
        "import torch.nn.functional as F\n",
        "\n",
        "class RheumatoidArthritisDetector:\n",
        "    def __init__(self, model_checkpoint, device=None):\n",
        "        self.device = device or (\"cuda\" if torch.cuda.is_available() else \"cpu\")\n",
        "        self.model = self.load_model(model_checkpoint)\n",
        "        self.transform = transforms.Compose([\n",
        "            transforms.Resize((224, 224)),\n",
        "            transforms.ToTensor(),\n",
        "            transforms.Normalize(mean=[0.5, 0.5, 0.5], std=[0.5, 0.5, 0.5])\n",
        "        ])\n",
        "\n",
        "    def load_model(self, model_checkpoint):\n",
        "        model = timm.create_model('vit_base_patch16_224.augreg_in21k', pretrained=False, num_classes=2)\n",
        "        checkpoint = torch.load(model_checkpoint, map_location=self.device)\n",
        "        model.load_state_dict(checkpoint)\n",
        "        model.to(self.device)\n",
        "        model.eval()\n",
        "        return model\n",
        "\n",
        "    def convert_heic_to_image(self, heic_path):\n",
        "        heif_file = pyheif.read(heic_path)\n",
        "        return Image.frombytes(\n",
        "            heif_file.mode,\n",
        "            heif_file.size,\n",
        "            heif_file.data,\n",
        "            \"raw\",\n",
        "            heif_file.mode,\n",
        "            heif_file.stride,\n",
        "        )\n",
        "\n",
        "    def convert_to_jpg(self, input_directory, output_directory):\n",
        "        os.makedirs(output_directory, exist_ok=True)\n",
        "        for filename in os.listdir(input_directory):\n",
        "            file_path = os.path.join(input_directory, filename)\n",
        "            output_file_path = os.path.join(output_directory, os.path.splitext(filename)[0] + \".jpg\")\n",
        "\n",
        "            if filename.lower().endswith(\".heic\"):\n",
        "                img = self.convert_heic_to_image(file_path)\n",
        "            elif filename.lower().endswith(\".pdf\"):\n",
        "                images = Image.open(file_path).convert(\"RGB\")\n",
        "                images.save(output_file_path, \"JPEG\")\n",
        "                continue\n",
        "            else:\n",
        "                img = Image.open(file_path)\n",
        "\n",
        "            img = img.convert(\"RGB\")  # Convert RGBA to RGB\n",
        "            img.save(output_file_path, \"JPEG\")\n",
        "            img.close()\n",
        "\n",
        "    def remove_background(self, input_directory):\n",
        "        for filename in os.listdir(input_directory):\n",
        "            if filename.lower().endswith(\".jpg\"):\n",
        "                file_path = os.path.join(input_directory, filename)\n",
        "                output_file_path = file_path  # Overwrite the same file\n",
        "\n",
        "                input_image = Image.open(file_path)\n",
        "                output_image = remove(input_image)\n",
        "                output_image = output_image.convert(\"RGB\")  # Ensure image is in RGB mode\n",
        "                output_image.save(output_file_path)\n",
        "                input_image.close()\n",
        "\n",
        "    def flip_images(self, input_directory):\n",
        "        for filename in os.listdir(input_directory):\n",
        "            if filename.lower().endswith(\".jpg\"):\n",
        "                file_path = os.path.join(input_directory, filename)\n",
        "                img = Image.open(file_path)\n",
        "                flipped_img = img.transpose(Image.FLIP_LEFT_RIGHT)\n",
        "                flipped_img.save(file_path)\n",
        "                img.close()\n",
        "\n",
        "    def preprocess_image(self, image_path):\n",
        "        image = Image.open(image_path)\n",
        "        return self.transform(image).unsqueeze(0).to(self.device)\n",
        "\n",
        "    def predict(self, image_tensor):\n",
        "        with torch.no_grad():\n",
        "            output = self.model(image_tensor)\n",
        "            probabilities = F.softmax(output, dim=1)\n",
        "        return probabilities[0][1].item()  # Rheumatoid arthritis class probability\n",
        "\n",
        "    def detect_rheumatoid_arthritis(self, right_hand_dir, left_hand_dir):\n",
        "        self.convert_to_jpg(right_hand_dir, right_hand_dir)\n",
        "        self.convert_to_jpg(left_hand_dir, left_hand_dir)\n",
        "\n",
        "        self.remove_background(right_hand_dir)\n",
        "        self.remove_background(left_hand_dir)\n",
        "\n",
        "        self.flip_images(left_hand_dir)\n",
        "\n",
        "        right_hand_images = [img for img in os.listdir(right_hand_dir) if img.lower().endswith(\".jpg\")]\n",
        "        left_hand_images = [img for img in os.listdir(left_hand_dir) if img.lower().endswith(\".jpg\")]\n",
        "\n",
        "        if not right_hand_images:\n",
        "            raise ValueError(\"右手の画像が存在しません。\")\n",
        "        if not left_hand_images:\n",
        "            raise ValueError(\"左手の画像が存在しません。\")\n",
        "\n",
        "        right_hand_results = [self.predict(self.preprocess_image(os.path.join(right_hand_dir, img))) for img in right_hand_images]\n",
        "        left_hand_results = [self.predict(self.preprocess_image(os.path.join(left_hand_dir, img))) for img in left_hand_images]\n",
        "\n",
        "        right_hand_avg_prob = sum(right_hand_results) / len(right_hand_results)\n",
        "        left_hand_avg_prob = sum(left_hand_results) / len(left_hand_results)\n",
        "\n",
        "        return {\"right_hand\": right_hand_avg_prob, \"left_hand\": left_hand_avg_prob}\n",
        "\n",
        "# 使用例\n",
        "detector = RheumatoidArthritisDetector(model_checkpoint=\"/content/drive/MyDrive/OptPhotoFiles/model.pth\")\n",
        "result = detector.detect_rheumatoid_arthritis(\n",
        "    right_hand_dir=\"/content/drive/MyDrive/image_righthand\",\n",
        "    left_hand_dir=\"/content/drive/MyDrive/image_lefthand\"\n",
        ")\n",
        "print(result)\n"
      ],
      "metadata": {
        "colab": {
          "base_uri": "https://localhost:8080/"
        },
        "id": "GUAw6vHOS57c",
        "outputId": "c047b786-7959-402d-d487-9bf6aaf96d4c"
      },
      "execution_count": 16,
      "outputs": [
        {
          "output_type": "stream",
          "name": "stdout",
          "text": [
            "{'right_hand': 0.6743829846382141, 'left_hand': 0.643915057182312}\n"
          ]
        }
      ]
    }
  ]
}