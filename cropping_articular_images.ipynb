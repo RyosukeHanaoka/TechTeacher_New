{
  "nbformat": 4,
  "nbformat_minor": 0,
  "metadata": {
    "colab": {
      "provenance": [],
      "mount_file_id": "1Ct6-2AjCHzQ50GpW01_5T_whnMIcRocn",
      "authorship_tag": "ABX9TyOcZwInuug8VZPMzlqUdrhJ",
      "include_colab_link": true
    },
    "kernelspec": {
      "name": "python3",
      "display_name": "Python 3"
    },
    "language_info": {
      "name": "python"
    }
  },
  "cells": [
    {
      "cell_type": "markdown",
      "metadata": {
        "id": "view-in-github",
        "colab_type": "text"
      },
      "source": [
        "<a href=\"https://colab.research.google.com/github/RyosukeHanaoka/TechTeacher_New/blob/main/cropping_articular_images.ipynb\" target=\"_parent\"><img src=\"https://colab.research.google.com/assets/colab-badge.svg\" alt=\"Open In Colab\"/></a>"
      ]
    },
    {
      "cell_type": "markdown",
      "source": [
        "#アノテーション情報に従って、個々の関節の画像を切り出す。\n",
        "今回、\"xpFilesRightHand\"から右手のxpを記録したpngファイルを読み取り、RectLabelを使用して作成したアノテーション情報を用いて、個々の関節の画像を切り出す。\n",
        "画像ファイルとアノテーション情報を記したjsonファイルが収められたディレクトリは、content/drive/MyDrive/xpFilesRightHandに収まられている。\n",
        "画像のフォーマットはすべてpngである。ファイル名の0番目から5番目までの文字が被検者のid番号、42番目から47番目までの数字が画像の撮影日となっている。この部分を使って新たなファイル名とディレクトリ名を作成する。\n",
        "アノテーション情報を記したjsonファイルの名前は\"coco.json\"とする。アノテーションクラスは、'wrist', 'MCP1st', 'IP', 'PIPs', 'MCPs', 'DIPs'の6クラスである。\n",
        "さて、\"coco.json\"を読み取って、画像から、bounding_boxの境界線に沿って画像の一部を切り出す。\n",
        "切り出した画像は、クラスごとに別のサブディレクトリに格納。6けたのidと6けたの撮影日の間を_で結んだ合計13文字の文字列のあとに、さらに_を置いて、クラス名を添付した文字列をこのサブディレクトリの名称とする。\n",
        "これらのサブディレクトリを格納するディレクトリの名前は、6けたのidと6けたの撮影日の間を_で結んだ合計13文字の文字列とする。\n",
        "さらにこのディレクトリすべてを格納するディレクトリの名称は、'articular_cropping'とする。"
      ],
      "metadata": {
        "id": "Kk2WA899i4og"
      }
    },
    {
      "cell_type": "code",
      "source": [
        "from google.colab import drive\n",
        "import os\n",
        "import shutil\n",
        "import cv2\n",
        "import numpy as np\n",
        "import json\n",
        "from PIL import Image"
      ],
      "metadata": {
        "id": "1uRngTMrk96U"
      },
      "execution_count": 1,
      "outputs": []
    },
    {
      "cell_type": "code",
      "source": [
        "# Google Driveを呼び出す。\n",
        "drive.mount('/content/drive')"
      ],
      "metadata": {
        "colab": {
          "base_uri": "https://localhost:8080/"
        },
        "id": "mb4wkPm8knR9",
        "outputId": "7517871c-f52c-4256-b803-3256850e6cbf"
      },
      "execution_count": 2,
      "outputs": [
        {
          "output_type": "stream",
          "name": "stdout",
          "text": [
            "Drive already mounted at /content/drive; to attempt to forcibly remount, call drive.mount(\"/content/drive\", force_remount=True).\n"
          ]
        }
      ]
    },
    {
      "cell_type": "markdown",
      "source": [
        "jsonファイルの読み込み"
      ],
      "metadata": {
        "id": "9HRmLRm_vyZn"
      }
    },
    {
      "cell_type": "code",
      "source": [
        "# COCO形式のJSONファイルのパス\n",
        "json_file_path = '/content/drive/MyDrive/coco.json'\n",
        "\n",
        "# JSONファイルを読み込む関数\n",
        "def load_json(file_path):\n",
        "    with open(file_path, 'r') as file:\n",
        "        data = json.load(file)\n",
        "    return data\n",
        "\n",
        "# JSONファイルからアノテーション情報を読み込む\n",
        "coco_data = load_json(json_file_path)"
      ],
      "metadata": {
        "id": "hP2UDgB8lZrU"
      },
      "execution_count": 3,
      "outputs": []
    },
    {
      "cell_type": "markdown",
      "source": [
        "画像の切り出し"
      ],
      "metadata": {
        "id": "edjZxnz6wAnP"
      }
    },
    {
      "cell_type": "code",
      "source": [
        "def crop_and_save_images(coco_data, images_dir, output_dir):\n",
        "    for img_info in coco_data['images']:\n",
        "        # 画像ファイル名とパスを取得\n",
        "        file_name = img_info['file_name']\n",
        "        img_path = os.path.join(images_dir, file_name)\n",
        "\n",
        "        # 被検者IDと撮影日を抽出\n",
        "        subject_id = file_name[:6]\n",
        "        capture_date = file_name[42:48]\n",
        "        dir_name = f\"{subject_id}_{capture_date}\"\n",
        "\n",
        "        # 画像を読み込む\n",
        "        img = Image.open(img_path)\n",
        "\n",
        "        # この画像に関連するアノテーションを見つける\n",
        "        for ann in coco_data['annotations']:\n",
        "            if ann['image_id'] == img_info['id']:\n",
        "                # Bounding Boxを取得して画像を切り出す\n",
        "                bbox = ann['bbox']\n",
        "                x, y, width, height = bbox\n",
        "                cropped_img = img.crop((x, y, x + width, y + height))\n",
        "\n",
        "                # クラス名とアノテーションIDを取得\n",
        "                category_id = ann['category_id']\n",
        "                annotation_id = ann['id']\n",
        "                category_name = [c['name'] for c in coco_data['categories'] if c['id'] == category_id][0]\n",
        "\n",
        "                # 保存先ディレクトリを作成\n",
        "                class_dir = os.path.join(output_dir, dir_name, f\"{dir_name}_{category_name}\")\n",
        "                os.makedirs(class_dir, exist_ok=True)\n",
        "\n",
        "                # 切り出した画像を保存（アノテーションIDをファイル名に追加）\n",
        "                cropped_file_name = f\"{subject_id}_{capture_date}_{category_name}_{annotation_id}.png\"\n",
        "                cropped_img.save(os.path.join(class_dir, cropped_file_name))\n",
        "\n",
        "# 画像ディレクトリと出力ディレクトリのパス\n",
        "images_dir = '/content/drive/MyDrive/xpFilesRightHand'\n",
        "output_dir = '/content/drive/MyDrive/articular_cropping'\n",
        "\n",
        "crop_and_save_images(coco_data, images_dir, output_dir)"
      ],
      "metadata": {
        "id": "QArSJxrV33C8"
      },
      "execution_count": null,
      "outputs": []
    },
    {
      "cell_type": "markdown",
      "source": [
        "#アノテーションクラス毎に画像を格納する。\n",
        "以降、異常所見を検出するモデルを作成するために、アノテーションクラス毎にDETRを訓練する。そのためには画像をアノテーションクラス毎にまとめてディレクトリに格納しておいた方が能率がよい。そのような目的に沿って、関数\"crop_and_save_images_by_class\"を定義し\"cropped_joints_for_annotation\"というディレクトリに格納した。"
      ],
      "metadata": {
        "id": "YVxmxVI97ejB"
      }
    },
    {
      "cell_type": "code",
      "source": [
        "def crop_and_save_images_by_class(coco_data, images_dir, output_dir):\n",
        "    for img_info in coco_data['images']:\n",
        "        # 画像ファイル名とパスを取得\n",
        "        file_name = img_info['file_name']\n",
        "        img_path = os.path.join(images_dir, file_name)\n",
        "\n",
        "        # 被検者IDと撮影日を抽出\n",
        "        subject_id = file_name[:6]\n",
        "        capture_date = file_name[42:48]\n",
        "\n",
        "        # 画像を読み込む\n",
        "        img = Image.open(img_path)\n",
        "\n",
        "        # この画像に関連するアノテーションを見つける\n",
        "        for ann in coco_data['annotations']:\n",
        "            if ann['image_id'] == img_info['id']:\n",
        "                # Bounding Boxを取得して画像を切り出す\n",
        "                bbox = ann['bbox']\n",
        "                x, y, width, height = bbox\n",
        "                cropped_img = img.crop((x, y, x + width, y + height))\n",
        "\n",
        "                # クラス名とアノテーションIDを取得\n",
        "                category_id = ann['category_id']\n",
        "                annotation_id = ann['id']\n",
        "                category_name = [c['name'] for c in coco_data['categories'] if c['id'] == category_id][0]\n",
        "\n",
        "                # 保存先ディレクトリを作成\n",
        "                class_dir = os.path.join(output_dir, category_name)\n",
        "                os.makedirs(class_dir, exist_ok=True)\n",
        "\n",
        "                # 切り出した画像を保存（アノテーションIDをファイル名に追加）\n",
        "                cropped_file_name = f\"{subject_id}_{capture_date}_{annotation_id}.png\"\n",
        "                cropped_img.save(os.path.join(class_dir, cropped_file_name))\n",
        "\n",
        "# 画像ディレクトリと出力ディレクトリのパス\n",
        "images_dir = '/content/drive/MyDrive/xpFilesRightHand'\n",
        "output_dir = '/content/drive/MyDrive/cropped_joints_for_annotation'\n",
        "\n",
        "crop_and_save_images_by_class(coco_data, images_dir, output_dir)\n"
      ],
      "metadata": {
        "id": "X6b9VT3M66Kn"
      },
      "execution_count": 4,
      "outputs": []
    },
    {
      "cell_type": "code",
      "source": [
        "# 対象のディレクトリ\n",
        "target_dir = \"/content/drive/MyDrive/cropped_joints_for_annotation/wrist\"\n",
        "\n",
        "# ファイル数を計算\n",
        "file_count = sum([len(files) for _, _, files in os.walk(target_dir)])\n",
        "\n",
        "print(f\"Total number of files in {target_dir}: {file_count}\")"
      ],
      "metadata": {
        "colab": {
          "base_uri": "https://localhost:8080/"
        },
        "id": "KnqFkgtYnqpT",
        "outputId": "37443b7e-65d9-47f0-d2a8-606d2f7944de"
      },
      "execution_count": 5,
      "outputs": [
        {
          "output_type": "stream",
          "name": "stdout",
          "text": [
            "Total number of files in /content/drive/MyDrive/cropped_joints_for_annotation/wrist: 457\n"
          ]
        }
      ]
    },
    {
      "cell_type": "code",
      "source": [
        "# 対象のディレクトリ\n",
        "target_dir = \"/content/drive/MyDrive/cropped_joints_for_annotation/IP\"\n",
        "\n",
        "# ファイル数を計算\n",
        "file_count = sum([len(files) for _, _, files in os.walk(target_dir)])\n",
        "\n",
        "print(f\"Total number of files in {target_dir}: {file_count}\")"
      ],
      "metadata": {
        "colab": {
          "base_uri": "https://localhost:8080/"
        },
        "id": "6p68woetonyO",
        "outputId": "9a735355-fc68-4249-ad71-24203b4db35d"
      },
      "execution_count": 9,
      "outputs": [
        {
          "output_type": "stream",
          "name": "stdout",
          "text": [
            "Total number of files in /content/drive/MyDrive/cropped_joints_for_annotation/IP: 455\n"
          ]
        }
      ]
    },
    {
      "cell_type": "code",
      "source": [
        "# 対象のディレクトリ\n",
        "target_dir = \"/content/drive/MyDrive/cropped_joints_for_annotation/MCP1st\"\n",
        "\n",
        "# ファイル数を計算\n",
        "file_count = sum([len(files) for _, _, files in os.walk(target_dir)])\n",
        "\n",
        "print(f\"Total number of files in {target_dir}: {file_count}\")"
      ],
      "metadata": {
        "colab": {
          "base_uri": "https://localhost:8080/"
        },
        "id": "DP3v__FyopPR",
        "outputId": "ad717172-6c3c-4d6e-bc76-54f7550720bf"
      },
      "execution_count": 10,
      "outputs": [
        {
          "output_type": "stream",
          "name": "stdout",
          "text": [
            "Total number of files in /content/drive/MyDrive/cropped_joints_for_annotation/MCP1st: 457\n"
          ]
        }
      ]
    },
    {
      "cell_type": "code",
      "source": [
        "# 対象のディレクトリ\n",
        "target_dir = \"/content/drive/MyDrive/cropped_joints_for_annotation/MCPs\"\n",
        "\n",
        "# ファイル数を計算\n",
        "file_count = sum([len(files) for _, _, files in os.walk(target_dir)])\n",
        "\n",
        "print(f\"Total number of files in {target_dir}: {file_count}\")"
      ],
      "metadata": {
        "colab": {
          "base_uri": "https://localhost:8080/"
        },
        "id": "KpwW-CtKoqKr",
        "outputId": "3cb76cbf-7458-4968-d07b-b726963d350b"
      },
      "execution_count": 12,
      "outputs": [
        {
          "output_type": "stream",
          "name": "stdout",
          "text": [
            "Total number of files in /content/drive/MyDrive/cropped_joints_for_annotation/MCPs: 1830\n"
          ]
        }
      ]
    },
    {
      "cell_type": "code",
      "source": [
        "# 対象のディレクトリ\n",
        "target_dir = \"/content/drive/MyDrive/cropped_joints_for_annotation/PIPs\"\n",
        "\n",
        "# ファイル数を計算\n",
        "file_count = sum([len(files) for _, _, files in os.walk(target_dir)])\n",
        "\n",
        "print(f\"Total number of files in {target_dir}: {file_count}\")"
      ],
      "metadata": {
        "colab": {
          "base_uri": "https://localhost:8080/"
        },
        "id": "YyG5ldKJo4hW",
        "outputId": "c09e85be-a05c-4466-9c25-d1e7467268c1"
      },
      "execution_count": 13,
      "outputs": [
        {
          "output_type": "stream",
          "name": "stdout",
          "text": [
            "Total number of files in /content/drive/MyDrive/cropped_joints_for_annotation/PIPs: 1828\n"
          ]
        }
      ]
    },
    {
      "cell_type": "code",
      "source": [
        "# 対象のディレクトリ\n",
        "target_dir = \"/content/drive/MyDrive/cropped_joints_for_annotation/DIPs\"\n",
        "\n",
        "# ファイル数を計算\n",
        "file_count = sum([len(files) for _, _, files in os.walk(target_dir)])\n",
        "\n",
        "print(f\"Total number of files in {target_dir}: {file_count}\")"
      ],
      "metadata": {
        "colab": {
          "base_uri": "https://localhost:8080/"
        },
        "id": "OJfa8NIIo8UU",
        "outputId": "8f632f3a-3bbf-443b-c6fb-d0d69821dbdd"
      },
      "execution_count": 14,
      "outputs": [
        {
          "output_type": "stream",
          "name": "stdout",
          "text": [
            "Total number of files in /content/drive/MyDrive/cropped_joints_for_annotation/DIPs: 1826\n"
          ]
        }
      ]
    },
    {
      "cell_type": "markdown",
      "source": [
        "#左手鏡像画像の切り出し\n",
        "より多くの画像を病変のアノテーションに使用できるようにするため、左手画像の鏡像も同様に切り出して使用する。"
      ],
      "metadata": {
        "id": "p-EN_SQMOUni"
      }
    },
    {
      "cell_type": "code",
      "source": [
        "# COCO形式のJSONファイルのパス\n",
        "json_file_path = '/content/drive/MyDrive/mirror_image/coco.json'\n",
        "\n",
        "# JSONファイルを読み込む関数\n",
        "def load_json(file_path):\n",
        "    with open(file_path, 'r') as file:\n",
        "        data = json.load(file)\n",
        "    return data\n",
        "\n",
        "# JSONファイルからアノテーション情報を読み込む\n",
        "coco_data = load_json(json_file_path)"
      ],
      "metadata": {
        "id": "toAYl0uNOzPq"
      },
      "execution_count": 6,
      "outputs": []
    },
    {
      "cell_type": "code",
      "source": [
        "def crop_and_save_images_by_class(coco_data, images_dir, output_dir):\n",
        "    for img_info in coco_data['images']:\n",
        "        # 画像ファイル名とパスを取得\n",
        "        file_name = img_info['file_name']\n",
        "        img_path = os.path.join(images_dir, file_name)\n",
        "\n",
        "        # 被検者IDと撮影日を抽出\n",
        "        subject_id = file_name[9:15]\n",
        "        capture_date = file_name[51:57]\n",
        "\n",
        "        # 画像を読み込む\n",
        "        img = Image.open(img_path)\n",
        "\n",
        "        # この画像に関連するアノテーションを見つける\n",
        "        for ann in coco_data['annotations']:\n",
        "            if ann['image_id'] == img_info['id']:\n",
        "                # Bounding Boxを取得して画像を切り出す\n",
        "                bbox = ann['bbox']\n",
        "                x, y, width, height = bbox\n",
        "                cropped_img = img.crop((x, y, x + width, y + height))\n",
        "\n",
        "                # クラス名とアノテーションIDを取得\n",
        "                category_id = ann['category_id']\n",
        "                annotation_id = ann['id']\n",
        "                category_name = [c['name'] for c in coco_data['categories'] if c['id'] == category_id][0]\n",
        "\n",
        "                # 保存先ディレクトリを作成\n",
        "                class_dir = os.path.join(output_dir, category_name)\n",
        "                os.makedirs(class_dir, exist_ok=True)\n",
        "\n",
        "                # 切り出した画像を保存（アノテーションIDをファイル名に追加）\n",
        "                cropped_file_name = f\"{subject_id}_{capture_date}_{annotation_id}.png\"\n",
        "                cropped_img.save(os.path.join(class_dir, cropped_file_name))\n",
        "\n",
        "# 画像ディレクトリと出力ディレクトリのパス\n",
        "images_dir = '/content/drive/MyDrive/mirror_image'\n",
        "output_dir = '/content/drive/MyDrive/cropped_joints_for_annotation_mirror_image'\n",
        "\n",
        "crop_and_save_images_by_class(coco_data, images_dir, output_dir)"
      ],
      "metadata": {
        "id": "RAvYy4B5PDL1"
      },
      "execution_count": 8,
      "outputs": []
    },
    {
      "cell_type": "code",
      "source": [
        "# 対象のディレクトリ\n",
        "target_dir = \"/content/drive/MyDrive/cropped_joints_for_annotation_mirror_image/wrist\"\n",
        "\n",
        "# ファイル数を計算\n",
        "file_count = sum([len(files) for _, _, files in os.walk(target_dir)])\n",
        "\n",
        "print(f\"Total number of files in {target_dir}: {file_count}\")"
      ],
      "metadata": {
        "colab": {
          "base_uri": "https://localhost:8080/"
        },
        "id": "1CP-x0HmpDqp",
        "outputId": "7300313b-9b4e-4375-d825-f9f6d8cbee44"
      },
      "execution_count": 15,
      "outputs": [
        {
          "output_type": "stream",
          "name": "stdout",
          "text": [
            "Total number of files in /content/drive/MyDrive/cropped_joints_for_annotation_mirror_image/wrist: 457\n"
          ]
        }
      ]
    },
    {
      "cell_type": "code",
      "source": [
        "# 対象のディレクトリ\n",
        "target_dir = \"/content/drive/MyDrive/cropped_joints_for_annotation_mirror_image/IP\"\n",
        "\n",
        "# ファイル数を計算\n",
        "file_count = sum([len(files) for _, _, files in os.walk(target_dir)])\n",
        "\n",
        "print(f\"Total number of files in {target_dir}: {file_count}\")"
      ],
      "metadata": {
        "colab": {
          "base_uri": "https://localhost:8080/"
        },
        "id": "s52CLm7QpKz7",
        "outputId": "c0175ada-6d35-41a5-cd92-14361be4b676"
      },
      "execution_count": 16,
      "outputs": [
        {
          "output_type": "stream",
          "name": "stdout",
          "text": [
            "Total number of files in /content/drive/MyDrive/cropped_joints_for_annotation_mirror_image/IP: 456\n"
          ]
        }
      ]
    },
    {
      "cell_type": "code",
      "source": [
        "# 対象のディレクトリ\n",
        "target_dir = \"/content/drive/MyDrive/cropped_joints_for_annotation_mirror_image/MCP1st\"\n",
        "\n",
        "# ファイル数を計算\n",
        "file_count = sum([len(files) for _, _, files in os.walk(target_dir)])\n",
        "\n",
        "print(f\"Total number of files in {target_dir}: {file_count}\")"
      ],
      "metadata": {
        "colab": {
          "base_uri": "https://localhost:8080/"
        },
        "id": "C0K5aO43pLWp",
        "outputId": "f25cd7cb-3e49-4990-8fd1-5ae17c53f2f6"
      },
      "execution_count": 17,
      "outputs": [
        {
          "output_type": "stream",
          "name": "stdout",
          "text": [
            "Total number of files in /content/drive/MyDrive/cropped_joints_for_annotation_mirror_image/MCP1st: 457\n"
          ]
        }
      ]
    },
    {
      "cell_type": "code",
      "source": [
        "# 対象のディレクトリ\n",
        "target_dir = \"/content/drive/MyDrive/cropped_joints_for_annotation_mirror_image/MCPs\"\n",
        "\n",
        "# ファイル数を計算\n",
        "file_count = sum([len(files) for _, _, files in os.walk(target_dir)])\n",
        "\n",
        "print(f\"Total number of files in {target_dir}: {file_count}\")"
      ],
      "metadata": {
        "colab": {
          "base_uri": "https://localhost:8080/"
        },
        "id": "PqSbTXbvpLj9",
        "outputId": "2b035cec-a40b-4c12-bdb5-f091f184ed99"
      },
      "execution_count": 18,
      "outputs": [
        {
          "output_type": "stream",
          "name": "stdout",
          "text": [
            "Total number of files in /content/drive/MyDrive/cropped_joints_for_annotation_mirror_image/MCPs: 1828\n"
          ]
        }
      ]
    },
    {
      "cell_type": "code",
      "source": [
        "# 対象のディレクトリ\n",
        "target_dir = \"/content/drive/MyDrive/cropped_joints_for_annotation_mirror_image/PIPs\"\n",
        "\n",
        "# ファイル数を計算\n",
        "file_count = sum([len(files) for _, _, files in os.walk(target_dir)])\n",
        "\n",
        "print(f\"Total number of files in {target_dir}: {file_count}\")"
      ],
      "metadata": {
        "colab": {
          "base_uri": "https://localhost:8080/"
        },
        "id": "3BHCzu8wpLwt",
        "outputId": "5343f7ad-62c5-4f48-b996-67e2064623b6"
      },
      "execution_count": 19,
      "outputs": [
        {
          "output_type": "stream",
          "name": "stdout",
          "text": [
            "Total number of files in /content/drive/MyDrive/cropped_joints_for_annotation_mirror_image/PIPs: 1828\n"
          ]
        }
      ]
    },
    {
      "cell_type": "code",
      "source": [
        "# 対象のディレクトリ\n",
        "target_dir = \"/content/drive/MyDrive/cropped_joints_for_annotation_mirror_image/DIPs\"\n",
        "\n",
        "# ファイル数を計算\n",
        "file_count = sum([len(files) for _, _, files in os.walk(target_dir)])\n",
        "\n",
        "print(f\"Total number of files in {target_dir}: {file_count}\")"
      ],
      "metadata": {
        "colab": {
          "base_uri": "https://localhost:8080/"
        },
        "id": "p1-bP_mzpL8k",
        "outputId": "cea56a91-722a-4771-cd68-ded02f6485ab"
      },
      "execution_count": 20,
      "outputs": [
        {
          "output_type": "stream",
          "name": "stdout",
          "text": [
            "Total number of files in /content/drive/MyDrive/cropped_joints_for_annotation_mirror_image/DIPs: 1823\n"
          ]
        }
      ]
    }
  ]
}