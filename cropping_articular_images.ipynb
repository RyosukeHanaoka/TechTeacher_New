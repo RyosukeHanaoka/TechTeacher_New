{
  "nbformat": 4,
  "nbformat_minor": 0,
  "metadata": {
    "colab": {
      "provenance": [],
      "mount_file_id": "1Ct6-2AjCHzQ50GpW01_5T_whnMIcRocn",
      "authorship_tag": "ABX9TyO/8w8rPwtgjF6iSh/Lqm8x",
      "include_colab_link": true
    },
    "kernelspec": {
      "name": "python3",
      "display_name": "Python 3"
    },
    "language_info": {
      "name": "python"
    }
  },
  "cells": [
    {
      "cell_type": "markdown",
      "metadata": {
        "id": "view-in-github",
        "colab_type": "text"
      },
      "source": [
        "<a href=\"https://colab.research.google.com/github/RyosukeHanaoka/TechTeacher_New/blob/main/cropping_articular_images.ipynb\" target=\"_parent\"><img src=\"https://colab.research.google.com/assets/colab-badge.svg\" alt=\"Open In Colab\"/></a>"
      ]
    },
    {
      "cell_type": "markdown",
      "source": [
        "#アノテーション情報に従って、個々の関節の画像を切り出す。\n",
        "今回、\"xpFilesRightHand\"から右手のxpを記録したpngファイルを読み取り、RectLabelを使用して作成したアノテーション情報を用いて、個々の関節の画像を切り出す。\n",
        "画像ファイルとアノテーション情報を記したjsonファイルが収められたディレクトリは、content/drive/MyDrive/xpFilesRightHandに収まられている。\n",
        "画像のフォーマットはすべてpngである。ファイル名の0番目から5番目までの文字が被検者のid番号、42番目から47番目までの数字が画像の撮影日となっている。この部分を使って新たなファイル名とディレクトリ名を作成する。\n",
        "アノテーション情報を記したjsonファイルの名前は\"coco.json\"とする。アノテーションクラスは、'wrist', 'MCP1st', 'IP', 'PIPs', 'MCPs', 'DIPs'の6クラスである。\n",
        "さて、\"coco.json\"を読み取って、画像から、bounding_boxの境界線に沿って画像の一部を切り出す。\n",
        "切り出した画像は、クラスごとに別のサブディレクトリに格納。6けたのidと6けたの撮影日の間を_で結んだ合計13文字の文字列のあとに、さらに_を置いて、クラス名を添付した文字列をこのサブディレクトリの名称とする。\n",
        "これらのサブディレクトリを格納するディレクトリの名前は、6けたのidと6けたの撮影日の間を_で結んだ合計13文字の文字列とする。\n",
        "さらにこのディレクトリすべてを格納するディレクトリの名称は、'articular_cropping'とする。"
      ],
      "metadata": {
        "id": "Kk2WA899i4og"
      }
    },
    {
      "cell_type": "code",
      "source": [
        "from google.colab import drive\n",
        "import os\n",
        "import shutil\n",
        "import cv2\n",
        "import numpy as np\n",
        "import json\n",
        "from PIL import Image"
      ],
      "metadata": {
        "id": "1uRngTMrk96U"
      },
      "execution_count": 5,
      "outputs": []
    },
    {
      "cell_type": "code",
      "source": [
        "# Google Driveを呼び出す。\n",
        "drive.mount('/content/drive')"
      ],
      "metadata": {
        "colab": {
          "base_uri": "https://localhost:8080/"
        },
        "id": "mb4wkPm8knR9",
        "outputId": "1eef3660-5b1b-4a27-fd9b-ca8e01c473e0"
      },
      "execution_count": 4,
      "outputs": [
        {
          "output_type": "stream",
          "name": "stdout",
          "text": [
            "Drive already mounted at /content/drive; to attempt to forcibly remount, call drive.mount(\"/content/drive\", force_remount=True).\n"
          ]
        }
      ]
    },
    {
      "cell_type": "markdown",
      "source": [
        "jsonファイルの読み込み"
      ],
      "metadata": {
        "id": "9HRmLRm_vyZn"
      }
    },
    {
      "cell_type": "code",
      "source": [
        "# COCO形式のJSONファイルのパス\n",
        "json_file_path = '/content/drive/MyDrive/coco.json'\n",
        "\n",
        "# JSONファイルを読み込む関数\n",
        "def load_json(file_path):\n",
        "    with open(file_path, 'r') as file:\n",
        "        data = json.load(file)\n",
        "    return data\n",
        "\n",
        "# JSONファイルからアノテーション情報を読み込む\n",
        "coco_data = load_json(json_file_path)"
      ],
      "metadata": {
        "id": "hP2UDgB8lZrU"
      },
      "execution_count": 9,
      "outputs": []
    },
    {
      "cell_type": "markdown",
      "source": [
        "画像の切り出し"
      ],
      "metadata": {
        "id": "edjZxnz6wAnP"
      }
    },
    {
      "cell_type": "code",
      "source": [
        "#関数crop_and_save_imagesの定義\n",
        "def crop_and_save_images(coco_data, images_dir, output_dir):\n",
        "    for img_info in coco_data['images']:\n",
        "        # 画像ファイル名とパスを取得\n",
        "        file_name = img_info['file_name']\n",
        "        img_path = os.path.join(images_dir, file_name)\n",
        "\n",
        "        # 被検者IDと撮影日を抽出\n",
        "        subject_id = file_name[:6]\n",
        "        capture_date = file_name[42:48]\n",
        "        dir_name = f\"{subject_id}_{capture_date}\"\n",
        "\n",
        "        # 画像を読み込む\n",
        "        img = Image.open(img_path)\n",
        "\n",
        "        # この画像に関連するアノテーションを見つける\n",
        "        for ann in coco_data['annotations']:\n",
        "            if ann['image_id'] == img_info['id']:\n",
        "                # Bounding Boxを取得して画像を切り出す\n",
        "                bbox = ann['bbox']\n",
        "                x, y, width, height = bbox\n",
        "                cropped_img = img.crop((x, y, x + width, y + height))\n",
        "\n",
        "                # クラス名を取得\n",
        "                category_id = ann['category_id']\n",
        "                category_name = [c['name'] for c in coco_data['categories'] if c['id'] == category_id][0]\n",
        "\n",
        "                # 保存先ディレクトリを作成\n",
        "                class_dir = os.path.join(output_dir, dir_name, f\"{dir_name}_{category_name}\")\n",
        "                os.makedirs(class_dir, exist_ok=True)\n",
        "\n",
        "                # 切り出した画像を保存\n",
        "                cropped_img.save(os.path.join(class_dir, file_name))\n",
        "\n",
        "# 画像ディレクトリと出力ディレクトリのパス\n",
        "images_dir = '/content/drive/MyDrive/xpFilesRightHand'\n",
        "output_dir = '/content/drive/MyDrive/articular_cropping'\n",
        "\n",
        "crop_and_save_images(coco_data, images_dir, output_dir)"
      ],
      "metadata": {
        "id": "vmpdtipttY30"
      },
      "execution_count": 12,
      "outputs": []
    }
  ]
}