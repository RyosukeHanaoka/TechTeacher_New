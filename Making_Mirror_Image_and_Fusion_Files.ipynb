{
  "nbformat": 4,
  "nbformat_minor": 0,
  "metadata": {
    "colab": {
      "provenance": [],
      "authorship_tag": "ABX9TyObc4Mb1/LLn/U9iVTEkg9h",
      "include_colab_link": true
    },
    "kernelspec": {
      "name": "python3",
      "display_name": "Python 3"
    },
    "language_info": {
      "name": "python"
    }
  },
  "cells": [
    {
      "cell_type": "markdown",
      "metadata": {
        "id": "view-in-github",
        "colab_type": "text"
      },
      "source": [
        "<a href=\"https://colab.research.google.com/github/RyosukeHanaoka/TechTeacher_New/blob/main/Making_Mirror_Image_and_Fusion_Files.ipynb\" target=\"_parent\"><img src=\"https://colab.research.google.com/assets/colab-badge.svg\" alt=\"Open In Colab\"/></a>"
      ]
    },
    {
      "cell_type": "markdown",
      "source": [
        "#左右の画像の鏡像を作成、反対側の画像と合算する。\n",
        "これまでの実験によって、両手のX線画像を解析するにあたり、モデルには左右の手を正しく区別して認識することは困難であるということが判明した。これを受けて、片手ずつ段階的に訓練を施して、最終的に両手を同時に正しく認識できるようにするほうが現実的であるという結論に達した。このため、まず左手と右手を認識する簡単なbounding_boxを描画し、その境界線に沿って画像をクロップ、右手と左手のX線画像を分割することに成功した。\n",
        "手指は左右対称であるため、同時に解析するのでなければ、左右反転した左手の画像をも右手の画像として扱えば、倍のサンプル数で訓練が可能になる。そこで本日は、'xpFiles_right'および'xpFiles_left'の鏡像を作成し、反対側の手の画像ファイルと融合させた、'xpFilesRightHand'と'xpFilesLeftHand'を作成し、Macにダウンロードする。"
      ],
      "metadata": {
        "id": "Y5_KQMuNmRFU"
      }
    },
    {
      "cell_type": "code",
      "source": [
        "# GoogleDriveのマウント\n",
        "from google.colab import drive\n",
        "drive.mount('/content/drive')"
      ],
      "metadata": {
        "colab": {
          "base_uri": "https://localhost:8080/"
        },
        "id": "g37tXrH3f9Y_",
        "outputId": "8d11c1ad-450c-4b5c-cc20-dc2f496fa198"
      },
      "execution_count": 1,
      "outputs": [
        {
          "output_type": "stream",
          "name": "stdout",
          "text": [
            "Mounted at /content/drive\n"
          ]
        }
      ]
    },
    {
      "cell_type": "code",
      "source": [
        "# 必要なライブラリのインポート\n",
        "import os\n",
        "from PIL import Image"
      ],
      "metadata": {
        "id": "_qpb-KN7gJ3s"
      },
      "execution_count": 2,
      "outputs": []
    },
    {
      "cell_type": "code",
      "source": [
        "# 作業開始前にBack_upファイルを作成する。\n",
        "import shutil\n",
        "shutil.copytree('/content/drive/MyDrive/xpFiles_right','/content/drive/MyDrive/xpFiles_right_back_up')\n",
        "shutil.copytree('/content/drive/MyDrive/xpFiles_left','/content/drive/MyDrive/xpFiles_left_back_up')"
      ],
      "metadata": {
        "colab": {
          "base_uri": "https://localhost:8080/",
          "height": 34
        },
        "id": "adaqzUywhpqt",
        "outputId": "a6c2078d-8df0-49fe-dd86-8009eb164397"
      },
      "execution_count": 3,
      "outputs": [
        {
          "output_type": "execute_result",
          "data": {
            "text/plain": [
              "'/content/drive/MyDrive/xpFiles_left_back_up'"
            ],
            "application/vnd.google.colaboratory.intrinsic+json": {
              "type": "string"
            }
          },
          "metadata": {},
          "execution_count": 3
        }
      ]
    },
    {
      "cell_type": "code",
      "source": [
        "# ファイルパスの設定\n",
        "right_hand_dir = '/content/drive/MyDrive/xpFiles_right'\n",
        "left_hand_dir = '/content/drive/MyDrive/xpFiles_left'\n",
        "\n",
        "# 鏡像ファイルのディレクトリを作成（存在しない場合）\n",
        "right_hand_mirror_dir = '/content/drive/MyDrive/xpFiles_right_mirror'\n",
        "left_hand_mirror_dir = '/content/drive/MyDrive/xpFiles_left_mirror'\n",
        "os.makedirs(right_hand_mirror_dir, exist_ok=True)\n",
        "os.makedirs(left_hand_mirror_dir, exist_ok=True)"
      ],
      "metadata": {
        "id": "PueZhlzhgWQX"
      },
      "execution_count": 4,
      "outputs": []
    },
    {
      "cell_type": "code",
      "source": [
        "# 鏡像変換関数\n",
        "def mirror_images(input_dir, output_dir):\n",
        "    for image_name in os.listdir(input_dir):\n",
        "        if image_name.endswith('.png'):  # PNGファイルのみ処理\n",
        "            image_path = os.path.join(input_dir, image_name)\n",
        "            with Image.open(image_path) as img:\n",
        "                mirrored_img = img.transpose(Image.FLIP_LEFT_RIGHT)\n",
        "                mirrored_img.save(os.path.join(output_dir, image_name))\n",
        "\n",
        "# 鏡像変換の実行\n",
        "mirror_images(right_hand_dir, right_hand_mirror_dir)\n",
        "mirror_images(left_hand_dir, left_hand_mirror_dir)"
      ],
      "metadata": {
        "id": "tYnsMdVvggUU"
      },
      "execution_count": 5,
      "outputs": []
    },
    {
      "cell_type": "code",
      "execution_count": 6,
      "metadata": {
        "id": "XyW3WKeaf3qp"
      },
      "outputs": [],
      "source": [
        "# 結合ファイルの作成\n",
        "def combine_images(dir1, dir2, output_dir):\n",
        "    os.makedirs(output_dir, exist_ok=True)\n",
        "    combined_images = {img_name for img_name in os.listdir(dir1) if img_name.endswith('.png')}\n",
        "    combined_images.update(img_name for img_name in os.listdir(dir2) if img_name.endswith('.png'))\n",
        "\n",
        "    for img_name in combined_images:\n",
        "        img_path1 = os.path.join(dir1, img_name)\n",
        "        img_path2 = os.path.join(dir2, img_name)\n",
        "        img1_exists = os.path.exists(img_path1)\n",
        "        img2_exists = os.path.exists(img_path2)\n",
        "\n",
        "        if img1_exists:\n",
        "            with Image.open(img_path1) as img1:\n",
        "                img1.save(os.path.join(output_dir, img_name))\n",
        "        if img2_exists:\n",
        "            with Image.open(img_path2) as img2:\n",
        "                img2.save(os.path.join(output_dir, f'mirrored_{img_name}'))\n",
        "\n",
        "# xpFilesRightHand と xpFilesLeftHand の作成\n",
        "combine_images(right_hand_dir, left_hand_mirror_dir, '/content/drive/MyDrive/xpFilesRightHand')\n",
        "combine_images(left_hand_dir, right_hand_mirror_dir, '/content/drive/MyDrive/xpFilesLeftHand')"
      ]
    }
  ]
}