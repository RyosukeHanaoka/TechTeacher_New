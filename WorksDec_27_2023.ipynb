{
  "nbformat": 4,
  "nbformat_minor": 0,
  "metadata": {
    "colab": {
      "provenance": [],
      "authorship_tag": "ABX9TyNcskKuNk44Aq767nMVUc6A",
      "include_colab_link": true
    },
    "kernelspec": {
      "name": "python3",
      "display_name": "Python 3"
    },
    "language_info": {
      "name": "python"
    }
  },
  "cells": [
    {
      "cell_type": "markdown",
      "metadata": {
        "id": "view-in-github",
        "colab_type": "text"
      },
      "source": [
        "<a href=\"https://colab.research.google.com/github/RyosukeHanaoka/TechTeacher_New/blob/main/WorksDec_27_2023.ipynb\" target=\"_parent\"><img src=\"https://colab.research.google.com/assets/colab-badge.svg\" alt=\"Open In Colab\"/></a>"
      ]
    },
    {
      "cell_type": "markdown",
      "source": [
        "#optPhotoFilesの整備(RA group)\n",
        "これまでに、1. 299例のRA患者の手背の光学写真を撮影し、2. 被検者の写真と臨床像を照合する表を作成した。次にRmbgを使用して手背以外の背景部分を消去する。\n",
        "\n",
        "ただし、この作業では数枚の写真において撮影背景に誤って添付されていた付箋を消去できない。これについてはのちにpixelmeterを使用し、手作業で付箋の画像を消去する。画像はpxmで保存せず、jpgに変換して書き出す。"
      ],
      "metadata": {
        "id": "9XEDHMdH8oox"
      }
    },
    {
      "cell_type": "markdown",
      "source": [
        "###GoogleDriveをマウントする。"
      ],
      "metadata": {
        "id": "vfMoTKTW-qws"
      }
    },
    {
      "cell_type": "code",
      "source": [
        "from google.colab import drive\n",
        "drive.mount('/content/drive')"
      ],
      "metadata": {
        "colab": {
          "base_uri": "https://localhost:8080/"
        },
        "id": "Se0w451f-ae5",
        "outputId": "4da99e7c-574b-4dd4-dade-1683bb644dc8"
      },
      "execution_count": 1,
      "outputs": [
        {
          "output_type": "stream",
          "name": "stdout",
          "text": [
            "Mounted at /content/drive\n"
          ]
        }
      ]
    },
    {
      "cell_type": "markdown",
      "source": [
        "###背景消去作業(RA_Right)\n",
        "\n",
        "nonRAのvolunteerで撮影された画像は、非常に雑多な背景のなかに手背の画像が撮影されているため、背景が学習に悪影響を及ぼさないように、背景を削除した。これらの画像と条件を同一にするために、RA患者の画像でも同様の処理を行う。\n",
        "ライブラリrembgのremoveとnew_sessionを使用する。 背景を削除した画像は、/content/drive/MyDrive/OptPhotoFiles/optPhotoFiles/RA/RA_Right_Handに格納する。"
      ],
      "metadata": {
        "id": "t85FsLyg_Y1F"
      }
    },
    {
      "cell_type": "code",
      "source": [
        "#Rembgをインストールする。\n",
        "!pip install rembg"
      ],
      "metadata": {
        "colab": {
          "base_uri": "https://localhost:8080/"
        },
        "id": "leO-_2RtA0NJ",
        "outputId": "c5b150de-3f7a-4021-a82e-3881574c7fb6"
      },
      "execution_count": null,
      "outputs": [
        {
          "output_type": "stream",
          "name": "stdout",
          "text": [
            "Collecting rembg\n",
            "  Downloading rembg-2.0.53-py3-none-any.whl (32 kB)\n",
            "Requirement already satisfied: jsonschema in /usr/local/lib/python3.10/dist-packages (from rembg) (4.19.2)\n",
            "Requirement already satisfied: numpy in /usr/local/lib/python3.10/dist-packages (from rembg) (1.23.5)\n",
            "Collecting onnxruntime (from rembg)\n",
            "  Downloading onnxruntime-1.16.3-cp310-cp310-manylinux_2_17_x86_64.manylinux2014_x86_64.whl (6.4 MB)\n",
            "\u001b[2K     \u001b[90m━━━━━━━━━━━━━━━━━━━━━━━━━━━━━━━━━━━━━━━━\u001b[0m \u001b[32m6.4/6.4 MB\u001b[0m \u001b[31m16.4 MB/s\u001b[0m eta \u001b[36m0:00:00\u001b[0m\n",
            "\u001b[?25hRequirement already satisfied: opencv-python-headless in /usr/local/lib/python3.10/dist-packages (from rembg) (4.8.1.78)\n",
            "Requirement already satisfied: pillow in /usr/local/lib/python3.10/dist-packages (from rembg) (9.4.0)\n",
            "Requirement already satisfied: pooch in /usr/local/lib/python3.10/dist-packages (from rembg) (1.8.0)\n",
            "Collecting pymatting (from rembg)\n",
            "  Downloading PyMatting-1.1.12-py3-none-any.whl (52 kB)\n",
            "\u001b[2K     \u001b[90m━━━━━━━━━━━━━━━━━━━━━━━━━━━━━━━━━━━━━━━━\u001b[0m \u001b[32m53.0/53.0 kB\u001b[0m \u001b[31m4.6 MB/s\u001b[0m eta \u001b[36m0:00:00\u001b[0m\n",
            "\u001b[?25hRequirement already satisfied: scikit-image in /usr/local/lib/python3.10/dist-packages (from rembg) (0.19.3)\n",
            "Requirement already satisfied: scipy in /usr/local/lib/python3.10/dist-packages (from rembg) (1.11.4)\n",
            "Requirement already satisfied: tqdm in /usr/local/lib/python3.10/dist-packages (from rembg) (4.66.1)\n",
            "Requirement already satisfied: attrs>=22.2.0 in /usr/local/lib/python3.10/dist-packages (from jsonschema->rembg) (23.1.0)\n",
            "Requirement already satisfied: jsonschema-specifications>=2023.03.6 in /usr/local/lib/python3.10/dist-packages (from jsonschema->rembg) (2023.11.2)\n",
            "Requirement already satisfied: referencing>=0.28.4 in /usr/local/lib/python3.10/dist-packages (from jsonschema->rembg) (0.32.0)\n",
            "Requirement already satisfied: rpds-py>=0.7.1 in /usr/local/lib/python3.10/dist-packages (from jsonschema->rembg) (0.15.2)\n",
            "Collecting coloredlogs (from onnxruntime->rembg)\n",
            "  Downloading coloredlogs-15.0.1-py2.py3-none-any.whl (46 kB)\n",
            "\u001b[2K     \u001b[90m━━━━━━━━━━━━━━━━━━━━━━━━━━━━━━━━━━━━━━━━\u001b[0m \u001b[32m46.0/46.0 kB\u001b[0m \u001b[31m4.8 MB/s\u001b[0m eta \u001b[36m0:00:00\u001b[0m\n",
            "\u001b[?25hRequirement already satisfied: flatbuffers in /usr/local/lib/python3.10/dist-packages (from onnxruntime->rembg) (23.5.26)\n",
            "Requirement already satisfied: packaging in /usr/local/lib/python3.10/dist-packages (from onnxruntime->rembg) (23.2)\n",
            "Requirement already satisfied: protobuf in /usr/local/lib/python3.10/dist-packages (from onnxruntime->rembg) (3.20.3)\n",
            "Requirement already satisfied: sympy in /usr/local/lib/python3.10/dist-packages (from onnxruntime->rembg) (1.12)\n",
            "Requirement already satisfied: platformdirs>=2.5.0 in /usr/local/lib/python3.10/dist-packages (from pooch->rembg) (4.1.0)\n",
            "Requirement already satisfied: requests>=2.19.0 in /usr/local/lib/python3.10/dist-packages (from pooch->rembg) (2.31.0)\n",
            "Requirement already satisfied: numba!=0.49.0 in /usr/local/lib/python3.10/dist-packages (from pymatting->rembg) (0.58.1)\n",
            "Requirement already satisfied: networkx>=2.2 in /usr/local/lib/python3.10/dist-packages (from scikit-image->rembg) (3.2.1)\n",
            "Requirement already satisfied: imageio>=2.4.1 in /usr/local/lib/python3.10/dist-packages (from scikit-image->rembg) (2.31.6)\n",
            "Requirement already satisfied: tifffile>=2019.7.26 in /usr/local/lib/python3.10/dist-packages (from scikit-image->rembg) (2023.12.9)\n",
            "Requirement already satisfied: PyWavelets>=1.1.1 in /usr/local/lib/python3.10/dist-packages (from scikit-image->rembg) (1.5.0)\n",
            "Requirement already satisfied: llvmlite<0.42,>=0.41.0dev0 in /usr/local/lib/python3.10/dist-packages (from numba!=0.49.0->pymatting->rembg) (0.41.1)\n",
            "Requirement already satisfied: charset-normalizer<4,>=2 in /usr/local/lib/python3.10/dist-packages (from requests>=2.19.0->pooch->rembg) (3.3.2)\n",
            "Requirement already satisfied: idna<4,>=2.5 in /usr/local/lib/python3.10/dist-packages (from requests>=2.19.0->pooch->rembg) (3.6)\n",
            "Requirement already satisfied: urllib3<3,>=1.21.1 in /usr/local/lib/python3.10/dist-packages (from requests>=2.19.0->pooch->rembg) (2.0.7)\n",
            "Requirement already satisfied: certifi>=2017.4.17 in /usr/local/lib/python3.10/dist-packages (from requests>=2.19.0->pooch->rembg) (2023.11.17)\n",
            "Collecting humanfriendly>=9.1 (from coloredlogs->onnxruntime->rembg)\n",
            "  Downloading humanfriendly-10.0-py2.py3-none-any.whl (86 kB)\n",
            "\u001b[2K     \u001b[90m━━━━━━━━━━━━━━━━━━━━━━━━━━━━━━━━━━━━━━━━\u001b[0m \u001b[32m86.8/86.8 kB\u001b[0m \u001b[31m9.5 MB/s\u001b[0m eta \u001b[36m0:00:00\u001b[0m\n",
            "\u001b[?25hRequirement already satisfied: mpmath>=0.19 in /usr/local/lib/python3.10/dist-packages (from sympy->onnxruntime->rembg) (1.3.0)\n",
            "Installing collected packages: humanfriendly, pymatting, coloredlogs, onnxruntime, rembg\n",
            "Successfully installed coloredlogs-15.0.1 humanfriendly-10.0 onnxruntime-1.16.3 pymatting-1.1.12 rembg-2.0.53\n"
          ]
        }
      ]
    },
    {
      "cell_type": "code",
      "source": [
        "#必要なライブラリをインポートする。\n",
        "import os\n",
        "from rembg import remove\n",
        "from concurrent.futures import ProcessPoolExecutor"
      ],
      "metadata": {
        "id": "DS3yvCoKBBOI"
      },
      "execution_count": null,
      "outputs": []
    },
    {
      "cell_type": "markdown",
      "source": [
        "まず、右手の画像を格納した\"RA_Right\"から背景除去処理を行う。"
      ],
      "metadata": {
        "id": "432d9IC-CXjd"
      }
    },
    {
      "cell_type": "code",
      "source": [
        "#背景の除去を目的とした関数、remove_bg_from_fileを定義する。\n",
        "def remove_bg_from_file(file_path, dst_dir):\n",
        "    with open(file_path, \"rb\") as f:\n",
        "        img = f.read()\n",
        "        output = remove(img)\n",
        "\n",
        "    dst_file_path = os.path.join(dst_dir, os.path.basename(file_path))\n",
        "    with open(dst_file_path, \"wb\") as f_out:\n",
        "        f_out.write(output)\n",
        "\n",
        "# 画像の背景を削除するディレクトリを指定する。\n",
        "src_dir = \"/content/drive/MyDrive/RA_Right\"\n",
        "dst_dir = \"/content/drive/MyDrive/RA/RA_Right_Hand\"\n",
        "\n",
        "# ディレクトリが存在しない場合、新規に作成する。\n",
        "if not os.path.exists(dst_dir):\n",
        "    os.makedirs(dst_dir)\n",
        "\n",
        "file_paths = [os.path.join(src_dir, file) for file in os.listdir(src_dir) if file.lower().endswith(('.png', '.jpg', '.jpeg'))]\n",
        "\n",
        "# Use all available CPU cores for parallel processing\n",
        "with ProcessPoolExecutor() as executor:\n",
        "    executor.map(remove_bg_from_file, file_paths, [dst_dir] * len(file_paths))\n",
        "\n",
        "print(\"Background removal and saving to new directory completed!\")"
      ],
      "metadata": {
        "colab": {
          "base_uri": "https://localhost:8080/"
        },
        "id": "LM0aepgz_ZKM",
        "outputId": "a5ff806f-76c5-4332-8266-a94d6b1fb673"
      },
      "execution_count": null,
      "outputs": [
        {
          "output_type": "stream",
          "name": "stderr",
          "text": [
            "Downloading data from 'https://github.com/danielgatis/rembg/releases/download/v0.0.0/u2net.onnx' to file '/root/.u2net/u2net.onnx'.\n",
            "Downloading data from 'https://github.com/danielgatis/rembg/releases/download/v0.0.0/u2net.onnx' to file '/root/.u2net/u2net.onnx'.\n",
            "100%|███████████████████████████████████████| 176M/176M [00:00<00:00, 11.1GB/s]\n",
            "100%|███████████████████████████████████████| 176M/176M [00:00<00:00, 28.7GB/s]\n"
          ]
        },
        {
          "output_type": "stream",
          "name": "stdout",
          "text": [
            "Background removal and saving to new directory completed!\n"
          ]
        }
      ]
    },
    {
      "cell_type": "code",
      "source": [
        "#背景の除去を目的とした関数、remove_bg_from_fileを定義する。\n",
        "def remove_bg_from_file(file_path, dst_dir):\n",
        "    with open(file_path, \"rb\") as f:\n",
        "        img = f.read()\n",
        "        output = remove(img)\n",
        "\n",
        "    dst_file_path = os.path.join(dst_dir, os.path.basename(file_path))\n",
        "    with open(dst_file_path, \"wb\") as f_out:\n",
        "        f_out.write(output)\n",
        "\n",
        "# 画像の背景を削除するディレクトリを指定する。\n",
        "src_dir = \"/content/drive/MyDrive/RA/need_to_Rmbg\"\n",
        "dst_dir = \"/content/drive/MyDrive/RA/RA_Right_Hand\"\n",
        "\n",
        "# ディレクトリが存在しない場合、新規に作成する。\n",
        "if not os.path.exists(dst_dir):\n",
        "    os.makedirs(dst_dir)\n",
        "\n",
        "file_paths = [os.path.join(src_dir, file) for file in os.listdir(src_dir) if file.lower().endswith(('.png', '.jpg', '.jpeg'))]\n",
        "\n",
        "# Use all available CPU cores for parallel processing\n",
        "with ProcessPoolExecutor() as executor:\n",
        "    executor.map(remove_bg_from_file, file_paths, [dst_dir] * len(file_paths))\n",
        "\n",
        "print(\"Background removal and saving to new directory completed!\")"
      ],
      "metadata": {
        "colab": {
          "base_uri": "https://localhost:8080/"
        },
        "id": "3dItroOGQ9ef",
        "outputId": "cc223c88-ba4e-4de0-afbd-1eda5a7a143f"
      },
      "execution_count": null,
      "outputs": [
        {
          "output_type": "stream",
          "name": "stdout",
          "text": [
            "Background removal and saving to new directory completed!\n"
          ]
        }
      ]
    },
    {
      "cell_type": "markdown",
      "source": [
        "つぎに、関数\"remobe_bg_from_file\"を使用して、左手の画像を格納した\"RA_Left\"にも同様の背景除去処理を行う。"
      ],
      "metadata": {
        "id": "oj9CgnZJCoFJ"
      }
    },
    {
      "cell_type": "code",
      "source": [
        "# 画像の背景を削除するディレクトリを指定する。\n",
        "src_dir = \"/content/drive/MyDrive/RA_Left\"\n",
        "dst_dir = \"/content/drive/MyDrive/RA/RA_Left_Hand\"\n",
        "\n",
        "# ディレクトリが存在しない場合、新規に作成する。\n",
        "if not os.path.exists(dst_dir):\n",
        "    os.makedirs(dst_dir)\n",
        "\n",
        "file_paths = [os.path.join(src_dir, file) for file in os.listdir(src_dir) if file.lower().endswith(('.png', '.jpg', '.jpeg'))]\n",
        "\n",
        "# Use all available CPU cores for parallel processing\n",
        "with ProcessPoolExecutor() as executor:\n",
        "    executor.map(remove_bg_from_file, file_paths, [dst_dir] * len(file_paths))\n",
        "\n",
        "print(\"Background removal and saving to new directory completed!\")"
      ],
      "metadata": {
        "colab": {
          "base_uri": "https://localhost:8080/"
        },
        "id": "CALH7OktBvBh",
        "outputId": "ab47444a-29f2-4186-f1a0-bcc3c1c46043"
      },
      "execution_count": null,
      "outputs": [
        {
          "output_type": "stream",
          "name": "stdout",
          "text": [
            "Background removal and saving to new directory completed!\n"
          ]
        }
      ]
    },
    {
      "cell_type": "markdown",
      "source": [
        "###背景除去処理後も残存する付箋の画像を除去する（pixlmeterを使用）。\n",
        "当初のco-medical_workerへの指示の不備によって、研究者の意図が伝わらず、右手と左手を簡単に識別するために背景に\"R\",\"L\"と記載された付箋を貼付してある写真がある。これらの付箋が学習に悪影響を与える可能性を排除するため、画像上から消去する必要があるが、これはRembgでも除去不可能である。そこで、ローカル環境内に一度画像をダウンロードし、pixelmeterによる手作業でこの付箋の画像を除去する必要が生じた。\n",
        "短時間で作業を終えるため、付箋が添付された1-19までの画像のみダウンロード、作業を終えたら、GoogleDriveにアップロードする。"
      ],
      "metadata": {
        "id": "z435Zt7wDJzV"
      }
    },
    {
      "cell_type": "markdown",
      "source": [
        "###問題発生"
      ],
      "metadata": {
        "id": "u3RboLzMznqq"
      }
    },
    {
      "cell_type": "markdown",
      "source": [
        "pixelmeterを使用して付箋の画像を消去、jpgフォーマットで書き出したところ、背景が透明ではなく、白地になってしまった。これでは他の画像と同一の条件とは言い難い。このため、白地を透明に変更するために、もう一度Rmbgにかけることにした。"
      ],
      "metadata": {
        "id": "i1OG0Zy8u8Vg"
      }
    },
    {
      "cell_type": "code",
      "source": [
        "#背景の除去を目的とした関数、remove_bg_from_fileを定義する。\n",
        "def remove_bg_from_file(file_path, dst_dir):\n",
        "    with open(file_path, \"rb\") as f:\n",
        "        img = f.read()\n",
        "        output = remove(img)\n",
        "\n",
        "    dst_file_path = os.path.join(dst_dir, os.path.basename(file_path))\n",
        "    with open(dst_file_path, \"wb\") as f_out:\n",
        "        f_out.write(output)\n",
        "\n",
        "# 画像の背景を削除するディレクトリ、\"need_to_Rmbg\"を作成、そこに問題の画像を格納。（まず右手）\n",
        "src_dir = \"/content/drive/MyDrive/RA/need_to_Rmbg\"\n",
        "# 作業の終了した画像ファイルは\"RA_Right_Hand\"に戻す。\n",
        "dst_dir = \"/content/drive/MyDrive/RA/RA_Right_Hand\"\n",
        "\n",
        "# ディレクトリが存在しない場合、新規に作成する。\n",
        "if not os.path.exists(dst_dir):\n",
        "    os.makedirs(dst_dir)\n",
        "\n",
        "file_paths = [os.path.join(src_dir, file) for file in os.listdir(src_dir) if file.lower().endswith(('.png', '.jpg', '.jpeg'))]\n",
        "\n",
        "# Use all available CPU cores for parallel processing\n",
        "with ProcessPoolExecutor() as executor:\n",
        "    executor.map(remove_bg_from_file, file_paths, [dst_dir] * len(file_paths))\n",
        "\n",
        "print(\"Background removal and saving to new directory completed!\")"
      ],
      "metadata": {
        "colab": {
          "base_uri": "https://localhost:8080/"
        },
        "id": "ZPRLYjOlXk6X",
        "outputId": "e84adc7a-f5dd-43bb-b77e-ec9d452347ac"
      },
      "execution_count": null,
      "outputs": [
        {
          "output_type": "stream",
          "name": "stdout",
          "text": [
            "Background removal and saving to new directory completed!\n"
          ]
        }
      ]
    },
    {
      "cell_type": "code",
      "source": [
        "# 画像の背景を削除するディレクトリ、\"need_to_Rmbg\"を作成、そこに問題の画像を格納。（左手）\n",
        "src_dir = \"/content/drive/MyDrive/RA/need_to_Rmbg\"\n",
        "# 作業の終了した画像ファイルは\"RA_Left_Hand\"に戻す。\n",
        "dst_dir = \"/content/drive/MyDrive/RA/RA_Left_Hand\"\n",
        "\n",
        "file_paths = [os.path.join(src_dir, file) for file in os.listdir(src_dir) if file.lower().endswith(('.png', '.jpg', '.jpeg'))]\n",
        "\n",
        "# Use all available CPU cores for parallel processing\n",
        "with ProcessPoolExecutor() as executor:\n",
        "    executor.map(remove_bg_from_file, file_paths, [dst_dir] * len(file_paths))\n",
        "\n",
        "print(\"Background removal and saving to new directory completed!\")"
      ],
      "metadata": {
        "id": "SVGNfBTsz0N6"
      },
      "execution_count": null,
      "outputs": []
    },
    {
      "cell_type": "markdown",
      "source": [
        "#鏡像の作成\n",
        "深層学習のサンプル数は可能な限り多い方が良い。手背の画像は左右対称であるため、鏡像を作成して画像の数を増やすことができる。ここではまずRA群、nonRA群ともに左手の画像の鏡像を作成、右手画像と合わせることでサンプル数を倍にする。\n",
        "\n",
        "まず、RA群の処理を行う。\"content/drive/MyDrive/RA/RA_Right_Hand\"と\"content/drive/MyDrive/RA/RA_Left_Hand\"の鏡像を作成、\"content/drive/MyDrive/RA/RA_Right_Hand_mirror\"と\"content/drive/MyDrive/RA/RA_Left_Hand_mirror\"と命名する。\n",
        "さらに、\"content/drive/MyDrive/RA/RA_Right_Hand\"と、\"content/drive/MyDrive/RA/RA_Left_Hand_mirror\"を結合させて\"optPhotoRaRight\"とし、\"content/drive/MyDrive/RA/RA_Left_Hand\"と、\"content/drive/MyDrive/RA/RA_Right_Hand_mirror\"を結合させて、\"optPhotoRaLeft\"と命名する。\n",
        "\n",
        "###注意点\n",
        "pngと異なりjpgではPILを使用した際に色彩チャンネルの扱いに相違が存在するため、\"img.convert\"を使用して色彩チャンネルの扱いを調整する必要があることに注意が必要である。"
      ],
      "metadata": {
        "id": "eS8F6e8sFRD6"
      }
    },
    {
      "cell_type": "code",
      "source": [
        "from PIL import Image\n",
        "import os\n",
        "import shutil\n",
        "from PIL import Image\n",
        "import os\n",
        "\n",
        "def mirror_images(source_dir, dest_dir):\n",
        "    # Create the destination directory if it doesn't exist\n",
        "    if not os.path.exists(dest_dir):\n",
        "        os.makedirs(dest_dir)\n",
        "\n",
        "    # List all jpeg files in the source directory\n",
        "    for filename in os.listdir(source_dir):\n",
        "        if filename.endswith(\".jpg\"):\n",
        "            # Open the image\n",
        "            img_path = os.path.join(source_dir, filename)\n",
        "            with Image.open(img_path) as img:\n",
        "                # Convert to 'RGB' if 'RGBA'\n",
        "                if img.mode == 'RGBA':\n",
        "                    img = img.convert('RGB')\n",
        "\n",
        "                # Mirror the image\n",
        "                mirrored_img = img.transpose(Image.FLIP_LEFT_RIGHT)\n",
        "\n",
        "                # Save the mirrored image to the destination directory\n",
        "                mirrored_img.save(os.path.join(dest_dir, filename))\n",
        "\n",
        "\n",
        "def copy_images(source_dirs, dest_dir):\n",
        "    \"\"\"\n",
        "    Copy all images from the source directories to the destination directory.\n",
        "    \"\"\"\n",
        "    # Create the destination directory if it doesn't exist\n",
        "    if not os.path.exists(dest_dir):\n",
        "        os.makedirs(dest_dir)\n",
        "\n",
        "    for source_dir in source_dirs:\n",
        "        for filename in os.listdir(source_dir):\n",
        "            if filename.endswith(\".jpg\"):\n",
        "                src_path = os.path.join(source_dir, filename)\n",
        "                dest_path = os.path.join(dest_dir, filename)\n",
        "                # Copy the image\n",
        "                shutil.copy(src_path, dest_path)\n",
        "\n",
        "# Directories\n",
        "left_hand_dir = \"/content/drive/MyDrive/RA/RA_Left_Hand\"\n",
        "right_hand_dir = \"/content/drive/MyDrive/RA/RA_Right_Hand\"\n",
        "\n",
        "left_hand_mirror_dir = \"/content/drive/MyDrive/RA/RA_Left_Hand_mirror\"\n",
        "right_hand_mirror_dir = \"/content/drive/MyDrive/RA/RA_Right_Hand_mirror\"\n",
        "\n",
        "opt_photo_ra_right_dir = \"/content/drive/MyDrive/OptPhotoFiles/optPhotoRaRight\"\n",
        "opt_photo_ra_left_dir = \"/content/drive/MyDrive/OptPhotoFiles/optPhotoRaLeft\"\n",
        "\n",
        "# Mirror images\n",
        "mirror_images(left_hand_dir, left_hand_mirror_dir)\n",
        "mirror_images(right_hand_dir, right_hand_mirror_dir)\n",
        "\n",
        "# Copy images\n",
        "copy_images([right_hand_dir, left_hand_mirror_dir], opt_photo_ra_right_dir)\n",
        "copy_images([left_hand_dir, right_hand_mirror_dir], opt_photo_ra_left_dir)\n",
        "\n",
        "\"Images have been processed and saved to the specified directories.\""
      ],
      "metadata": {
        "colab": {
          "base_uri": "https://localhost:8080/",
          "height": 34
        },
        "id": "UR2Si-PvtOuJ",
        "outputId": "49ebc9b9-9421-4582-ed1a-55c34009d8cf"
      },
      "execution_count": null,
      "outputs": [
        {
          "output_type": "execute_result",
          "data": {
            "text/plain": [
              "'Images have been processed and saved to the specified directories.'"
            ],
            "application/vnd.google.colaboratory.intrinsic+json": {
              "type": "string"
            }
          },
          "metadata": {},
          "execution_count": 16
        }
      ]
    },
    {
      "cell_type": "markdown",
      "source": [
        "#ローカル環境へのダウンロード\n",
        "GoogleDrive上での作業を減らし、作業をできるだけスクリプトとして記録に残すため、\"shutil\"を使用してGoogle Colab上でファイル圧縮とダウンロードを行うように工夫してみたが、GoogleDrive上での作業よりもはるかに時間がかかることが判明した。蛇足だったと言える。"
      ],
      "metadata": {
        "id": "7Q-VNvR1RNr0"
      }
    },
    {
      "cell_type": "code",
      "source": [
        "import shutil\n",
        "\n",
        "# 圧縮するディレクトリのパス\n",
        "directory_to_zip = '/content/drive/MyDrive/OptPhotoFiles/optPhotoRaRight'\n",
        "\n",
        "# ZIPファイルの出力パス\n",
        "zip_output = '/content/optPhotoRARight.zip'\n",
        "\n",
        "# ディレクトリをZIPファイルに圧縮\n",
        "shutil.make_archive(zip_output[:-4], 'zip', directory_to_zip)\n",
        "\n",
        "# ZIPファイルをダウンロード\n",
        "from google.colab import files\n",
        "files.download(zip_output)"
      ],
      "metadata": {
        "colab": {
          "base_uri": "https://localhost:8080/",
          "height": 34
        },
        "id": "NwRGCNKdv5GQ",
        "outputId": "ac6a08da-82ba-41e8-9ab8-8ad89174a9a6"
      },
      "execution_count": null,
      "outputs": [
        {
          "output_type": "display_data",
          "data": {
            "text/plain": [
              "<IPython.core.display.Javascript object>"
            ],
            "application/javascript": [
              "\n",
              "    async function download(id, filename, size) {\n",
              "      if (!google.colab.kernel.accessAllowed) {\n",
              "        return;\n",
              "      }\n",
              "      const div = document.createElement('div');\n",
              "      const label = document.createElement('label');\n",
              "      label.textContent = `Downloading \"${filename}\": `;\n",
              "      div.appendChild(label);\n",
              "      const progress = document.createElement('progress');\n",
              "      progress.max = size;\n",
              "      div.appendChild(progress);\n",
              "      document.body.appendChild(div);\n",
              "\n",
              "      const buffers = [];\n",
              "      let downloaded = 0;\n",
              "\n",
              "      const channel = await google.colab.kernel.comms.open(id);\n",
              "      // Send a message to notify the kernel that we're ready.\n",
              "      channel.send({})\n",
              "\n",
              "      for await (const message of channel.messages) {\n",
              "        // Send a message to notify the kernel that we're ready.\n",
              "        channel.send({})\n",
              "        if (message.buffers) {\n",
              "          for (const buffer of message.buffers) {\n",
              "            buffers.push(buffer);\n",
              "            downloaded += buffer.byteLength;\n",
              "            progress.value = downloaded;\n",
              "          }\n",
              "        }\n",
              "      }\n",
              "      const blob = new Blob(buffers, {type: 'application/binary'});\n",
              "      const a = document.createElement('a');\n",
              "      a.href = window.URL.createObjectURL(blob);\n",
              "      a.download = filename;\n",
              "      div.appendChild(a);\n",
              "      a.click();\n",
              "      div.remove();\n",
              "    }\n",
              "  "
            ]
          },
          "metadata": {}
        },
        {
          "output_type": "display_data",
          "data": {
            "text/plain": [
              "<IPython.core.display.Javascript object>"
            ],
            "application/javascript": [
              "download(\"download_61ebad8b-eade-427e-8e89-1517556af086\", \"optPhotoRARight.zip\", 1514287177)"
            ]
          },
          "metadata": {}
        }
      ]
    },
    {
      "cell_type": "code",
      "source": [
        "# 圧縮するディレクトリのパス\n",
        "directory_to_zip = '/content/drive/MyDrive/OptPhotoFiles/optPhotoRaLeft'\n",
        "\n",
        "# ZIPファイルの出力パス\n",
        "zip_output = '/content/optPhotoRARight.zip'\n",
        "\n",
        "# ディレクトリをZIPファイルに圧縮\n",
        "shutil.make_archive(zip_output[:-4], 'zip', directory_to_zip)\n",
        "\n",
        "# ZIPファイルをダウンロード\n",
        "from google.colab import files\n",
        "files.download(zip_output)"
      ],
      "metadata": {
        "colab": {
          "base_uri": "https://localhost:8080/",
          "height": 34
        },
        "id": "QN3HPGR3v9Ns",
        "outputId": "da4bc0ec-c993-43a7-cc30-393764dd4a7f"
      },
      "execution_count": null,
      "outputs": [
        {
          "output_type": "display_data",
          "data": {
            "text/plain": [
              "<IPython.core.display.Javascript object>"
            ],
            "application/javascript": [
              "\n",
              "    async function download(id, filename, size) {\n",
              "      if (!google.colab.kernel.accessAllowed) {\n",
              "        return;\n",
              "      }\n",
              "      const div = document.createElement('div');\n",
              "      const label = document.createElement('label');\n",
              "      label.textContent = `Downloading \"${filename}\": `;\n",
              "      div.appendChild(label);\n",
              "      const progress = document.createElement('progress');\n",
              "      progress.max = size;\n",
              "      div.appendChild(progress);\n",
              "      document.body.appendChild(div);\n",
              "\n",
              "      const buffers = [];\n",
              "      let downloaded = 0;\n",
              "\n",
              "      const channel = await google.colab.kernel.comms.open(id);\n",
              "      // Send a message to notify the kernel that we're ready.\n",
              "      channel.send({})\n",
              "\n",
              "      for await (const message of channel.messages) {\n",
              "        // Send a message to notify the kernel that we're ready.\n",
              "        channel.send({})\n",
              "        if (message.buffers) {\n",
              "          for (const buffer of message.buffers) {\n",
              "            buffers.push(buffer);\n",
              "            downloaded += buffer.byteLength;\n",
              "            progress.value = downloaded;\n",
              "          }\n",
              "        }\n",
              "      }\n",
              "      const blob = new Blob(buffers, {type: 'application/binary'});\n",
              "      const a = document.createElement('a');\n",
              "      a.href = window.URL.createObjectURL(blob);\n",
              "      a.download = filename;\n",
              "      div.appendChild(a);\n",
              "      a.click();\n",
              "      div.remove();\n",
              "    }\n",
              "  "
            ]
          },
          "metadata": {}
        },
        {
          "output_type": "display_data",
          "data": {
            "text/plain": [
              "<IPython.core.display.Javascript object>"
            ],
            "application/javascript": [
              "download(\"download_c23f9aae-eab0-4ff2-8295-90832aeb1851\", \"optPhotoRARight.zip\", 1488548154)"
            ]
          },
          "metadata": {}
        }
      ]
    },
    {
      "cell_type": "markdown",
      "source": [
        "#鏡像の作成（nonRA）\n",
        "これまでnonRAの画像を整理するために、ローカル環境での手作業を続けてきた。画像の向きのばらつき、左右の間違いなど、ファイルの形式ではなく、画像の内容を人間が目視しなければ不可能な作業が続いたためである。\n",
        "本日をもってそれが終了したため、今後の自動化した作業のためにnonRAの画像一式をGoogleDriveにアップロードした。これを用いてnonRA群の鏡像作成を行う。"
      ],
      "metadata": {
        "id": "4aYvbjRZSUE0"
      }
    },
    {
      "cell_type": "code",
      "source": [
        "from PIL import Image\n",
        "import os\n",
        "import shutil\n",
        "from PIL import Image\n",
        "import os\n",
        "\n",
        "def mirror_images(source_dir, dest_dir):\n",
        "    # Create the destination directory if it doesn't exist\n",
        "    if not os.path.exists(dest_dir):\n",
        "        os.makedirs(dest_dir)\n",
        "\n",
        "    # List all jpeg files in the source directory\n",
        "    for filename in os.listdir(source_dir):\n",
        "        if filename.endswith(\".jpg\"):\n",
        "            # Open the image\n",
        "            img_path = os.path.join(source_dir, filename)\n",
        "            with Image.open(img_path) as img:\n",
        "                # Convert to 'RGB' if 'RGBA'\n",
        "                if img.mode == 'RGBA':\n",
        "                    img = img.convert('RGB')\n",
        "\n",
        "                # Mirror the image\n",
        "                mirrored_img = img.transpose(Image.FLIP_LEFT_RIGHT)\n",
        "\n",
        "                # Save the mirrored image to the destination directory\n",
        "                mirrored_img.save(os.path.join(dest_dir, filename))\n",
        "\n",
        "\n",
        "def copy_images(source_dirs, dest_dir):\n",
        "    \"\"\"\n",
        "    Copy all images from the source directories to the destination directory.\n",
        "    \"\"\"\n",
        "    # Create the destination directory if it doesn't exist\n",
        "    if not os.path.exists(dest_dir):\n",
        "        os.makedirs(dest_dir)\n",
        "\n",
        "    for source_dir in source_dirs:\n",
        "        for filename in os.listdir(source_dir):\n",
        "            if filename.endswith(\".jpg\"):\n",
        "                src_path = os.path.join(source_dir, filename)\n",
        "                dest_path = os.path.join(dest_dir, filename)\n",
        "                # Copy the image\n",
        "                shutil.copy(src_path, dest_path)\n",
        "\n",
        "# Directories\n",
        "left_hand_dir = \"/content/drive/MyDrive/OptPhotoFiles/nonRA_Left_Hand\"\n",
        "right_hand_dir = \"/content/drive/MyDrive/OptPhotoFiles/nonRA_Right_Hand\"\n",
        "\n",
        "left_hand_mirror_dir = \"/content/drive/MyDrive/nonRA/nonRA_Left_Hand_mirror\"\n",
        "right_hand_mirror_dir = \"/content/drive/MyDrive/nonRA/nonRA_Right_Hand_mirror\"\n",
        "\n",
        "opt_photo_ra_right_dir = \"/content/drive/MyDrive/OptPhotoFiles/optPhotoNonRaRight\"\n",
        "opt_photo_ra_left_dir = \"/content/drive/MyDrive/OptPhotoFiles/optPhotoNonRaLeft\"\n",
        "\n",
        "# Mirror images\n",
        "mirror_images(left_hand_dir, left_hand_mirror_dir)\n",
        "mirror_images(right_hand_dir, right_hand_mirror_dir)\n",
        "\n",
        "# Copy images\n",
        "copy_images([right_hand_dir, left_hand_mirror_dir], opt_photo_ra_right_dir)\n",
        "copy_images([left_hand_dir, right_hand_mirror_dir], opt_photo_ra_left_dir)\n",
        "\n",
        "\"Images have been processed and saved to the specified directories.\""
      ],
      "metadata": {
        "colab": {
          "base_uri": "https://localhost:8080/",
          "height": 34
        },
        "id": "I0HZXyKnNKrA",
        "outputId": "1ba72fd1-e45c-4eb6-f749-81c2eb414548"
      },
      "execution_count": 2,
      "outputs": [
        {
          "output_type": "execute_result",
          "data": {
            "text/plain": [
              "'Images have been processed and saved to the specified directories.'"
            ],
            "application/vnd.google.colaboratory.intrinsic+json": {
              "type": "string"
            }
          },
          "metadata": {},
          "execution_count": 2
        }
      ]
    },
    {
      "cell_type": "markdown",
      "source": [
        "#欠番の同定\n",
        "nonRAの画像は、画像の質がまちまちであるだけでなく、画像として読み込めない破損ファイルや、htmlファイルなどのもともと画像ではないファイルなども含まれていた。これらはこれまでの画像処理で削除されており、いくつかのファイル番号は欠番となっている。optPhotoTable_control上の欠番を削除し、tableと実際の画像ファイルの名称を完全に一致させるため、欠番の同定を行う。"
      ],
      "metadata": {
        "id": "qnUeNYDETpvz"
      }
    },
    {
      "cell_type": "code",
      "source": [
        "import pandas as pd\n",
        "import os\n",
        "\n",
        "# CSVファイルと画像ディレクトリのパス\n",
        "csv_file_path = '/content/drive/MyDrive/OptPhotoFiles/optPhotoTable_control.csv'\n",
        "image_dir_path = '/content/drive/MyDrive/OptPhotoFiles/optPhotoNonRaRight'\n",
        "\n",
        "# CSVファイルを読み込む\n",
        "df = pd.read_csv(csv_file_path)\n",
        "\n",
        "# ディレクトリ内の画像ファイル名のリストを取得\n",
        "image_files = set(os.listdir(image_dir_path))\n",
        "\n",
        "# CSVファイル内のファイル名のリストを取得\n",
        "csv_files = set(df['filename'])\n",
        "\n",
        "# ディレクトリには存在しないがCSVには存在するファイル名を特定\n",
        "missing_files = csv_files - image_files\n",
        "\n",
        "# 欠損ファイルのファイル名を表示\n",
        "print(\"欠損しているファイル名:\")\n",
        "for file in missing_files:\n",
        "    print(file)\n",
        "\n",
        "# 欠損しているファイルの記録をCSVファイルから削除\n",
        "df = df[~df['filename'].isin(missing_files)]\n",
        "\n",
        "# CSVファイルを更新して保存\n",
        "df.to_csv(csv_file_path, index=False)\n",
        "\n",
        "\"欠損ファイルの処理が完了しました。\""
      ],
      "metadata": {
        "colab": {
          "base_uri": "https://localhost:8080/",
          "height": 816
        },
        "id": "IKIkm-KyU8mT",
        "outputId": "39a6fae6-a2ad-4dc9-c7d6-3d8dbf96d3b0"
      },
      "execution_count": 3,
      "outputs": [
        {
          "output_type": "stream",
          "name": "stdout",
          "text": [
            "欠損しているファイル名:\n",
            "nonRA_right_hand_232.jpg\n",
            "nonRA_left_hand_1180.jpg\n",
            "nonRA_right_hand_592.jpg\n",
            "nonRA_left_hand_638.jpg\n",
            "nonRA_right_hand_39.jpg\n",
            "nonRA_left_hand_39.jpg\n",
            "nonRA_left_hand_383.jpg\n",
            "nonRA_right_hand_383.jpg\n",
            "nonRA_right_hand_164.jpg\n",
            "nonRA_left_hand_1188.jpg\n",
            "nonRA_right_hand_651.jpg\n",
            "nonRA_left_hand_571.jpg\n",
            "nonRA_right_hand_357.jpg\n",
            "nonRA_left_hand_1152.jpg\n",
            "nonRA_right_hand_416.jpg\n",
            "nonRA_left_hand_1151.jpg\n",
            "nonRA_right_hand_241.jpg\n",
            "nonRA_left_hand_547.jpg\n",
            "nonRA_left_hand_841.jpg\n",
            "nonRA_left_hand_399.jpg\n",
            "nonRA_right_hand_352.jpg\n",
            "nonRA_left_hand_21.jpg\n",
            "nonRA_right_hand_1013.jpg\n",
            "nonRA_left_hand_651.jpg\n",
            "nonRA_right_hand_1151.jpg\n",
            "nonRA_left_hand_382.jpg\n",
            "nonRA_left_hand_74.jpg\n",
            "nonRA_right_hand_399.jpg\n",
            "nonRA_left_hand_993.jpg\n",
            "nonRA_left_hand_592.jpg\n",
            "nonRA_left_hand_501.jpg\n",
            "nonRA_left_hand_357.jpg\n",
            "nonRA_left_hand_164.jpg\n",
            "nonRA_right_hand_841.jpg\n",
            "nonRA_right_hand_1088.jpg\n",
            "nonRA_left_hand_537.jpg\n",
            "nonRA_left_hand_527.jpg\n",
            "nonRA_left_hand_1178.jpg\n",
            "nonRA_right_hand_74.jpg\n",
            "nonRA_left_hand_416.jpg\n",
            "nonRA_right_hand_547.jpg\n",
            "nonRA_left_hand_241.jpg\n",
            "nonRA_left_hand_1088.jpg\n",
            "nonRA_right_hand_537.jpg\n"
          ]
        },
        {
          "output_type": "execute_result",
          "data": {
            "text/plain": [
              "'欠損ファイルの処理が完了しました。'"
            ],
            "application/vnd.google.colaboratory.intrinsic+json": {
              "type": "string"
            }
          },
          "metadata": {},
          "execution_count": 3
        }
      ]
    }
  ]
}