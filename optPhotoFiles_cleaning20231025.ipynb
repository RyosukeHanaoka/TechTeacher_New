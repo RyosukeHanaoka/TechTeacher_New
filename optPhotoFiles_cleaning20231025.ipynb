{
  "nbformat": 4,
  "nbformat_minor": 0,
  "metadata": {
    "colab": {
      "provenance": [],
      "authorship_tag": "ABX9TyOn/kiQ3OaiU6LJlcmg06bD",
      "include_colab_link": true
    },
    "kernelspec": {
      "name": "python3",
      "display_name": "Python 3"
    },
    "language_info": {
      "name": "python"
    }
  },
  "cells": [
    {
      "cell_type": "markdown",
      "metadata": {
        "id": "view-in-github",
        "colab_type": "text"
      },
      "source": [
        "<a href=\"https://colab.research.google.com/github/RyosukeHanaoka/TechTeacher_New/blob/main/optPhotoFiles_cleaning20231025.ipynb\" target=\"_parent\"><img src=\"https://colab.research.google.com/assets/colab-badge.svg\" alt=\"Open In Colab\"/></a>"
      ]
    },
    {
      "cell_type": "markdown",
      "source": [
        "#optPhotoFilesの調整ver.2\n",
        "前回の調整で多くの画像ファイルがoptPhotoTable_controlsとの整合性を失い、多くの属性データを失った。その理由は最初に不良ファイルのパージを行い、ファイル名称の統一を後回しにしたことが原因だった。このため、今回は最初にバックアップから元データを起こしたのち、すぐにその名称を統一し、ファイル操作とcsvファイル操作が連動させやすい状況にする。"
      ],
      "metadata": {
        "id": "voi_nfexOMzw"
      }
    },
    {
      "cell_type": "markdown",
      "source": [
        "#Google_Driveのマウント"
      ],
      "metadata": {
        "id": "araX40iuPRcX"
      }
    },
    {
      "cell_type": "code",
      "execution_count": 1,
      "metadata": {
        "colab": {
          "base_uri": "https://localhost:8080/"
        },
        "id": "1Fq49xPEN-HZ",
        "outputId": "17d7f1a7-e5e2-47ec-aa92-b2a5abc69cb8"
      },
      "outputs": [
        {
          "output_type": "stream",
          "name": "stdout",
          "text": [
            "Mounted at /content/drive\n"
          ]
        }
      ],
      "source": [
        "from google.colab import drive\n",
        "drive.mount('/content/drive')"
      ]
    },
    {
      "cell_type": "markdown",
      "source": [
        "#ライブラリのダウンロードおよびインポート"
      ],
      "metadata": {
        "id": "PZqkOk_qPb8U"
      }
    },
    {
      "cell_type": "code",
      "source": [
        "!pip install pyheif\n",
        "!pip install rembg\n",
        "import os\n",
        "import shutil\n",
        "from PIL import Image\n",
        "import pyheif\n",
        "import pandas as pd\n",
        "import csv\n",
        "from rembg import remove\n",
        "from concurrent.futures import ProcessPoolExecutor"
      ],
      "metadata": {
        "colab": {
          "base_uri": "https://localhost:8080/"
        },
        "id": "ONV-wu0pPkR_",
        "outputId": "3cd8e79b-4fdc-41b1-ab91-2e05f48c0daa"
      },
      "execution_count": 2,
      "outputs": [
        {
          "output_type": "stream",
          "name": "stdout",
          "text": [
            "Collecting pyheif\n",
            "  Downloading pyheif-0.7.1-cp310-cp310-manylinux_2_17_x86_64.manylinux2014_x86_64.whl (9.8 MB)\n",
            "\u001b[2K     \u001b[90m━━━━━━━━━━━━━━━━━━━━━━━━━━━━━━━━━━━━━━━━\u001b[0m \u001b[32m9.8/9.8 MB\u001b[0m \u001b[31m55.4 MB/s\u001b[0m eta \u001b[36m0:00:00\u001b[0m\n",
            "\u001b[?25hRequirement already satisfied: cffi>=1.0.0 in /usr/local/lib/python3.10/dist-packages (from pyheif) (1.16.0)\n",
            "Requirement already satisfied: pycparser in /usr/local/lib/python3.10/dist-packages (from cffi>=1.0.0->pyheif) (2.21)\n",
            "Installing collected packages: pyheif\n",
            "Successfully installed pyheif-0.7.1\n",
            "Collecting rembg\n",
            "  Downloading rembg-2.0.51-py3-none-any.whl (31 kB)\n",
            "Requirement already satisfied: numpy in /usr/local/lib/python3.10/dist-packages (from rembg) (1.23.5)\n",
            "Collecting onnxruntime (from rembg)\n",
            "  Downloading onnxruntime-1.16.1-cp310-cp310-manylinux_2_17_x86_64.manylinux2014_x86_64.whl (6.2 MB)\n",
            "\u001b[2K     \u001b[90m━━━━━━━━━━━━━━━━━━━━━━━━━━━━━━━━━━━━━━━━\u001b[0m \u001b[32m6.2/6.2 MB\u001b[0m \u001b[31m50.2 MB/s\u001b[0m eta \u001b[36m0:00:00\u001b[0m\n",
            "\u001b[?25hRequirement already satisfied: opencv-python-headless in /usr/local/lib/python3.10/dist-packages (from rembg) (4.8.1.78)\n",
            "Requirement already satisfied: pillow in /usr/local/lib/python3.10/dist-packages (from rembg) (9.4.0)\n",
            "Requirement already satisfied: pooch in /usr/local/lib/python3.10/dist-packages (from rembg) (1.7.0)\n",
            "Collecting pymatting (from rembg)\n",
            "  Downloading PyMatting-1.1.10-py3-none-any.whl (52 kB)\n",
            "\u001b[2K     \u001b[90m━━━━━━━━━━━━━━━━━━━━━━━━━━━━━━━━━━━━━━━━\u001b[0m \u001b[32m52.5/52.5 kB\u001b[0m \u001b[31m5.2 MB/s\u001b[0m eta \u001b[36m0:00:00\u001b[0m\n",
            "\u001b[?25hRequirement already satisfied: scikit-image in /usr/local/lib/python3.10/dist-packages (from rembg) (0.19.3)\n",
            "Requirement already satisfied: scipy in /usr/local/lib/python3.10/dist-packages (from rembg) (1.11.3)\n",
            "Requirement already satisfied: tqdm in /usr/local/lib/python3.10/dist-packages (from rembg) (4.66.1)\n",
            "Collecting coloredlogs (from onnxruntime->rembg)\n",
            "  Downloading coloredlogs-15.0.1-py2.py3-none-any.whl (46 kB)\n",
            "\u001b[2K     \u001b[90m━━━━━━━━━━━━━━━━━━━━━━━━━━━━━━━━━━━━━━━━\u001b[0m \u001b[32m46.0/46.0 kB\u001b[0m \u001b[31m5.5 MB/s\u001b[0m eta \u001b[36m0:00:00\u001b[0m\n",
            "\u001b[?25hRequirement already satisfied: flatbuffers in /usr/local/lib/python3.10/dist-packages (from onnxruntime->rembg) (23.5.26)\n",
            "Requirement already satisfied: packaging in /usr/local/lib/python3.10/dist-packages (from onnxruntime->rembg) (23.2)\n",
            "Requirement already satisfied: protobuf in /usr/local/lib/python3.10/dist-packages (from onnxruntime->rembg) (3.20.3)\n",
            "Requirement already satisfied: sympy in /usr/local/lib/python3.10/dist-packages (from onnxruntime->rembg) (1.12)\n",
            "Requirement already satisfied: platformdirs>=2.5.0 in /usr/local/lib/python3.10/dist-packages (from pooch->rembg) (3.11.0)\n",
            "Requirement already satisfied: requests>=2.19.0 in /usr/local/lib/python3.10/dist-packages (from pooch->rembg) (2.31.0)\n",
            "Requirement already satisfied: numba!=0.49.0 in /usr/local/lib/python3.10/dist-packages (from pymatting->rembg) (0.56.4)\n",
            "Requirement already satisfied: networkx>=2.2 in /usr/local/lib/python3.10/dist-packages (from scikit-image->rembg) (3.2)\n",
            "Requirement already satisfied: imageio>=2.4.1 in /usr/local/lib/python3.10/dist-packages (from scikit-image->rembg) (2.31.5)\n",
            "Requirement already satisfied: tifffile>=2019.7.26 in /usr/local/lib/python3.10/dist-packages (from scikit-image->rembg) (2023.9.26)\n",
            "Requirement already satisfied: PyWavelets>=1.1.1 in /usr/local/lib/python3.10/dist-packages (from scikit-image->rembg) (1.4.1)\n",
            "Requirement already satisfied: llvmlite<0.40,>=0.39.0dev0 in /usr/local/lib/python3.10/dist-packages (from numba!=0.49.0->pymatting->rembg) (0.39.1)\n",
            "Requirement already satisfied: setuptools in /usr/local/lib/python3.10/dist-packages (from numba!=0.49.0->pymatting->rembg) (67.7.2)\n",
            "Requirement already satisfied: charset-normalizer<4,>=2 in /usr/local/lib/python3.10/dist-packages (from requests>=2.19.0->pooch->rembg) (3.3.0)\n",
            "Requirement already satisfied: idna<4,>=2.5 in /usr/local/lib/python3.10/dist-packages (from requests>=2.19.0->pooch->rembg) (3.4)\n",
            "Requirement already satisfied: urllib3<3,>=1.21.1 in /usr/local/lib/python3.10/dist-packages (from requests>=2.19.0->pooch->rembg) (2.0.7)\n",
            "Requirement already satisfied: certifi>=2017.4.17 in /usr/local/lib/python3.10/dist-packages (from requests>=2.19.0->pooch->rembg) (2023.7.22)\n",
            "Collecting humanfriendly>=9.1 (from coloredlogs->onnxruntime->rembg)\n",
            "  Downloading humanfriendly-10.0-py2.py3-none-any.whl (86 kB)\n",
            "\u001b[2K     \u001b[90m━━━━━━━━━━━━━━━━━━━━━━━━━━━━━━━━━━━━━━━━\u001b[0m \u001b[32m86.8/86.8 kB\u001b[0m \u001b[31m9.6 MB/s\u001b[0m eta \u001b[36m0:00:00\u001b[0m\n",
            "\u001b[?25hRequirement already satisfied: mpmath>=0.19 in /usr/local/lib/python3.10/dist-packages (from sympy->onnxruntime->rembg) (1.3.0)\n",
            "Installing collected packages: humanfriendly, pymatting, coloredlogs, onnxruntime, rembg\n",
            "Successfully installed coloredlogs-15.0.1 humanfriendly-10.0 onnxruntime-1.16.1 pymatting-1.1.10 rembg-2.0.51\n"
          ]
        }
      ]
    },
    {
      "cell_type": "markdown",
      "source": [
        "#バックアップデータの呼び出し\n",
        "バックアップとして保存されているoptPhotoFilesBackUpに格納されているnonRA_Right_HandとnonRA_Left_Handを呼び出し、空のディレクトリ\"optPhotoFiles\"に保存する。"
      ],
      "metadata": {
        "id": "5tyCHY1OPzTr"
      }
    },
    {
      "cell_type": "code",
      "source": [
        "src_dir = \"/content/drive/MyDrive/OptPhotoFiles/optPhotoFilesBackUp/optPhotoFiles/nonRA_Right_Hand\"\n",
        "dst_dir = \"/content/drive/MyDrive/OptPhotoFiles/optPhotoFiles/nonRA/nonRA_Right_Hand\"\n",
        "\n",
        "if not os.path.exists(dst_dir):\n",
        "    shutil.copytree(src_dir, dst_dir)"
      ],
      "metadata": {
        "id": "Ep8-q-pfQr1M"
      },
      "execution_count": 11,
      "outputs": []
    },
    {
      "cell_type": "code",
      "source": [
        "# 対象のディレクトリ\n",
        "target_dir = \"/content/drive/MyDrive/OptPhotoFiles/optPhotoFilesBackUp/optPhotoFiles/nonRA_Right_Hand\"\n",
        "\n",
        "# ファイル数を計算\n",
        "file_count = sum([len(files) for _, _, files in os.walk(target_dir)])\n",
        "\n",
        "print(f\"Total number of files in {target_dir}: {file_count}\")"
      ],
      "metadata": {
        "colab": {
          "base_uri": "https://localhost:8080/"
        },
        "id": "MPhNuRr0Go76",
        "outputId": "157363b8-69df-4976-e344-e936ee37ce74"
      },
      "execution_count": 6,
      "outputs": [
        {
          "output_type": "stream",
          "name": "stdout",
          "text": [
            "Total number of files in /content/drive/MyDrive/OptPhotoFiles/optPhotoFilesBackUp/optPhotoFiles/nonRA_Right_Hand: 1208\n"
          ]
        }
      ]
    },
    {
      "cell_type": "code",
      "source": [
        "# 対象のディレクトリ\n",
        "target_dir = \"/content/drive/MyDrive/OptPhotoFiles/optPhotoFiles/nonRA/nonRA_Right_Hand\"\n",
        "\n",
        "# ファイル数を計算\n",
        "file_count = sum([len(files) for _, _, files in os.walk(target_dir)])\n",
        "\n",
        "print(f\"Total number of files in {target_dir}: {file_count}\")"
      ],
      "metadata": {
        "colab": {
          "base_uri": "https://localhost:8080/"
        },
        "id": "SuF8S1_rWojJ",
        "outputId": "f8a9236a-9c5d-4c3e-b286-9ebe8117f4cc"
      },
      "execution_count": 4,
      "outputs": [
        {
          "output_type": "stream",
          "name": "stdout",
          "text": [
            "Total number of files in /content/drive/MyDrive/OptPhotoFiles/optPhotoFiles/nonRA/nonRA_Right_Hand: 1208\n"
          ]
        }
      ]
    },
    {
      "cell_type": "code",
      "source": [
        "import os\n",
        "import pandas as pd\n",
        "\n",
        "# 指定したディレクトリのパス\n",
        "directory_path = '/content/drive/MyDrive/OptPhotoFiles/optPhotoFilesBackUp/optPhotoFiles/nonRA_Right_Hand'\n",
        "\n",
        "# ディレクトリ内のファイル名をリストに格納\n",
        "file_names = os.listdir(directory_path)\n",
        "\n",
        "# リストをDataFrameに変換\n",
        "df = pd.DataFrame(file_names, columns=['File Names'])\n",
        "# 保存先のパスを指定\n",
        "save_path = '/content/drive/MyDrive/file_names.xlsx'\n",
        "\n",
        "# DataFrameをExcelファイルとして保存\n",
        "df.to_excel(save_path, index=False)"
      ],
      "metadata": {
        "id": "Wf7e3usUHkX0"
      },
      "execution_count": 7,
      "outputs": []
    },
    {
      "cell_type": "markdown",
      "source": [
        "同じ作業を左手にも行う。"
      ],
      "metadata": {
        "id": "yNnX3uK5Q3Oz"
      }
    },
    {
      "cell_type": "code",
      "source": [
        "src_dir = \"/content/drive/MyDrive/OptPhotoFiles/optPhotoFilesBackUp/optPhotoFiles/nonRA_Left_Hand\"\n",
        "dst_dir = \"/content/drive/MyDrive/OptPhotoFiles/optPhotoFiles/nonRA/nonRA_Left_Hand\"\n",
        "\n",
        "if not os.path.exists(dst_dir):\n",
        "    shutil.copytree(src_dir, dst_dir)"
      ],
      "metadata": {
        "id": "47HCaHi9Q74x"
      },
      "execution_count": null,
      "outputs": []
    },
    {
      "cell_type": "code",
      "source": [
        "# 対象のディレクトリ\n",
        "target_dir = \"/content/drive/MyDrive/OptPhotoFiles/optPhotoFiles/nonRA/nonRA_Left_Hand\"\n",
        "\n",
        "# ファイル数を計算\n",
        "file_count = sum([len(files) for _, _, files in os.walk(target_dir)])\n",
        "\n",
        "print(f\"Total number of files in {target_dir}: {file_count}\")"
      ],
      "metadata": {
        "colab": {
          "base_uri": "https://localhost:8080/"
        },
        "id": "ecONTzkKWvxP",
        "outputId": "b2f4115f-99cb-4def-b872-20026e52e28d"
      },
      "execution_count": 4,
      "outputs": [
        {
          "output_type": "stream",
          "name": "stdout",
          "text": [
            "Total number of files in /content/drive/MyDrive/OptPhotoFiles/optPhotoFiles/nonRA/nonRA_Left_Hand: 1200\n"
          ]
        }
      ]
    },
    {
      "cell_type": "markdown",
      "source": [
        "#画像ファイルの名称統一\n",
        "nonRA_Right_HandとnonRA_Left_Handには、さまざまなファイル形式の画像ファイルが格納されており、その名称もまちまちで規則性に欠ける。まず、それらの画像ファイルとdemographic_dataを結びつけるために、ファイル名称を\"nonRA_right_hand_番号_.拡張子\"の形式に統一する。このファイル名は\"right_hand_filename\"として既存のデータテーブル\"optPhotoTable_controls.csv\"に保存する。"
      ],
      "metadata": {
        "id": "f_Jnq6FyRFoX"
      }
    },
    {
      "cell_type": "markdown",
      "source": [
        "作業用の複製を作成する。"
      ],
      "metadata": {
        "id": "viMHm7AZSu00"
      }
    },
    {
      "cell_type": "code",
      "source": [
        "src_dir = \"/content/drive/MyDrive/OptPhotoFiles/optPhotoFiles/nonRA/nonRA_Right_Hand\"\n",
        "dst_dir = \"/content/drive/MyDrive/OptPhotoFiles/optPhotoFiles/nonRA/nonRA_Right_Hand_1st\"\n",
        "\n",
        "if not os.path.exists(dst_dir):\n",
        "    shutil.copytree(src_dir, dst_dir)"
      ],
      "metadata": {
        "id": "bfJbJsvCS77o"
      },
      "execution_count": 6,
      "outputs": []
    },
    {
      "cell_type": "markdown",
      "source": [
        "複製時にファイルの脱落がないことを確認するため、複製後のファイル数を確認する。"
      ],
      "metadata": {
        "id": "OsSwu81HTUV1"
      }
    },
    {
      "cell_type": "code",
      "source": [
        "# 対象のディレクトリ\n",
        "target_dir = \"/content/drive/MyDrive/OptPhotoFiles/optPhotoFiles/nonRA/nonRA_Right_Hand_1st\"\n",
        "\n",
        "# ファイル数を計算\n",
        "file_count = sum([len(files) for _, _, files in os.walk(target_dir)])\n",
        "\n",
        "print(f\"Total number of files in {target_dir}: {file_count}\")"
      ],
      "metadata": {
        "colab": {
          "base_uri": "https://localhost:8080/"
        },
        "id": "sDN6Ml0sTfRG",
        "outputId": "be1d204b-9e3f-49ea-a53e-d9ea377263da"
      },
      "execution_count": 7,
      "outputs": [
        {
          "output_type": "stream",
          "name": "stdout",
          "text": [
            "Total number of files in /content/drive/MyDrive/OptPhotoFiles/optPhotoFiles/nonRA/nonRA_Right_Hand_1st: 1208\n"
          ]
        }
      ]
    },
    {
      "cell_type": "markdown",
      "source": [
        "同じ作業を左手にも行う。"
      ],
      "metadata": {
        "id": "8dht0S_GTrNw"
      }
    },
    {
      "cell_type": "code",
      "source": [
        "src_dir = \"/content/drive/MyDrive/OptPhotoFiles/optPhotoFiles/nonRA/nonRA_Left_Hand\"\n",
        "dst_dir = \"/content/drive/MyDrive/OptPhotoFiles/optPhotoFiles/nonRA/nonRA_Left_Hand_1st\"\n",
        "\n",
        "if not os.path.exists(dst_dir):\n",
        "    shutil.copytree(src_dir, dst_dir)"
      ],
      "metadata": {
        "id": "NDbxx9mPTsGV"
      },
      "execution_count": 14,
      "outputs": []
    },
    {
      "cell_type": "markdown",
      "source": [
        "複製後のファイル数を確認する。"
      ],
      "metadata": {
        "id": "wKFHgQC6T575"
      }
    },
    {
      "cell_type": "code",
      "source": [
        "# 対象のディレクトリ\n",
        "target_dir = \"/content/drive/MyDrive/OptPhotoFiles/optPhotoFiles/nonRA/nonRA_Left_Hand_1st\"\n",
        "\n",
        "# ファイル数を計算\n",
        "file_count = sum([len(files) for _, _, files in os.walk(target_dir)])\n",
        "\n",
        "print(f\"Total number of files in {target_dir}: {file_count}\")"
      ],
      "metadata": {
        "colab": {
          "base_uri": "https://localhost:8080/"
        },
        "id": "ZCx9j0sGT_26",
        "outputId": "2564b600-6648-45c4-f06d-009e6992fd0b"
      },
      "execution_count": 15,
      "outputs": [
        {
          "output_type": "stream",
          "name": "stdout",
          "text": [
            "Total number of files in /content/drive/MyDrive/OptPhotoFiles/optPhotoFiles/nonRA/nonRA_Left_Hand_1st: 1200\n"
          ]
        }
      ]
    },
    {
      "cell_type": "markdown",
      "source": [
        "さらに、使用するcsvファイルも、破損がないものを'optPhotoTable_back_up'と命名したディレクトリに保存し、ここから作業の都度、MyDriveの外にコピーしたoptPhotoTable内のcsvを使用することとする。"
      ],
      "metadata": {
        "id": "twbjnrX4xfhY"
      }
    },
    {
      "cell_type": "code",
      "source": [
        "src_dir = \"/content/drive/MyDrive/OptPhotoFiles/optPhotoTable/optPhotoTable_back_up\"\n",
        "dst_dir = \"/content/optPhotoTable\"\n",
        "\n",
        "if not os.path.exists(dst_dir):\n",
        "    shutil.copytree(src_dir, dst_dir)"
      ],
      "metadata": {
        "id": "yG7wnWKgyXg1"
      },
      "execution_count": 8,
      "outputs": []
    },
    {
      "cell_type": "markdown",
      "source": [
        "複製後のファイル数を確認する。"
      ],
      "metadata": {
        "id": "HvgnL5RJy8ry"
      }
    },
    {
      "cell_type": "code",
      "source": [
        "# 対象のディレクトリ\n",
        "target_dir = \"/content/optPhotoTable\"\n",
        "\n",
        "# ファイル数を計算\n",
        "file_count = sum([len(files) for _, _, files in os.walk(target_dir)])\n",
        "\n",
        "print(f\"Total number of files in {target_dir}: {file_count}\")"
      ],
      "metadata": {
        "colab": {
          "base_uri": "https://localhost:8080/"
        },
        "id": "oBHThLDnzBZc",
        "outputId": "30c426b5-c41b-4b63-9bef-520a3e0bd541"
      },
      "execution_count": 9,
      "outputs": [
        {
          "output_type": "stream",
          "name": "stdout",
          "text": [
            "Total number of files in /content/optPhotoTable: 8\n"
          ]
        }
      ]
    },
    {
      "cell_type": "markdown",
      "source": [
        "作業を開始する。"
      ],
      "metadata": {
        "id": "wp4qNh34UNIC"
      }
    },
    {
      "cell_type": "code",
      "source": [
        "import pandas as pd\n",
        "import os\n",
        "import shutil\n",
        "\n",
        "# CSVデータを読み込む\n",
        "csv_path = '/content/drive/MyDrive/OptPhotoFiles/optPhotoTable/optPhotoTable_for_use/optPhotoTable_controls_1203cases_.csv'\n",
        "data = pd.read_csv(csv_path)\n",
        "\n",
        "# right_hand_filenameからファイル名（拡張子を除く）を取得\n",
        "data['filename_without_ext'] = data['right_hand_filename'].str.rsplit(pat='.', n=1).str[0]\n",
        "\n",
        "# 画像ファイルの一覧を取得\n",
        "image_dir = '/content/drive/MyDrive/OptPhotoFiles/optPhotoFiles/nonRA/nonRA_Right_Hand_1st'\n",
        "image_files = os.listdir(image_dir)\n",
        "image_files_without_ext = [os.path.splitext(file)[0] for file in image_files]\n",
        "\n",
        "# 出力ディレクトリを確認し、存在しなければ作成\n",
        "output_dir = '/content/drive/MyDrive/OptPhotoFiles/optPhotoFiles/nonRA/nonRA_Right_Hand_2nd'\n",
        "if not os.path.exists(output_dir):\n",
        "    os.makedirs(output_dir)\n",
        "\n",
        "# 新しいファイル名を格納する辞書\n",
        "new_filename_dict = {}\n",
        "\n",
        "# ファイル名の照合と変更\n",
        "for index, image_name_without_ext in enumerate(image_files_without_ext):\n",
        "    if image_name_without_ext in data['filename_without_ext'].values:\n",
        "        ext = os.path.splitext(image_files[index])[1]\n",
        "        new_filename = f\"nonRA_right_hand_{index + 1}{ext}\"\n",
        "        new_filename_dict[image_name_without_ext] = new_filename\n",
        "\n",
        "        # ファイルをコピー\n",
        "        old_filepath = os.path.join(image_dir, image_files[index])\n",
        "        new_filepath = os.path.join(output_dir, new_filename)\n",
        "        shutil.copy2(old_filepath, new_filepath)\n",
        "\n",
        "# 新しいファイル名をCSVデータに追加\n",
        "data['new_right_hand_filename'] = data['filename_without_ext'].map(new_filename_dict)\n",
        "\n",
        "# CSVファイルを保存\n",
        "data.to_csv(csv_path, index=False)"
      ],
      "metadata": {
        "id": "kyzF1dSzUNlM"
      },
      "execution_count": 8,
      "outputs": []
    },
    {
      "cell_type": "markdown",
      "source": [
        "作業時にファイルの脱落がないことを確認するため、複製後のファイル数を確認する。"
      ],
      "metadata": {
        "id": "4AmKsezyUp8O"
      }
    },
    {
      "cell_type": "code",
      "source": [
        "# 対象のディレクトリ\n",
        "target_dir = \"/content/drive/MyDrive/OptPhotoFiles/optPhotoFiles/nonRA/nonRA_Right_Hand_2nd\"\n",
        "\n",
        "# ファイル数を計算\n",
        "file_count = sum([len(files) for _, _, files in os.walk(target_dir)])\n",
        "\n",
        "print(f\"Total number of files in {target_dir}: {file_count}\")"
      ],
      "metadata": {
        "colab": {
          "base_uri": "https://localhost:8080/"
        },
        "id": "uWdXXXFxUqFI",
        "outputId": "e7b36136-0777-46c3-b183-9098888e98de"
      },
      "execution_count": 9,
      "outputs": [
        {
          "output_type": "stream",
          "name": "stdout",
          "text": [
            "Total number of files in /content/drive/MyDrive/OptPhotoFiles/optPhotoFiles/nonRA/nonRA_Right_Hand_2nd: 1090\n"
          ]
        }
      ]
    },
    {
      "cell_type": "code",
      "source": [
        "import pandas as pd\n",
        "import os\n",
        "\n",
        "# CSVデータを読み込む\n",
        "csv_path = '/content/drive/MyDrive/OptPhotoFiles/optPhotoTable/optPhotoTable_for_use/optPhotoTable_controls_1203cases_.csv'\n",
        "data = pd.read_csv(csv_path)\n",
        "\n",
        "# right_hand_filenameのファイル名（拡張子を除く）をリスト化\n",
        "csv_files_without_ext = data['right_hand_filename'].str.rsplit(pat='.', n=1).str[0].tolist()\n",
        "\n",
        "# nonRA_Right_Hand_1stのファイル一覧を取得\n",
        "dir_1st = '/content/drive/MyDrive/OptPhotoFiles/optPhotoFiles/nonRA/nonRA_Right_Hand_1st'\n",
        "files_1st = os.listdir(dir_1st)\n",
        "files_1st_without_ext = [os.path.splitext(file)[0] for file in files_1st]\n",
        "\n",
        "# 照合されなかったファイル名をリストアップ\n",
        "unmatched_files = [file for file in files_1st_without_ext if file not in csv_files_without_ext]\n",
        "\n",
        "# 結果を表示\n",
        "print(f\"Number of unmatched files: {len(unmatched_files)}\")\n",
        "print(\"\\n\".join(sorted(unmatched_files)))\n"
      ],
      "metadata": {
        "id": "z8-4A8lPg7PS",
        "colab": {
          "base_uri": "https://localhost:8080/"
        },
        "outputId": "0188ea53-ba0a-4582-c392-a6744834db85"
      },
      "execution_count": 10,
      "outputs": [
        {
          "output_type": "stream",
          "name": "stdout",
          "text": [
            "Number of unmatched files: 118\n",
            ".DS_Store\n",
            "139092 - Wくろーばー\n",
            "16935491218270 - ダダダ\n",
            "16936887621261567231452185773132 - Daisuke Sasaki (ダイスケ)\n",
            "16938056130092956529229493354723 - マドレーヌ\n",
            "16938263423815238061394904543704 - もふもふうさぎ\n",
            "16938937785752280696060118810028 - ローストビーフ\n",
            "16939233555418178658477424367657 - 豊坂竹寿（プン）\n",
            "16939700237033007148771765966352 - あきぶー\n",
            "16941753974997621506871000529839 - ランキング動画スタトレch\n",
            "16942294062097119172031907879149 - テキベンジャー\n",
            "1694417994680 - 夏バテ子\n",
            "20230901-1 - えび\n",
            "20230901_142527 - パテマ\n",
            "20230902_225705 - 烏宮わかば\n",
            "20230905_104007 - いずみ\n",
            "20230905_223809 - だいちゃん\n",
            "20230906_113753 - ぱるもも\n",
            "20230909_162120_ - リアル知人にバレてはいけない趣味アカ\n",
            "230903101922155 - かず\n",
            "230908065307680 - たなぼた\n",
            "31CC6BE9-F2D0-4F49-B8EB-0247E2697F48 - ろびん\n",
            "32369503-D053-4350-AA3F-0C82BC8E5C1F - さけるちーず\n",
            "42565 - パシフィックチューブ\n",
            "5057592E-C0DF-41C1-B660-AE7C0F943F2A - ポテトへっど\n",
            "579EBF9E-071A-47A9-B3B0-330ABF8C3583 - でこぼーこ\n",
            "B50A0BD4-EA63-42F1-9F4C-A0DFCAA65D71 - やまだかず\n",
            "DSC01403 - ごまむぎ\n",
            "DSC_0004 - クラウドワークス仕事\n",
            "DSC_0048~2 - 山口ノボル\n",
            "DSC_0050 - たまご\n",
            "DSC_0157右 - ペリドット\n",
            "DSC_0169 - 島田忠彦\n",
            "DSC_0177 - ぴかちゅう\n",
            "DSC_0421 - 坪田裕貴（イーリスソフトスタジオ）\n",
            "DSC_1976 - えびさわくみこ\n",
            "DSC_4258 - すずめ\n",
            "F1D5C001-410D-4993-9BC0-7BB75E36AB42 - ちゃんぽん\n",
            "IMG-5977 - すぐる\n",
            "IMG20230901072450 - だかなぁなん\n",
            "IMG20230901121201 - パルモギ\n",
            "IMG20230907001112 - ぶっちぃ\n",
            "IMG20230916083141 - れんずじゃぱん\n",
            "IMG20230917082909 - いぽ\n",
            "IMG_0350 - タカダケンシ\n",
            "IMG_0390 - デボン\n",
            "IMG_0676 - マクド鈴木\n",
            "IMG_0796 - ミスターサドル\n",
            "IMG_0861 - Cros rivière\n",
            "IMG_0897 - 平松雄太郎（IRODORI -イロドリ-）\n",
            "IMG_1143 - ねこパンチ\n",
            "IMG_1521 - Lola RománTaketomi\n",
            "IMG_1999[1] - プライベートトンボ\n",
            "IMG_2023-09-19-18-51-51-970~2 - 池上里美\n",
            "IMG_20230902_041209 - コピー - 篠永隼\n",
            "IMG_20230904_182442 - AIKO Y\n",
            "IMG_20230913_185021 - ヘビガラガラ\n",
            "IMG_20230925_094039 - ダメおやじ\n",
            "IMG_2386 - 鈴木みどり\n",
            "IMG_2585 - なな\n",
            "IMG_2601 - デコアンドブーハウス\n",
            "IMG_2684 - ひで\n",
            "IMG_3107 - ポテニン\n",
            "IMG_3633 - やぎちゃん\n",
            "IMG_3672 - いわさきまぶ\n",
            "IMG_3801 - にゃべ\n",
            "IMG_3952 - りーぴ\n",
            "IMG_4087 - かずちん釣行記（カーズ）\n",
            "IMG_4878 - 煮どうふ\n",
            "IMG_4964 - はり・きゅうマッサージ院ケアスマイル\n",
            "IMG_5512 - ルイはポメラニアン\n",
            "IMG_6108 - ラッド睦\n",
            "IMG_6170 - ゆず\n",
            "IMG_6423 - 後藤沙織\n",
            "IMG_7052 - あびこ\n",
            "IMG_7065 - ネギガナイトユウキ\n",
            "IMG_7256 - すスプラ\n",
            "IMG_7556 - ぽにょまる\n",
            "IMG_7593 - Re_ poris\n",
            "IMG_8368 - ぽょょん\n",
            "IMG_8836 - 中村ゆず子\n",
            "IMG_9428 - じゅじゅ\n",
            "IMG_9798 - ノエルうさぎ\n",
            "IMG_9992 - めぐみ\n",
            "PXL_20230901_063125716.MP - どりー777\n",
            "PXL_20230904_095935733 - ごろはな\n",
            "PXL_20230905_213230861.MP - コピー - Junichiro Sekihashi\n",
            "PXL_20230906_040157361 - かたげ\n",
            "PXL_20230907_121641384 - クローバーBO\n",
            "PXL_20230908_003314791.MP - ふくろうのあくび\n",
            "PXL_20230911_024431963 - だいずチャンネル\n",
            "P_20230908_222346_1_1 - nagare Ryokudou (ナガレ)\n",
            "Right - だいすけそまき\n",
            "image - いじゅえり\n",
            "image - じゃすみん\n",
            "image - ふじ\n",
            "image - ぽけ3\n",
            "image - キズマキfx\n",
            "image - ジャパンクリエイト\n",
            "image - ツムグ（つむ）\n",
            "image - マサカリゴゼン\n",
            "image - 切通めぐみ\n",
            "image0 - ソーゴ\n",
            "migi - あずきちゃん\n",
            "right - あいざわなおき\n",
            "right hand - スガイタミオ\n",
            "【右手】 - とあるおじさん351号\n",
            "みぎ - 伊藤紘一郎\n",
            "イメージ - 鶴城有希\n",
            "右手 - なぎさの.\n",
            "右手 - のぶりん\n",
            "右手 - ぱそこんクリニック盛岡\n",
            "右手 - むんぺん\n",
            "右手 - ナカザワyuko\n",
            "右手 - 選ばれたのは綾鷹でした。\n",
            "右手 - 雪りんご\n",
            "手 - 伊藤いづみ\n",
            "画像3 - 小徳美穂\n"
          ]
        }
      ]
    },
    {
      "cell_type": "code",
      "source": [
        "import pandas as pd\n",
        "import os\n",
        "import shutil\n",
        "\n",
        "# 照合されなかったファイルのリストを取得\n",
        "csv_path =  '/content/drive/MyDrive/OptPhotoFiles/optPhotoTable/optPhotoTable_for_use/optPhotoTable_controls_1203cases_.csv'\n",
        "data = pd.read_csv(csv_path)\n",
        "csv_files_without_ext = data['right_hand_filename'].str.rsplit(pat='.', n=1).str[0].tolist()\n",
        "\n",
        "dir_1st = '/content/drive/MyDrive/OptPhotoFiles/optPhotoFiles/nonRA/nonRA_Right_Hand_1st'\n",
        "files_1st = os.listdir(dir_1st)\n",
        "files_1st_without_ext = [os.path.splitext(file)[0] for file in files_1st]\n",
        "\n",
        "unmatched_files = [file for file in files_1st if os.path.splitext(file)[0] not in csv_files_without_ext]\n",
        "\n",
        "# ファイルの改名と移動\n",
        "new_dir = '/content/drive/MyDrive/OptPhotoFiles/optPhotoFiles/nonRA/nonRA_Right_Hand_2000th'\n",
        "if not os.path.exists(new_dir):\n",
        "    os.makedirs(new_dir)\n",
        "\n",
        "rename_map = {}\n",
        "counter = 2001\n",
        "\n",
        "for file in unmatched_files:\n",
        "    old_path = os.path.join(dir_1st, file)\n",
        "    file_ext = os.path.splitext(file)[1]\n",
        "    new_filename = f\"nonRA_right_hand_{counter}{file_ext}\"\n",
        "    new_path = os.path.join(new_dir, new_filename)\n",
        "    shutil.move(old_path, new_path)\n",
        "\n",
        "    rename_map[file] = new_filename\n",
        "    counter += 1\n",
        "\n",
        "df_rename_map = pd.DataFrame(list(rename_map.items()), columns=['Original', 'Renamed'])\n",
        "\n",
        "# ファイル名のマッピングをCSVに保存\n",
        "csv_save_path = '/content/rename_mapping_right_hand.csv'\n",
        "df_rename_map.to_csv(csv_save_path, index=False)\n",
        "\n",
        "print(f\"Renaming and moving completed. Mapping saved to {csv_save_path}\")\n",
        "\n",
        "# マッピングの辞書をDataFrameに変換\n",
        "df_rename_map = pd.DataFrame(list(rename_map.items()), columns=['Original', 'Renamed'])"
      ],
      "metadata": {
        "colab": {
          "base_uri": "https://localhost:8080/"
        },
        "id": "bN2-rCh5reLo",
        "outputId": "d82859b8-02f9-446c-8f21-64d960d56ac7"
      },
      "execution_count": 11,
      "outputs": [
        {
          "output_type": "stream",
          "name": "stdout",
          "text": [
            "Renaming and moving completed. Mapping saved to /content/rename_mapping_right_hand.csv\n"
          ]
        }
      ]
    },
    {
      "cell_type": "markdown",
      "source": [
        "nonRA_Left_Hand_2000に含まれるファイル数を確認する。"
      ],
      "metadata": {
        "id": "Y4Ns6E4w29Pg"
      }
    },
    {
      "cell_type": "code",
      "source": [
        "# 対象のディレクトリ\n",
        "target_dir = '/content/drive/MyDrive/OptPhotoFiles/optPhotoFiles/nonRA/nonRA_Right_Hand_2000th'\n",
        "\n",
        "# ファイル数を計算\n",
        "file_count = sum([len(files) for _, _, files in os.walk(target_dir)])\n",
        "\n",
        "print(f\"Total number of files in {target_dir}: {file_count}\")"
      ],
      "metadata": {
        "colab": {
          "base_uri": "https://localhost:8080/"
        },
        "id": "JyXCZKHV3Ef2",
        "outputId": "d1e1585f-e0d5-413c-ad85-b5e27252c9c0"
      },
      "execution_count": 23,
      "outputs": [
        {
          "output_type": "stream",
          "name": "stdout",
          "text": [
            "Total number of files in /content/drive/MyDrive/OptPhotoFiles/optPhotoFiles/nonRA/nonRA_Right_Hand_2000th: 132\n"
          ]
        }
      ]
    },
    {
      "cell_type": "markdown",
      "source": [
        "左手の画像ファイルにも同様の作業を行う。"
      ],
      "metadata": {
        "id": "1F_m-vlMVevN"
      }
    },
    {
      "cell_type": "code",
      "source": [
        "import pandas as pd\n",
        "import os\n",
        "import shutil\n",
        "\n",
        "# CSVデータを読み込む\n",
        "csv_path = '/content/optPhotoTable/optPhotoTable_controls.csv'\n",
        "data = pd.read_csv(csv_path)\n",
        "\n",
        "# right_hand_filenameからファイル名（拡張子を除く）を取得\n",
        "data['filename_without_ext'] = data['left_hand_filename'].str.rsplit(pat='.', n=1).str[0]\n",
        "\n",
        "# 画像ファイルの一覧を取得\n",
        "image_dir = '/content/drive/MyDrive/OptPhotoFiles/optPhotoFiles/nonRA/nonRA_Left_Hand_1st'\n",
        "image_files = os.listdir(image_dir)\n",
        "image_files_without_ext = [os.path.splitext(file)[0] for file in image_files]\n",
        "\n",
        "# 出力ディレクトリを確認し、存在しなければ作成\n",
        "output_dir = '/content/drive/MyDrive/OptPhotoFiles/optPhotoFiles/nonRA/nonRA_Left_Hand_2nd'\n",
        "if not os.path.exists(output_dir):\n",
        "    os.makedirs(output_dir)\n",
        "\n",
        "# 新しいファイル名を格納する辞書\n",
        "new_filename_dict = {}\n",
        "\n",
        "# ファイル名の照合と変更\n",
        "for index, image_name_without_ext in enumerate(image_files_without_ext):\n",
        "    if image_name_without_ext in data['filename_without_ext'].values:\n",
        "        ext = os.path.splitext(image_files[index])[1]\n",
        "        new_filename = f\"nonRA_left_hand_{index + 1}{ext}\"\n",
        "        new_filename_dict[image_name_without_ext] = new_filename\n",
        "\n",
        "        # ファイルをコピー\n",
        "        old_filepath = os.path.join(image_dir, image_files[index])\n",
        "        new_filepath = os.path.join(output_dir, new_filename)\n",
        "        shutil.copy2(old_filepath, new_filepath)\n",
        "\n",
        "# 新しいファイル名をCSVデータに追加\n",
        "data['new_left_hand_filename'] = data['filename_without_ext'].map(new_filename_dict)\n",
        "\n",
        "# CSVファイルを保存\n",
        "data.to_csv(csv_path, index=False)"
      ],
      "metadata": {
        "id": "7Le4XERQVlRm"
      },
      "execution_count": 24,
      "outputs": []
    },
    {
      "cell_type": "markdown",
      "source": [
        "作業時にファイルの脱落がないことを確認するため、複製後のファイル数を確認する。"
      ],
      "metadata": {
        "id": "zHBj-NxxVuMy"
      }
    },
    {
      "cell_type": "code",
      "source": [
        "# 対象のディレクトリ\n",
        "target_dir = \"/content/drive/MyDrive/OptPhotoFiles/optPhotoFiles/nonRA/nonRA_Left_Hand_2nd\"\n",
        "\n",
        "# ファイル数を計算\n",
        "file_count = sum([len(files) for _, _, files in os.walk(target_dir)])\n",
        "\n",
        "print(f\"Total number of files in {target_dir}: {file_count}\")"
      ],
      "metadata": {
        "colab": {
          "base_uri": "https://localhost:8080/"
        },
        "id": "6hYef0KJVwqq",
        "outputId": "0c5c6881-0506-4cf3-9771-0ed3d338f38b"
      },
      "execution_count": 25,
      "outputs": [
        {
          "output_type": "stream",
          "name": "stdout",
          "text": [
            "Total number of files in /content/drive/MyDrive/OptPhotoFiles/optPhotoFiles/nonRA/nonRA_Left_Hand_2nd: 1071\n"
          ]
        }
      ]
    },
    {
      "cell_type": "code",
      "source": [
        "import pandas as pd\n",
        "import os\n",
        "\n",
        "# CSVデータを読み込む\n",
        "csv_path = '/content/optPhotoTable/optPhotoTable_controls.csv'\n",
        "data = pd.read_csv(csv_path)\n",
        "\n",
        "# right_hand_filenameのファイル名（拡張子を除く）をリスト化\n",
        "csv_files_without_ext = data['left_hand_filename'].str.rsplit(pat='.', n=1).str[0].tolist()\n",
        "\n",
        "# nonRA_Left_Hand_1stのファイル一覧を取得\n",
        "dir_1st = '/content/drive/MyDrive/OptPhotoFiles/optPhotoFiles/nonRA/nonRA_Left_Hand_1st'\n",
        "files_1st = os.listdir(dir_1st)\n",
        "files_1st_without_ext = [os.path.splitext(file)[0] for file in files_1st]\n",
        "\n",
        "# 照合されなかったファイル名をリストアップ\n",
        "unmatched_files = [file for file in files_1st_without_ext if file not in csv_files_without_ext]\n",
        "\n",
        "# 結果を表示\n",
        "print(f\"Number of unmatched files: {len(unmatched_files)}\")\n",
        "print(\"\\n\".join(sorted(unmatched_files)))"
      ],
      "metadata": {
        "colab": {
          "base_uri": "https://localhost:8080/"
        },
        "id": "LXBUa-M44YhQ",
        "outputId": "28c6d94c-f665-43f0-f62d-3e8e7665a17c"
      },
      "execution_count": 26,
      "outputs": [
        {
          "output_type": "stream",
          "name": "stdout",
          "text": [
            "Number of unmatched files: 129\n",
            ".DS_Store\n",
            "11D725DD-470E-4D54-A9C6-86CC7678E5BE - ちゃんぽん\n",
            "139091 - Wくろーばー\n",
            "16935491220241 - ダダダ\n",
            "16936888001023448702726803656649 - Daisuke Sasaki (ダイスケ)\n",
            "16938056831914806607150442218909 - マドレーヌ\n",
            "16938263744198438720843662757159 - もふもふうさぎ\n",
            "16938938537626922193867164875586 - ローストビーフ\n",
            "16939233990632103362032329564222 - 豊坂竹寿（プン）\n",
            "16939700779793150902473308906639 - あきぶー\n",
            "16941754264587574177806647020502 - ランキング動画スタトレch\n",
            "16942294671437814175898042002335 - テキベンジャー\n",
            "1694417996805 - 夏バテ子\n",
            "20230901-2 - えび\n",
            "20230901_142513 - パテマ\n",
            "20230902_225851 - 烏宮わかば\n",
            "20230905_104029 - いずみ\n",
            "20230905_223829 - だいちゃん\n",
            "20230906_113651 - ぱるもも\n",
            "20230909_162135_ - リアル知人にバレてはいけない趣味アカ\n",
            "230903101853844 - かず\n",
            "230908065002370 - たなぼた\n",
            "42566 - パシフィックチューブ\n",
            "50145A14-CD15-4640-AF2F-62291DCEC0BB - でこぼーこ\n",
            "6489F3E0-23AB-43D0-986B-EEF6B7FC6B23 - ろびん\n",
            "726BABDA-AE8E-4B9A-AC08-69C80EDAFB27 - ポテトへっど\n",
            "9A971FD8-658A-4E66-83E8-6935A6CB2FBD - やまだかず\n",
            "DSC01400 - ごまむぎ\n",
            "DSC_0000_BURST20230903161433497_COVER - すずめ\n",
            "DSC_0002 - クラウドワークス仕事\n",
            "DSC_0047~3 - 山口ノボル\n",
            "DSC_0051 - たまご\n",
            "DSC_0069 - Hiro\n",
            "DSC_0155左 - ペリドット\n",
            "DSC_0168 - 島田忠彦\n",
            "DSC_0179 - ぴかちゅう\n",
            "DSC_0262 - asa o\n",
            "DSC_0423 - 坪田裕貴（イーリスソフトスタジオ）\n",
            "DSC_1977 - えびさわくみこ\n",
            "F1C722DD-0CE1-4248-9174-E08D9E97DFFA - さけるちーず\n",
            "IMG-5976 - すぐる\n",
            "IMG20230901072510 - だかなぁなん\n",
            "IMG20230901120756 - パルモギ\n",
            "IMG20230907001123 - ぶっちぃ\n",
            "IMG20230916083133 - れんずじゃぱん\n",
            "IMG20230917082915 - いぽ\n",
            "IMG_0349 - タカダケンシ\n",
            "IMG_0391 - デボン\n",
            "IMG_0677 - マクド鈴木\n",
            "IMG_0792 - ミスターサドル\n",
            "IMG_0857 - 山野辺祥子\n",
            "IMG_0862 - Cros rivière\n",
            "IMG_0896 - 平松雄太郎（IRODORI -イロドリ-）\n",
            "IMG_1141 - ねこパンチ\n",
            "IMG_1522 - Lola RománTaketomi\n",
            "IMG_1796 - Ho2O hO2O\n",
            "IMG_2001[1] - プライベートトンボ\n",
            "IMG_2023-09-01-12-29-43-833 - mikimouse\n",
            "IMG_20230902_041225 - コピー - 篠永隼\n",
            "IMG_20230913_184924 - ヘビガラガラ\n",
            "IMG_20230925_094245 - ダメおやじ\n",
            "IMG_2257 - 佐藤明義\n",
            "IMG_2387 - 鈴木みどり\n",
            "IMG_2584 - なな\n",
            "IMG_2600 - デコアンドブーハウス\n",
            "IMG_2686 - ひで\n",
            "IMG_3108 - ポテニン\n",
            "IMG_3261 - 高橋良光_未奈\n",
            "IMG_3634 - やぎちゃん\n",
            "IMG_3673 - いわさきまぶ\n",
            "IMG_3802 - にゃべ\n",
            "IMG_3822 - KT_DB\n",
            "IMG_3951 - りーぴ\n",
            "IMG_4085 - かずちん釣行記（カーズ）\n",
            "IMG_4877 - 煮どうふ\n",
            "IMG_4965 - はり・きゅうマッサージ院ケアスマイル\n",
            "IMG_5513 - ルイはポメラニアン\n",
            "IMG_6107 - ラッド睦\n",
            "IMG_6171 - ゆず\n",
            "IMG_7051 - あびこ\n",
            "IMG_7064 - ネギガナイトユウキ\n",
            "IMG_7255 - すスプラ\n",
            "IMG_7415 - りそ_\n",
            "IMG_7435 - kiichi “artist_s love” inoue\n",
            "IMG_7557 - ぽにょまる\n",
            "IMG_7594 - Re_ poris\n",
            "IMG_7805 - Kazuya _\n",
            "IMG_8369 - ぽょょん\n",
            "IMG_8841 - 中村ゆず子\n",
            "IMG_9427 - じゅじゅ\n",
            "IMG_9805 - ノエルうさぎ\n",
            "IMG_9993 - めぐみ\n",
            "Left - だいすけそまき\n",
            "PXL_20230901_063224703 - どりー777\n",
            "PXL_20230904_095954681 - ごろはな\n",
            "PXL_20230906_040058494 - かたげ\n",
            "PXL_20230907_121631225 - クローバーBO\n",
            "PXL_20230908_003402115.MP~2 - ふくろうのあくび\n",
            "PXL_20230911_024449859.MP - だいずチャンネル\n",
            "P_20230908_222346_1_2 - nagare Ryokudou (ナガレ)\n",
            "SNOW_20230902_160740_448 - 草間奈津美\n",
            "hodari - あずきちゃん\n",
            "image - _ kaori\n",
            "image - いじゅえり\n",
            "image - じゃすみん\n",
            "image - ふじ\n",
            "image - ぽけ3\n",
            "image - キズマキfx\n",
            "image - ジャパンクリエイト\n",
            "image - ツムグ（つむ）\n",
            "image - マサカリゴゼン\n",
            "image - 切通めぐみ\n",
            "image1 - kuma\n",
            "image1 - ソーゴ\n",
            "left - あいざわなおき\n",
            "left hand - スガイタミオ\n",
            "→ - ねねね\n",
            "【左手】 - とあるおじさん351号\n",
            "ひだり - 伊藤紘一郎\n",
            "イメージ 2 - 鶴城有希\n",
            "左手 - natsume _\n",
            "左手 - なぎさの.\n",
            "左手 - のぶりん\n",
            "左手 - ぱそこんクリニック盛岡\n",
            "左手 - むんぺん\n",
            "左手 - ナカザワyuko\n",
            "左手 - 選ばれたのは綾鷹でした。\n",
            "左手 - 雪りんご\n",
            "手2 - 伊藤いづみ\n"
          ]
        }
      ]
    },
    {
      "cell_type": "code",
      "source": [
        "import pandas as pd\n",
        "import os\n",
        "import shutil\n",
        "##失われたデータを同定する。\n",
        "#指定されたパスのCSVファイルを指すための変数\"csv_path\"を設定。\n",
        "csv_path =  '/content/optPhotoTable/optPhotoTable_controls.csv'\n",
        "#Pandasライブラリを使用して、直前に\"csv_path\"で指定されたパスのCSVファイルを読み込み、\"data\"というDataFrameに格納。\n",
        "data = pd.read_csv(csv_path)\n",
        "#\"left_hand_filename\"カラムのファイル名から拡張子を除去し、リスト化する。\n",
        "csv_files_without_ext = data['left_hand_filename'].str.rsplit(pat='.', n=1).str[0].tolist()\n",
        "#操作対象のディレクトリのパスを指すための変数、\"dir_1st\"を設定。\n",
        "dir_1st = '/content/drive/MyDrive/OptPhotoFiles/optPhotoFiles/nonRA/nonRA_Left_Hand_1st'\n",
        "#上で指定したディレクトリ内のファイルのリスト、\"files_1st\"を取得。\n",
        "files_1st = os.listdir(dir_1st)\n",
        "#ディレクトリ内の各ファイル名から拡張子を除去。\n",
        "files_1st_without_ext = [os.path.splitext(file)[0] for file in files_1st]\n",
        "#ディレクトリ内のファイルに含まれているにもかかわらず、CSVの\"left_hand_filename\"カラムのファイル名に記載されていないファイルのリスト、\"unmatched_files\"を取得。\n",
        "unmatched_files = [file for file in files_1st if os.path.splitext(file)[0] not in csv_files_without_ext]\n",
        "\n",
        "# ファイルの改名と移動\n",
        "#新しくファイルを移動させるディレクトリのパスを指すための変数を設定。\n",
        "new_dir = '/content/drive/MyDrive/OptPhotoFiles/optPhotoFiles/nonRA/nonRA_Left_Hand_2000th'\n",
        "#新しいディレクトリが存在しない場合、ディレクトリを作成。\n",
        "if not os.path.exists(new_dir):\n",
        "    os.makedirs(new_dir)\n",
        "#改名前後のファイル名をマッピングするための辞書を初期化。\n",
        "rename_map = {}\n",
        "#新しいファイル名を生成する際のカウンターを初期化。\n",
        "counter = 2001\n",
        "\n",
        "#CSVから読み出せなかったファイル、\"unmatched_files\"についてのループを開始。\n",
        "for file in unmatched_files:\n",
        "    #現在のファイルのパスを取得。\n",
        "    old_path = os.path.join(dir_1st, file)\n",
        "    #ファイルの拡張子を取得。\n",
        "    file_ext = os.path.splitext(file)[1]\n",
        "    #新しいファイル名を生成。\n",
        "    new_filename = f\"nonRA_left_hand_{counter}{file_ext}\"\n",
        "    #新しいファイルのパスを取得。\n",
        "    new_path = os.path.join(new_dir, new_filename)\n",
        "    #ファイルを新しい場所に移動。\n",
        "    shutil.move(old_path, new_path)\n",
        "    #改名前後のファイル名を辞書に追加。\n",
        "    rename_map[file] = new_filename\n",
        "    #カウンターをインクリメント。\n",
        "    counter += 1\n",
        "\n",
        "# マッピングの辞書をDataFrameに変換\n",
        "df_rename_map = pd.DataFrame(list(rename_map.items()), columns=['Original', 'Renamed'])\n",
        "\n",
        "# ファイル名のマッピングをCSVに保存\n",
        "csv_save_path = '/content/rename_mapping_left_hand.csv'\n",
        "df_rename_map.to_csv(csv_save_path, index=False)\n",
        "\n",
        "print(f\"Renaming and moving completed. Mapping saved to {csv_save_path}\")"
      ],
      "metadata": {
        "colab": {
          "base_uri": "https://localhost:8080/"
        },
        "id": "Qcq-N-Qp4dM9",
        "outputId": "aa427319-074b-46a1-b49c-496f313cb275"
      },
      "execution_count": 27,
      "outputs": [
        {
          "output_type": "stream",
          "name": "stdout",
          "text": [
            "Renaming and moving completed. Mapping saved to /content/rename_mapping_left_hand.csv\n"
          ]
        }
      ]
    },
    {
      "cell_type": "markdown",
      "source": [
        "nonRA_Left_Hand_2000に含まれるファイル数を確認する。"
      ],
      "metadata": {
        "id": "fTUON-rl2kxO"
      }
    },
    {
      "cell_type": "code",
      "source": [
        "# 対象のディレクトリ\n",
        "target_dir = '/content/drive/MyDrive/OptPhotoFiles/optPhotoFiles/nonRA/nonRA_Left_Hand_2000th'\n",
        "\n",
        "# ファイル数を計算\n",
        "file_count = sum([len(files) for _, _, files in os.walk(target_dir)])\n",
        "\n",
        "print(f\"Total number of files in {target_dir}: {file_count}\")"
      ],
      "metadata": {
        "colab": {
          "base_uri": "https://localhost:8080/"
        },
        "id": "mUfk2O192lNb",
        "outputId": "a1c78f0e-7816-4fa0-da41-344c94f29131"
      },
      "execution_count": 28,
      "outputs": [
        {
          "output_type": "stream",
          "name": "stdout",
          "text": [
            "Total number of files in /content/drive/MyDrive/OptPhotoFiles/optPhotoFiles/nonRA/nonRA_Left_Hand_2000th: 129\n"
          ]
        }
      ]
    },
    {
      "cell_type": "markdown",
      "source": [
        "次の作業に移る前に、ここまでで出来上がったファイル をコピーして、バックアップとする。対象となるファイル群は以下の通り。\n",
        "'rename_mapping_left_hand.csv'\n",
        "\n",
        "'rename_mapping_right_hand.csv'\n",
        "\n",
        "'optPhotoTable_controls.csv'\n",
        "\n",
        "'nonRA_Left_Hand_2000th'\n",
        "\n",
        "'nonRA_Right_Hand_2000th'\n",
        "\n",
        "nonRA_Left_Hand_2nd\n",
        "\n",
        "nonRA_Right_Hand_2nd\n",
        "\n",
        "これを施行することで、作業は次の段階に進行可能となる。"
      ],
      "metadata": {
        "id": "JW3YYxeBHCjn"
      }
    },
    {
      "cell_type": "code",
      "source": [
        "shutil.copytree('/content/drive/MyDrive/OptPhotoFiles/optPhotoFiles/nonRA/nonRA_Right_Hand_2000th', '/content/drive/MyDrive/OptPhotoFiles/optPhotoFilesBackUp/nonRA/nonRA_Right_Hand_2000th')\n",
        "\n",
        "#shutil.copytree('/content/drive/MyDrive/OptPhotoFiles/optPhotoFiles/nonRA/nonRA_Left_Hand_2000th', '/content/drive/MyDrive/OptPhotoFiles/optPhotoFilesBackUp/nonRA/nonRA_Left_Hand_2000th')\n",
        "\n",
        "shutil.copytree('/content/drive/MyDrive/OptPhotoFiles/optPhotoFiles/nonRA/nonRA_Right_Hand_2nd', '/content/drive/MyDrive/OptPhotoFiles/optPhotoFilesBackUp/nonRA/nonRA_Right_Hand_2nd')\n",
        "\n",
        "#shutil.copytree('/content/drive/MyDrive/OptPhotoFiles/optPhotoFiles/nonRA/nonRA_Left_Hand_2nd', '/content/drive/MyDrive/OptPhotoFiles/optPhotoFilesBackUp/nonRA/nonRA_Left_Hand_2nd')"
      ],
      "metadata": {
        "colab": {
          "base_uri": "https://localhost:8080/",
          "height": 35
        },
        "id": "4_VuJCph51ph",
        "outputId": "53760e54-c766-41ce-a5c1-520ea834c3e6"
      },
      "execution_count": 12,
      "outputs": [
        {
          "output_type": "execute_result",
          "data": {
            "text/plain": [
              "'/content/drive/MyDrive/OptPhotoFiles/optPhotoFilesBackUp/nonRA/nonRA_Right_Hand_2nd'"
            ],
            "application/vnd.google.colaboratory.intrinsic+json": {
              "type": "string"
            }
          },
          "metadata": {},
          "execution_count": 12
        }
      ]
    },
    {
      "cell_type": "markdown",
      "source": [
        "\n",
        "#重要！！！！ここにTable改変の手作業を要する。\n",
        "クリーニング作業の終了したファイル名に書き換えた新しいcsvファイルをローカル環境で作成し、optPhotoTable_back_upにアップロードする。"
      ],
      "metadata": {
        "id": "Nkoft-UG3XQZ"
      }
    },
    {
      "cell_type": "markdown",
      "source": [
        "#\"nonRA_Right_Hand_2nd\"と、\"nonRA_Right_Hand_2000th\"を結合\n",
        "バックアップファイルを作成したのち、\"nonRA_Right_Hand_2nd\"と、\"nonRA_Right_Hand_2000th\"を結合し、\"nonRA_Right_Hand_3rd\"を作成する。以降はこのファイルを使用して作業を進める。"
      ],
      "metadata": {
        "id": "P1-l1idj4s8_"
      }
    },
    {
      "cell_type": "code",
      "source": [
        "import os\n",
        "import shutil\n",
        "\n",
        "# ディレクトリのパスを定義\n",
        "src_dir1 = '/content/drive/MyDrive/OptPhotoFiles/optPhotoFiles/nonRA/nonRA_Right_Hand_2000th'\n",
        "src_dir2 = '/content/drive/MyDrive/OptPhotoFiles/optPhotoFiles/nonRA/nonRA_Right_Hand_2nd'\n",
        "dst_dir = '/content/drive/MyDrive/OptPhotoFiles/optPhotoFiles/nonRA/nonRA_Right_Hand_3rd'\n",
        "\n",
        "# nonRA_Right_Hand_3rdディレクトリを作成（既に存在していた場合は作成しない）\n",
        "if not os.path.exists(dst_dir):\n",
        "    os.makedirs(dst_dir)\n",
        "\n",
        "# nonRA_Right_Hand_2000thとnonRA_Right_Hand_2ndからファイルを取得し、nonRA_Right_Hand_3rdにコピー\n",
        "for src in [src_dir1, src_dir2]:\n",
        "    for filename in os.listdir(src):\n",
        "        file_path = os.path.join(src, filename)\n",
        "        if os.path.isfile(file_path):\n",
        "            shutil.copy(file_path, dst_dir)\n",
        "\n",
        "print(\"コピーが完了しました！\")"
      ],
      "metadata": {
        "colab": {
          "base_uri": "https://localhost:8080/"
        },
        "id": "0c1PIryL5zjr",
        "outputId": "e6ff7ca1-2254-434e-9426-aebb4d22628a"
      },
      "execution_count": 13,
      "outputs": [
        {
          "output_type": "stream",
          "name": "stdout",
          "text": [
            "コピーが完了しました！\n"
          ]
        }
      ]
    },
    {
      "cell_type": "code",
      "source": [
        "# 対象のディレクトリ\n",
        "target_dir = '/content/drive/MyDrive/OptPhotoFiles/optPhotoFiles/nonRA/nonRA_Right_Hand_3rd'\n",
        "# ファイル数を計算\n",
        "file_count = sum([len(files) for _, _, files in os.walk(target_dir)])\n",
        "\n",
        "print(f\"Total number of files in {target_dir}: {file_count}\")"
      ],
      "metadata": {
        "colab": {
          "base_uri": "https://localhost:8080/"
        },
        "id": "oVmS_P_rkvl7",
        "outputId": "c56e5a09-5f26-459c-86e9-0ba503daa4a6"
      },
      "execution_count": 14,
      "outputs": [
        {
          "output_type": "stream",
          "name": "stdout",
          "text": [
            "Total number of files in /content/drive/MyDrive/OptPhotoFiles/optPhotoFiles/nonRA/nonRA_Right_Hand_3rd: 1208\n"
          ]
        }
      ]
    },
    {
      "cell_type": "code",
      "source": [
        "# ディレクトリのパスを定義\n",
        "src_dir1 = '/content/drive/MyDrive/OptPhotoFiles/optPhotoFiles/nonRA/nonRA_Left_Hand_2000th'\n",
        "src_dir2 = '/content/drive/MyDrive/OptPhotoFiles/optPhotoFiles/nonRA/nonRA_Left_Hand_2nd'\n",
        "dst_dir = '/content/drive/MyDrive/OptPhotoFiles/optPhotoFiles/nonRA/nonRA_Left_Hand_3rd'\n",
        "\n",
        "# nonRA_Right_Hand_3rdディレクトリを作成（既に存在していた場合は作成しない）\n",
        "if not os.path.exists(dst_dir):\n",
        "    os.makedirs(dst_dir)\n",
        "\n",
        "# nonRA_Right_Hand_2000thとnonRA_Right_Hand_2ndからファイルを取得し、nonRA_Right_Hand_3rdにコピー\n",
        "for src in [src_dir1, src_dir2]:\n",
        "    for filename in os.listdir(src):\n",
        "        file_path = os.path.join(src, filename)\n",
        "        if os.path.isfile(file_path):\n",
        "            shutil.copy(file_path, dst_dir)\n",
        "\n",
        "print(\"コピーが完了しました！\")"
      ],
      "metadata": {
        "colab": {
          "base_uri": "https://localhost:8080/"
        },
        "id": "7Ta7LfMvk4UC",
        "outputId": "615f4322-a21b-477e-cc59-3b14a269fe76"
      },
      "execution_count": 37,
      "outputs": [
        {
          "output_type": "stream",
          "name": "stdout",
          "text": [
            "コピーが完了しました！\n"
          ]
        }
      ]
    },
    {
      "cell_type": "code",
      "source": [
        "# 対象のディレクトリ\n",
        "target_dir = '/content/drive/MyDrive/OptPhotoFiles/optPhotoFiles/nonRA/nonRA_Left_Hand_3rd'\n",
        "# ファイル数を計算\n",
        "file_count = sum([len(files) for _, _, files in os.walk(target_dir)])\n",
        "\n",
        "print(f\"Total number of files in {target_dir}: {file_count}\")"
      ],
      "metadata": {
        "colab": {
          "base_uri": "https://localhost:8080/"
        },
        "id": "BZ4C25U9lO98",
        "outputId": "09ae0990-e459-4f1e-deab-459348d0927c"
      },
      "execution_count": 38,
      "outputs": [
        {
          "output_type": "stream",
          "name": "stdout",
          "text": [
            "Total number of files in /content/drive/MyDrive/OptPhotoFiles/optPhotoFiles/nonRA/nonRA_Left_Hand_3rd: 1200\n"
          ]
        }
      ]
    },
    {
      "cell_type": "markdown",
      "source": [
        "#pngファイルを探し出し、jpgに変換する。\n",
        "optPhotoFilesには、さまざまなファイル形式の画像が格納されている。jpgが最多だが、いくつかのpngが混在している。これを探し出し、jpgに変換する。"
      ],
      "metadata": {
        "id": "n97GEVESEm8g"
      }
    },
    {
      "cell_type": "markdown",
      "source": [
        "まず、右手のファイルに作業を行う。"
      ],
      "metadata": {
        "id": "m8F_k1lcH97w"
      }
    },
    {
      "cell_type": "code",
      "source": [
        "import os\n",
        "from PIL import Image\n",
        "\n",
        "# ディレクトリのパスを定義\n",
        "dir_path = '/content/drive/MyDrive/OptPhotoFiles/optPhotoFiles/nonRA/nonRA_Right_Hand_3rd'\n",
        "\n",
        "# .pngファイルを探し出す\n",
        "png_files = [f for f in os.listdir(dir_path) if f.endswith('.png')]\n",
        "\n",
        "# .pngファイルを.jpgに変換\n",
        "for png_file in png_files:\n",
        "    png_path = os.path.join(dir_path, png_file)\n",
        "    # 画像を読み込む\n",
        "    img = Image.open(png_path)\n",
        "    # .jpgとして保存\n",
        "    jpg_path = os.path.join(dir_path, os.path.splitext(png_file)[0] + '.jpg')\n",
        "    img.convert('RGB').save(jpg_path, 'JPEG')\n",
        "    # .pngファイルを削除\n",
        "    os.remove(png_path)\n",
        "\n",
        "print(f\"{len(png_files)}個の.pngファイルを.jpgに変換しました！\")"
      ],
      "metadata": {
        "colab": {
          "base_uri": "https://localhost:8080/"
        },
        "id": "0wFNuGGdEnnM",
        "outputId": "2e0f88c2-d5f6-450b-cddd-1f846ea47c6d"
      },
      "execution_count": 15,
      "outputs": [
        {
          "output_type": "stream",
          "name": "stdout",
          "text": [
            "8個の.pngファイルを.jpgに変換しました！\n"
          ]
        }
      ]
    },
    {
      "cell_type": "markdown",
      "source": [
        "左手でも同じ作業を行う。"
      ],
      "metadata": {
        "id": "D7Dy23MDH37F"
      }
    },
    {
      "cell_type": "code",
      "source": [
        "# ディレクトリのパスを定義\n",
        "dir_path = '/content/drive/MyDrive/OptPhotoFiles/optPhotoFiles/nonRA/nonRA_Left_Hand_3rd'\n",
        "\n",
        "# .pngファイルを探し出す\n",
        "png_files = [f for f in os.listdir(dir_path) if f.endswith('.png')]\n",
        "\n",
        "# .pngファイルを.jpgに変換\n",
        "for png_file in png_files:\n",
        "    png_path = os.path.join(dir_path, png_file)\n",
        "    # 画像を読み込む\n",
        "    img = Image.open(png_path)\n",
        "    # .jpgとして保存\n",
        "    jpg_path = os.path.join(dir_path, os.path.splitext(png_file)[0] + '.jpg')\n",
        "    img.convert('RGB').save(jpg_path, 'JPEG')\n",
        "    # .pngファイルを削除\n",
        "    os.remove(png_path)\n",
        "\n",
        "print(f\"{len(png_files)}個の.pngファイルを.jpgに変換しました！\")"
      ],
      "metadata": {
        "colab": {
          "base_uri": "https://localhost:8080/"
        },
        "id": "mE2ugNOvHzP7",
        "outputId": "eb5cf558-f5db-473b-ed87-134c866da199"
      },
      "execution_count": 8,
      "outputs": [
        {
          "output_type": "stream",
          "name": "stdout",
          "text": [
            "7個の.pngファイルを.jpgに変換しました！\n"
          ]
        }
      ]
    },
    {
      "cell_type": "markdown",
      "source": [
        "#pyheifを用いたheic形式ファイルをjpg形式に変換する。"
      ],
      "metadata": {
        "id": "buaq7IkjHX9w"
      }
    },
    {
      "cell_type": "markdown",
      "source": [
        "#ライブラリのインポート\n",
        "pyheifをはじめとする必要なライブラリをインポートする。"
      ],
      "metadata": {
        "id": "0JnKMBvr1fA8"
      }
    },
    {
      "cell_type": "code",
      "source": [
        "!pip install pyheif\n",
        "\n",
        "import os\n",
        "import pyheif\n",
        "from PIL import Image"
      ],
      "metadata": {
        "colab": {
          "base_uri": "https://localhost:8080/"
        },
        "id": "UTuThOVrglte",
        "outputId": "e536b178-02ac-4ec0-8358-5a29f4b139c5"
      },
      "execution_count": 16,
      "outputs": [
        {
          "output_type": "stream",
          "name": "stdout",
          "text": [
            "Requirement already satisfied: pyheif in /usr/local/lib/python3.10/dist-packages (0.7.1)\n",
            "Requirement already satisfied: cffi>=1.0.0 in /usr/local/lib/python3.10/dist-packages (from pyheif) (1.16.0)\n",
            "Requirement already satisfied: pycparser in /usr/local/lib/python3.10/dist-packages (from cffi>=1.0.0->pyheif) (2.21)\n"
          ]
        }
      ]
    },
    {
      "cell_type": "markdown",
      "source": [
        "#右手ファイルの作業\n",
        "右手の作業から開始する。"
      ],
      "metadata": {
        "id": "6kzc-hCi1UNL"
      }
    },
    {
      "cell_type": "code",
      "source": [
        "src_dir = \"/content/drive/MyDrive/OptPhotoFiles/optPhotoFiles/nonRA/nonRA_Right_Hand_3rd\"\n",
        "dst_dir = \"/content/drive/MyDrive/OptPhotoFiles/optPhotoFiles/nonRA/nonRA_Right_Hand_4th\"\n",
        "\n",
        "# ディレクトリが存在しない場合、ディレクトリを作成\n",
        "if not os.path.exists(dst_dir):\n",
        "    os.makedirs(dst_dir)\n",
        "\n",
        "failed_files = []\n",
        "\n",
        "for root, _, files in os.walk(src_dir):\n",
        "    for file in files:\n",
        "        src_path = os.path.join(root, file)\n",
        "        filename, ext = os.path.splitext(file)\n",
        "\n",
        "        try:\n",
        "            # Convert heic files to jpg\n",
        "            if ext.lower() == '.heic':\n",
        "                heif_file = pyheif.read(src_path)\n",
        "                image = Image.frombytes(\n",
        "                    heif_file.mode,\n",
        "                    heif_file.size,\n",
        "                    heif_file.data,\n",
        "                    \"raw\",\n",
        "                    heif_file.mode,\n",
        "                    heif_file.stride,\n",
        "                )\n",
        "                dst_path = os.path.join(dst_dir, filename + '.jpg')\n",
        "                image.save(dst_path, \"JPEG\")\n",
        "\n",
        "            # Rename other jpg files to ensure the extension is \".jpg\"\n",
        "            elif ext.lower() in ['.jpeg', '.jpg']:\n",
        "                dst_path = os.path.join(dst_dir, filename + '.jpg')\n",
        "                image = Image.open(src_path)\n",
        "                image.save(dst_path, \"JPEG\")\n",
        "\n",
        "        except Exception as e:\n",
        "            print(f\"Error processing file {file}: {e}\")\n",
        "            failed_files.append(file)\n",
        "\n",
        "if failed_files:\n",
        "    print(\"Failed to process the following files:\")\n",
        "    for file in failed_files:\n",
        "        print(file)\n",
        "else:\n",
        "    print(\"All files processed successfully!\")"
      ],
      "metadata": {
        "colab": {
          "base_uri": "https://localhost:8080/"
        },
        "id": "IvBsQi9l0oOc",
        "outputId": "8247b7d8-3192-4f42-ad14-6088d464d44b"
      },
      "execution_count": 17,
      "outputs": [
        {
          "output_type": "stream",
          "name": "stdout",
          "text": [
            "Error processing file nonRA_right_hand_128.HEIC: Input is not a HEIF/AVIF file\n",
            "Failed to process the following files:\n",
            "nonRA_right_hand_128.HEIC\n"
          ]
        }
      ]
    },
    {
      "cell_type": "markdown",
      "source": [
        "nonRA_Right_Hand_4thに含まれるファイル数を確認する。"
      ],
      "metadata": {
        "id": "sBoT54b36VAp"
      }
    },
    {
      "cell_type": "code",
      "source": [
        "# 対象のディレクトリ\n",
        "target_dir = \"/content/drive/MyDrive/OptPhotoFiles/optPhotoFiles/nonRA/nonRA_Right_Hand_4th\"\n",
        "\n",
        "# ファイル数を計算\n",
        "file_count = sum([len(files) for _, _, files in os.walk(target_dir)])\n",
        "\n",
        "print(f\"Total number of files in {target_dir}: {file_count}\")"
      ],
      "metadata": {
        "colab": {
          "base_uri": "https://localhost:8080/"
        },
        "id": "JamwIYcl6Vsv",
        "outputId": "acc761a5-1261-4525-8fce-87523aa551b5"
      },
      "execution_count": 18,
      "outputs": [
        {
          "output_type": "stream",
          "name": "stdout",
          "text": [
            "Total number of files in /content/drive/MyDrive/OptPhotoFiles/optPhotoFiles/nonRA/nonRA_Right_Hand_4th: 1206\n"
          ]
        }
      ]
    },
    {
      "cell_type": "markdown",
      "source": [
        "#左手ファイルの作業\n",
        "左手にも同様の作業を施行する。"
      ],
      "metadata": {
        "id": "hrr4z9Jr1AcS"
      }
    },
    {
      "cell_type": "code",
      "source": [
        "src_dir = \"/content/drive/MyDrive/OptPhotoFiles/optPhotoFiles/nonRA/nonRA_Left_Hand_3rd\"\n",
        "dst_dir = \"/content/drive/MyDrive/OptPhotoFiles/optPhotoFiles/nonRA/nonRA_Left_Hand_4th\"\n",
        "\n",
        "# ディレクトリが存在しない場合、ディレクトリを作成\n",
        "if not os.path.exists(dst_dir):\n",
        "    os.makedirs(dst_dir)\n",
        "\n",
        "failed_files = []\n",
        "\n",
        "for root, _, files in os.walk(src_dir):\n",
        "    for file in files:\n",
        "        src_path = os.path.join(root, file)\n",
        "        filename, ext = os.path.splitext(file)\n",
        "\n",
        "        try:\n",
        "            # Convert heic files to jpg\n",
        "            if ext.lower() == '.heic':\n",
        "                heif_file = pyheif.read(src_path)\n",
        "                image = Image.frombytes(\n",
        "                    heif_file.mode,\n",
        "                    heif_file.size,\n",
        "                    heif_file.data,\n",
        "                    \"raw\",\n",
        "                    heif_file.mode,\n",
        "                    heif_file.stride,\n",
        "                )\n",
        "                dst_path = os.path.join(dst_dir, filename + '.jpg')\n",
        "                image.save(dst_path, \"JPEG\")\n",
        "\n",
        "            # Rename other jpg files to ensure the extension is \".jpg\"\n",
        "            elif ext.lower() in ['.jpeg', '.jpg']:\n",
        "                dst_path = os.path.join(dst_dir, filename + '.jpg')\n",
        "                image = Image.open(src_path)\n",
        "                image.save(dst_path, \"JPEG\")\n",
        "\n",
        "        except Exception as e:\n",
        "            print(f\"Error processing file {file}: {e}\")\n",
        "            failed_files.append(file)\n",
        "\n",
        "if failed_files:\n",
        "    print(\"Failed to process the following files:\")\n",
        "    for file in failed_files:\n",
        "        print(file)\n",
        "else:\n",
        "    print(\"All files processed successfully!\")"
      ],
      "metadata": {
        "colab": {
          "base_uri": "https://localhost:8080/"
        },
        "id": "1_CkgMTY1BTb",
        "outputId": "49b0b3e8-aa40-4ab3-a414-ec1ce4ca5599"
      },
      "execution_count": 10,
      "outputs": [
        {
          "output_type": "stream",
          "name": "stdout",
          "text": [
            "Error processing file nonRA_left_hand_136.HEIC: Input is not a HEIF/AVIF file\n",
            "Failed to process the following files:\n",
            "nonRA_left_hand_136.HEIC\n"
          ]
        }
      ]
    },
    {
      "cell_type": "markdown",
      "source": [
        "nonRA_Left_Hand_4thに含まれるファイル数を確認する。"
      ],
      "metadata": {
        "id": "KfHa3gfj77Hy"
      }
    },
    {
      "cell_type": "code",
      "source": [
        "# 対象のディレクトリ\n",
        "target_dir = \"/content/drive/MyDrive/OptPhotoFiles/optPhotoFiles/nonRA/nonRA_Left_Hand_4th\"\n",
        "\n",
        "# ファイル数を計算\n",
        "file_count = sum([len(files) for _, _, files in os.walk(target_dir)])\n",
        "\n",
        "print(f\"Total number of files in {target_dir}: {file_count}\")"
      ],
      "metadata": {
        "colab": {
          "base_uri": "https://localhost:8080/"
        },
        "id": "EefuGMiS7kzB",
        "outputId": "b224d9ae-51df-47c5-ed5c-fc0700939eec"
      },
      "execution_count": 11,
      "outputs": [
        {
          "output_type": "stream",
          "name": "stdout",
          "text": [
            "Total number of files in /content/drive/MyDrive/OptPhotoFiles/optPhotoFiles/nonRA/nonRA_Left_Hand_4th: 1198\n"
          ]
        }
      ]
    },
    {
      "cell_type": "markdown",
      "source": [
        "#rembgライブラリを使用した背景の削除\n",
        "/content/drive/MyDrive/OptPhotoFiles/optPhotoFiles/nonRA/nonRA_Right_Handに含まれている画像は、非常に雑多な背景のなかに手背の画像が撮影されている。背景が学習に悪影響を及ぼさないように、背景を削除する。"
      ],
      "metadata": {
        "id": "JGzdMRJ7H_V_"
      }
    },
    {
      "cell_type": "markdown",
      "source": [
        "まず、右手画像の背景除去から開始する。"
      ],
      "metadata": {
        "id": "EATRANId8mZo"
      }
    },
    {
      "cell_type": "code",
      "source": [
        "!pip install rembg\n",
        "\n",
        "import os\n",
        "from rembg import remove\n",
        "from concurrent.futures import ProcessPoolExecutor\n",
        "\n",
        "def remove_bg_from_file(file_path, dst_dir):\n",
        "    with open(file_path, \"rb\") as f:\n",
        "        img = f.read()\n",
        "        output = remove(img)\n",
        "\n",
        "    dst_file_path = os.path.join(dst_dir, os.path.basename(file_path))\n",
        "    with open(dst_file_path, \"wb\") as f_out:\n",
        "        f_out.write(output)\n",
        "\n",
        "# 画像の背景を削除するディレクトリ\n",
        "src_dir = \"/content/drive/MyDrive/OptPhotoFiles/optPhotoFiles/nonRA/nonRA_Right_Hand_4th\"\n",
        "dst_dir = \"/content/drive/MyDrive/OptPhotoFiles/optPhotoFiles/nonRA/nonRA_Right_Hand_5th\"\n",
        "\n",
        "# ディレクトリが存在しない場合、新規作成\n",
        "if not os.path.exists(dst_dir):\n",
        "    os.makedirs(dst_dir)\n",
        "\n",
        "file_paths = [os.path.join(src_dir, file) for file in os.listdir(src_dir) if file.lower().endswith(('.png', '.jpg', '.jpeg'))]\n",
        "\n",
        "# Use all available CPU cores for parallel processing\n",
        "with ProcessPoolExecutor() as executor:\n",
        "    executor.map(remove_bg_from_file, file_paths, [dst_dir] * len(file_paths))\n",
        "\n",
        "print(\"Background removal and saving to new directory completed!\")"
      ],
      "metadata": {
        "id": "kAEaMPc8GWSF",
        "colab": {
          "base_uri": "https://localhost:8080/"
        },
        "outputId": "cd523dae-f4d3-4afd-f631-5214dddca839"
      },
      "execution_count": 19,
      "outputs": [
        {
          "output_type": "stream",
          "name": "stdout",
          "text": [
            "Requirement already satisfied: rembg in /usr/local/lib/python3.10/dist-packages (2.0.51)\n",
            "Requirement already satisfied: numpy in /usr/local/lib/python3.10/dist-packages (from rembg) (1.23.5)\n",
            "Requirement already satisfied: onnxruntime in /usr/local/lib/python3.10/dist-packages (from rembg) (1.16.1)\n",
            "Requirement already satisfied: opencv-python-headless in /usr/local/lib/python3.10/dist-packages (from rembg) (4.8.1.78)\n",
            "Requirement already satisfied: pillow in /usr/local/lib/python3.10/dist-packages (from rembg) (9.4.0)\n",
            "Requirement already satisfied: pooch in /usr/local/lib/python3.10/dist-packages (from rembg) (1.7.0)\n",
            "Requirement already satisfied: pymatting in /usr/local/lib/python3.10/dist-packages (from rembg) (1.1.10)\n",
            "Requirement already satisfied: scikit-image in /usr/local/lib/python3.10/dist-packages (from rembg) (0.19.3)\n",
            "Requirement already satisfied: scipy in /usr/local/lib/python3.10/dist-packages (from rembg) (1.11.3)\n",
            "Requirement already satisfied: tqdm in /usr/local/lib/python3.10/dist-packages (from rembg) (4.66.1)\n",
            "Requirement already satisfied: coloredlogs in /usr/local/lib/python3.10/dist-packages (from onnxruntime->rembg) (15.0.1)\n",
            "Requirement already satisfied: flatbuffers in /usr/local/lib/python3.10/dist-packages (from onnxruntime->rembg) (23.5.26)\n",
            "Requirement already satisfied: packaging in /usr/local/lib/python3.10/dist-packages (from onnxruntime->rembg) (23.2)\n",
            "Requirement already satisfied: protobuf in /usr/local/lib/python3.10/dist-packages (from onnxruntime->rembg) (3.20.3)\n",
            "Requirement already satisfied: sympy in /usr/local/lib/python3.10/dist-packages (from onnxruntime->rembg) (1.12)\n",
            "Requirement already satisfied: platformdirs>=2.5.0 in /usr/local/lib/python3.10/dist-packages (from pooch->rembg) (3.11.0)\n",
            "Requirement already satisfied: requests>=2.19.0 in /usr/local/lib/python3.10/dist-packages (from pooch->rembg) (2.31.0)\n",
            "Requirement already satisfied: numba!=0.49.0 in /usr/local/lib/python3.10/dist-packages (from pymatting->rembg) (0.56.4)\n",
            "Requirement already satisfied: networkx>=2.2 in /usr/local/lib/python3.10/dist-packages (from scikit-image->rembg) (3.2)\n",
            "Requirement already satisfied: imageio>=2.4.1 in /usr/local/lib/python3.10/dist-packages (from scikit-image->rembg) (2.31.5)\n",
            "Requirement already satisfied: tifffile>=2019.7.26 in /usr/local/lib/python3.10/dist-packages (from scikit-image->rembg) (2023.9.26)\n",
            "Requirement already satisfied: PyWavelets>=1.1.1 in /usr/local/lib/python3.10/dist-packages (from scikit-image->rembg) (1.4.1)\n",
            "Requirement already satisfied: llvmlite<0.40,>=0.39.0dev0 in /usr/local/lib/python3.10/dist-packages (from numba!=0.49.0->pymatting->rembg) (0.39.1)\n",
            "Requirement already satisfied: setuptools in /usr/local/lib/python3.10/dist-packages (from numba!=0.49.0->pymatting->rembg) (67.7.2)\n",
            "Requirement already satisfied: charset-normalizer<4,>=2 in /usr/local/lib/python3.10/dist-packages (from requests>=2.19.0->pooch->rembg) (3.3.0)\n",
            "Requirement already satisfied: idna<4,>=2.5 in /usr/local/lib/python3.10/dist-packages (from requests>=2.19.0->pooch->rembg) (3.4)\n",
            "Requirement already satisfied: urllib3<3,>=1.21.1 in /usr/local/lib/python3.10/dist-packages (from requests>=2.19.0->pooch->rembg) (2.0.7)\n",
            "Requirement already satisfied: certifi>=2017.4.17 in /usr/local/lib/python3.10/dist-packages (from requests>=2.19.0->pooch->rembg) (2023.7.22)\n",
            "Requirement already satisfied: humanfriendly>=9.1 in /usr/local/lib/python3.10/dist-packages (from coloredlogs->onnxruntime->rembg) (10.0)\n",
            "Requirement already satisfied: mpmath>=0.19 in /usr/local/lib/python3.10/dist-packages (from sympy->onnxruntime->rembg) (1.3.0)\n"
          ]
        },
        {
          "output_type": "stream",
          "name": "stderr",
          "text": [
            "Downloading data from 'https://github.com/danielgatis/rembg/releases/download/v0.0.0/u2net.onnx' to file '/root/.u2net/u2net.onnx'.\n",
            "Downloading data from 'https://github.com/danielgatis/rembg/releases/download/v0.0.0/u2net.onnx' to file '/root/.u2net/u2net.onnx'.\n",
            "100%|███████████████████████████████████████| 176M/176M [00:00<00:00, 14.4GB/s]\n",
            "\n"
          ]
        },
        {
          "output_type": "stream",
          "name": "stdout",
          "text": [
            "Background removal and saving to new directory completed!\n"
          ]
        }
      ]
    },
    {
      "cell_type": "markdown",
      "source": [
        "nonRA_Right_Hand_5thに含まれるファイル数を確認する。"
      ],
      "metadata": {
        "id": "lH4xLyv_8FqQ"
      }
    },
    {
      "cell_type": "code",
      "source": [
        "# 対象のディレクトリ\n",
        "target_dir = \"/content/drive/MyDrive/OptPhotoFiles/optPhotoFiles/nonRA/nonRA_Right_Hand_5th\"\n",
        "\n",
        "# ファイル数を計算\n",
        "file_count = sum([len(files) for _, _, files in os.walk(target_dir)])\n",
        "\n",
        "print(f\"Total number of files in {target_dir}: {file_count}\")"
      ],
      "metadata": {
        "colab": {
          "base_uri": "https://localhost:8080/"
        },
        "id": "Vrd0TUkH8N0G",
        "outputId": "9cfa0bb6-748f-407a-cdbc-320bece0ce31"
      },
      "execution_count": 20,
      "outputs": [
        {
          "output_type": "stream",
          "name": "stdout",
          "text": [
            "Total number of files in /content/drive/MyDrive/OptPhotoFiles/optPhotoFiles/nonRA/nonRA_Right_Hand_5th: 1206\n"
          ]
        }
      ]
    },
    {
      "cell_type": "markdown",
      "source": [
        "次に左手画像の背景除去を行う。"
      ],
      "metadata": {
        "id": "qfjZU4oK8t_v"
      }
    },
    {
      "cell_type": "code",
      "source": [
        "# 画像の背景を削除するディレクトリ\n",
        "src_dir = \"/content/drive/MyDrive/OptPhotoFiles/optPhotoFiles/nonRA/nonRA_Left_Hand_4th\"\n",
        "dst_dir = \"/content/drive/MyDrive/OptPhotoFiles/optPhotoFiles/nonRA/nonRA_Left_Hand_5th\"\n",
        "\n",
        "# ディレクトリが存在しない場合、新規作成\n",
        "if not os.path.exists(dst_dir):\n",
        "    os.makedirs(dst_dir)\n",
        "\n",
        "file_paths = [os.path.join(src_dir, file) for file in os.listdir(src_dir) if file.lower().endswith(('.png', '.jpg', '.jpeg'))]\n",
        "\n",
        "# Use all available CPU cores for parallel processing\n",
        "with ProcessPoolExecutor() as executor:\n",
        "    executor.map(remove_bg_from_file, file_paths, [dst_dir] * len(file_paths))\n",
        "\n",
        "print(\"Background removal and saving to new directory completed!\")"
      ],
      "metadata": {
        "colab": {
          "base_uri": "https://localhost:8080/"
        },
        "id": "W0zJJ2VdGdTJ",
        "outputId": "f7daa62b-627b-402c-9dcd-70c2e5fb7e3d"
      },
      "execution_count": 14,
      "outputs": [
        {
          "output_type": "stream",
          "name": "stdout",
          "text": [
            "Background removal and saving to new directory completed!\n"
          ]
        }
      ]
    },
    {
      "cell_type": "markdown",
      "source": [
        "nonRA_Right_Hand_4thに含まれるファイル数を確認する。"
      ],
      "metadata": {
        "id": "LXXlxBHx8Wiz"
      }
    },
    {
      "cell_type": "code",
      "source": [
        "# 対象のディレクトリ\n",
        "target_dir = \"/content/drive/MyDrive/OptPhotoFiles/optPhotoFiles/nonRA/nonRA_Left_Hand_5th\"\n",
        "\n",
        "# ファイル数を計算\n",
        "file_count = sum([len(files) for _, _, files in os.walk(target_dir)])\n",
        "\n",
        "print(f\"Total number of files in {target_dir}: {file_count}\")"
      ],
      "metadata": {
        "colab": {
          "base_uri": "https://localhost:8080/"
        },
        "id": "ZPg9DM_k8Zg-",
        "outputId": "7edc8cb8-e93c-4062-ee7d-059e584566f7"
      },
      "execution_count": 15,
      "outputs": [
        {
          "output_type": "stream",
          "name": "stdout",
          "text": [
            "Total number of files in /content/drive/MyDrive/OptPhotoFiles/optPhotoFiles/nonRA/nonRA_Left_Hand_5th: 1198\n"
          ]
        }
      ]
    },
    {
      "cell_type": "markdown",
      "source": [
        "#CSVファイルの改変"
      ],
      "metadata": {
        "id": "sAPe2Y7Ux0ye"
      }
    },
    {
      "cell_type": "code",
      "source": [
        "import pandas as pd\n",
        "\n",
        "# CSVファイルのパス\n",
        "csv_path = \"/content/drive/MyDrive/OptPhotoFiles/optPhotoTable/optPhotoTable_for_use/optPhotoTable_controls_1203cases_final.csv\"\n",
        "\n",
        "# CSVファイルを読み込む\n",
        "df = pd.read_csv(csv_path)\n",
        "\n",
        "# 4列目と5列目の拡張子を.jpgに変更\n",
        "df['right_hand_filename'] = df['right_hand_filename'].str.replace(r'\\.\\w+$', '.jpg')\n",
        "#df['left_hand_filename'] = df['left_hand_filename'].str.replace(r'\\.\\w+$', '.jpg')\n",
        "\n",
        "# CSVファイルを上書き保存\n",
        "df.to_csv(csv_path, index=False)\n",
        "\n",
        "print(\"拡張子の変更が完了しました！\")"
      ],
      "metadata": {
        "colab": {
          "base_uri": "https://localhost:8080/"
        },
        "id": "KcnTE9jfx1xg",
        "outputId": "478b194e-4396-4649-c91e-326a9bee414c"
      },
      "execution_count": 25,
      "outputs": [
        {
          "output_type": "stream",
          "name": "stdout",
          "text": [
            "拡張子の変更が完了しました！\n"
          ]
        },
        {
          "output_type": "stream",
          "name": "stderr",
          "text": [
            "<ipython-input-25-a9aa8b6cc9d4>:10: FutureWarning: The default value of regex will change from True to False in a future version.\n",
            "  df['right_hand_filename'] = df['right_hand_filename'].str.replace(r'\\.\\w+$', '.jpg')\n"
          ]
        }
      ]
    },
    {
      "cell_type": "code",
      "source": [
        "import os\n",
        "import pandas as pd\n",
        "\n",
        "# 指定したディレクトリのパス\n",
        "directory_path = '/content/drive/MyDrive/OptPhotoFiles/optPhotoFiles/nonRA/nonRA_Right_Hand_5th'\n",
        "\n",
        "# ディレクトリ内のファイル名をリストに格納\n",
        "file_names = os.listdir(directory_path)\n",
        "\n",
        "# リストをDataFrameに変換\n",
        "df = pd.DataFrame(file_names, columns=['File Names'])\n",
        "# 保存先のパスを指定\n",
        "save_path = '/content/drive/MyDrive/OptPhotoFiles/optPhotoTable/list_nonRA_Right_Hand_5th.xlsx'\n",
        "\n",
        "# DataFrameをExcelファイルとして保存\n",
        "df.to_excel(save_path, index=False)"
      ],
      "metadata": {
        "id": "g0nk2bUI6EXf"
      },
      "execution_count": 23,
      "outputs": []
    }
  ]
}