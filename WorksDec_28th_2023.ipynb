{
  "nbformat": 4,
  "nbformat_minor": 0,
  "metadata": {
    "colab": {
      "provenance": [],
      "authorship_tag": "ABX9TyP4VvO11Ngp39Mv6UwCm9aC",
      "include_colab_link": true
    },
    "kernelspec": {
      "name": "python3",
      "display_name": "Python 3"
    },
    "language_info": {
      "name": "python"
    }
  },
  "cells": [
    {
      "cell_type": "markdown",
      "metadata": {
        "id": "view-in-github",
        "colab_type": "text"
      },
      "source": [
        "<a href=\"https://colab.research.google.com/github/RyosukeHanaoka/TechTeacher_New/blob/main/WorksDec_28th_2023.ipynb\" target=\"_parent\"><img src=\"https://colab.research.google.com/assets/colab-badge.svg\" alt=\"Open In Colab\"/></a>"
      ]
    },
    {
      "cell_type": "markdown",
      "source": [
        "#optPhotoFiles; matched samplesを抽出する。\n",
        "これまでにRA群、nonRA群ともに画像の前処理を行って、1.不良画像の排除、2. フォーマットの統一、3. 背景の消去、4. 画像の上下左右の統一を済ませた。\n",
        "\n",
        "今後、ViTのトレーニングを開始するにあたって、RA群とnonRA群の年齢構成の相違が問題となる。これを解決するために年齢をマッチさせたサンプルをRA群およびnonRA群から1:1で無作為に抽出する。"
      ],
      "metadata": {
        "id": "JTGMFqm7Gkdo"
      }
    },
    {
      "cell_type": "markdown",
      "source": [
        "###GoogleDriveのマウント"
      ],
      "metadata": {
        "id": "aWyLzas2JMwv"
      }
    },
    {
      "cell_type": "code",
      "source": [
        "from google.colab import drive\n",
        "drive.mount('/content/drive')"
      ],
      "metadata": {
        "colab": {
          "base_uri": "https://localhost:8080/"
        },
        "id": "KNS9NK5oHBAZ",
        "outputId": "3163ee91-53c8-4aae-ad1a-01d6fdcaaae4"
      },
      "execution_count": 15,
      "outputs": [
        {
          "output_type": "stream",
          "name": "stdout",
          "text": [
            "Drive already mounted at /content/drive; to attempt to forcibly remount, call drive.mount(\"/content/drive\", force_remount=True).\n"
          ]
        }
      ]
    },
    {
      "cell_type": "markdown",
      "source": [
        "###必要なライブラリのインポート\n",
        "この工程ではcsvファイルの操作を行うためにpandasを使用する。統計量の計算にはnumpyが必要となる。また、ヒストグラムの描画のためにmatplotlibを使用する。"
      ],
      "metadata": {
        "id": "io6IOIaaLKCV"
      }
    },
    {
      "cell_type": "code",
      "source": [
        "# 必要なライブラリのインポート\n",
        "import pandas as pd\n",
        "import numpy as np\n",
        "import matplotlib.pyplot as plt\n",
        "import os"
      ],
      "metadata": {
        "id": "ayT1dYTXJTo0"
      },
      "execution_count": 16,
      "outputs": []
    },
    {
      "cell_type": "markdown",
      "source": [
        "###データの読み込み。\n",
        "先日作成したRA群の情報を記載した\"optPhotoTable_RA.csv\"とnonRA群の情報を記載した\"optPhotoTable_control.csv\"をpandasのread_csvを使用してデータフレームとして読み込む。"
      ],
      "metadata": {
        "id": "vutvhQffL3Fs"
      }
    },
    {
      "cell_type": "code",
      "source": [
        "# データの読み込み\n",
        "ra_df = pd.read_csv(\"/content/drive/MyDrive/2023.12.27/OptPhotoFiles/optPhotoTable_RA.csv\")\n",
        "control_df = pd.read_csv(\"/content/drive/MyDrive/2023.12.27/OptPhotoFiles/optPhotoTable_control.csv\")"
      ],
      "metadata": {
        "id": "uqmh71LEJVUy"
      },
      "execution_count": 17,
      "outputs": []
    },
    {
      "cell_type": "markdown",
      "source": [
        "###基本的な統計量の算出\n",
        "ra_dfとcontrol_dfの基本統計量として、年齢の平均値と標準偏差、中間値と４分位を求める。"
      ],
      "metadata": {
        "id": "j8HlpPtGNPqO"
      }
    },
    {
      "cell_type": "code",
      "source": [
        "# 統計量の計算\n",
        "def get_statistics(df, column_name):\n",
        "    mean = df[column_name].mean()\n",
        "    median = df[column_name].median()\n",
        "    std = df[column_name].std()\n",
        "    q1 = df[column_name].quantile(0.25)\n",
        "    q3 = df[column_name].quantile(0.75)\n",
        "\n",
        "    return mean, median, std, q1, q3\n",
        "\n",
        "mean_ra, median_ra, std_ra, q1_ra, q3_ra = get_statistics(ra_df, \"age\")\n",
        "mean_control, median_control, std_control, q1_control, q3_control = get_statistics(control_df, \"age\")\n",
        "\n",
        "# 結果の表示\n",
        "print(f\"RA group - Mean age: {mean_ra:.2f}, Median age: {median_ra}, Standard Deviation: {std_ra:.2f}, Q1: {q1_ra}, Q3: {q3_ra}\")\n",
        "print(f\"Control group - Mean age: {mean_control:.2f}, Median age: {median_control}, Standard Deviation: {std_control:.2f}, Q1: {q1_control}, Q3: {q3_control}\")"
      ],
      "metadata": {
        "colab": {
          "base_uri": "https://localhost:8080/"
        },
        "id": "ojaxbv5_Jn-K",
        "outputId": "bbcaa6f1-2431-456b-f476-49163dae9178"
      },
      "execution_count": 18,
      "outputs": [
        {
          "output_type": "stream",
          "name": "stdout",
          "text": [
            "RA group - Mean age: 69.20, Median age: 71.0, Standard Deviation: 13.48, Q1: 62.25, Q3: 80.0\n",
            "Control group - Mean age: 39.26, Median age: 37.0, Standard Deviation: 12.34, Q1: 30.0, Q3: 47.0\n"
          ]
        }
      ]
    },
    {
      "cell_type": "markdown",
      "source": [
        "###度数分布表の作成\n",
        "ra_dfとcontrol_dfの各群における年齢の分布を把握するため、５歳刻みの年齢の度数分布表を算出する。"
      ],
      "metadata": {
        "id": "ixEGwJb3OEio"
      }
    },
    {
      "cell_type": "code",
      "source": [
        "# 5歳刻みの度数分布\n",
        "bins = list(range(10, 105, 5))\n",
        "ra_hist_values, _ = np.histogram(ra_df[\"age\"], bins=bins)\n",
        "control_hist_values, _ = np.histogram(control_df[\"age\"], bins=bins)\n",
        "\n",
        "print(\"RA group age distribution:\")\n",
        "for i in range(len(bins)-1):\n",
        "    print(f\"{bins[i]}-{bins[i+1]-1}: {ra_hist_values[i]}\")\n",
        "\n",
        "print(\"\\nControl group age distribution:\")\n",
        "for i in range(len(bins)-1):\n",
        "    print(f\"{bins[i]}-{bins[i+1]-1}: {control_hist_values[i]}\")"
      ],
      "metadata": {
        "colab": {
          "base_uri": "https://localhost:8080/"
        },
        "id": "jx5UT4oMJ-x2",
        "outputId": "346ebbb1-694b-4cb1-bf17-f47e4da8af83"
      },
      "execution_count": 19,
      "outputs": [
        {
          "output_type": "stream",
          "name": "stdout",
          "text": [
            "RA group age distribution:\n",
            "10-14: 0\n",
            "15-19: 0\n",
            "20-24: 2\n",
            "25-29: 2\n",
            "30-34: 8\n",
            "35-39: 8\n",
            "40-44: 8\n",
            "45-49: 32\n",
            "50-54: 34\n",
            "55-59: 30\n",
            "60-64: 56\n",
            "65-69: 98\n",
            "70-74: 84\n",
            "75-79: 82\n",
            "80-84: 98\n",
            "85-89: 38\n",
            "90-94: 16\n",
            "95-99: 2\n",
            "\n",
            "Control group age distribution:\n",
            "10-14: 0\n",
            "15-19: 55\n",
            "20-24: 193\n",
            "25-29: 311\n",
            "30-34: 413\n",
            "35-39: 389\n",
            "40-44: 312\n",
            "45-49: 301\n",
            "50-54: 179\n",
            "55-59: 95\n",
            "60-64: 49\n",
            "65-69: 95\n",
            "70-74: 14\n",
            "75-79: 12\n",
            "80-84: 6\n",
            "85-89: 2\n",
            "90-94: 0\n",
            "95-99: 0\n"
          ]
        }
      ]
    },
    {
      "cell_type": "markdown",
      "source": [
        "###各群の年齢のヒストグラムを表示する。\n",
        "ra_df, control_dfの年齢分布をより直感的に把握するため、各群の年齢分布を５歳刻みのヒストグラムとして表示する。"
      ],
      "metadata": {
        "id": "1AV7kiICOnZa"
      }
    },
    {
      "cell_type": "code",
      "source": [
        "# ヒストグラムの表示\n",
        "plt.figure(figsize=(12, 6))\n",
        "plt.hist(ra_df[\"age\"], bins=bins, alpha=0.5, label=\"RA\")\n",
        "plt.hist(control_df[\"age\"], bins=bins, alpha=0.5, label=\"Control\")\n",
        "plt.title(\"Age distribution\")\n",
        "plt.xlabel(\"Age, years\")\n",
        "plt.ylabel(\"Count\")\n",
        "plt.legend()\n",
        "plt.show()"
      ],
      "metadata": {
        "colab": {
          "base_uri": "https://localhost:8080/",
          "height": 564
        },
        "id": "Ky6zKeXVKIjO",
        "outputId": "1a562a75-0404-4844-d057-95d23927e781"
      },
      "execution_count": 20,
      "outputs": [
        {
          "output_type": "display_data",
          "data": {
            "text/plain": [
              "<Figure size 1200x600 with 1 Axes>"
            ],
            "image/png": "[encoded data removed]"
          },
          "metadata": {}
        }
      ]
    },
    {
      "cell_type": "markdown",
      "source": [
        "###性別の度数分布を確認する。\n",
        "つぎに、ra_dfとcontrol_dfの性別の比率を確認する。両群ともに1がfemale, 0がmaleである。"
      ],
      "metadata": {
        "id": "-C8ndkW0PITq"
      }
    },
    {
      "cell_type": "code",
      "source": [
        "# femaleの度数\n",
        "ra_female_counts = ra_df[\"sex\"].value_counts()\n",
        "control_female_counts = control_df[\"sex\"].value_counts()\n",
        "\n",
        "print(f\"RA group - Female counts:\\n{ra_female_counts}\")\n",
        "print(f\"Control group - Female counts:\\n{control_female_counts}\")"
      ],
      "metadata": {
        "colab": {
          "base_uri": "https://localhost:8080/"
        },
        "id": "o_4AxFC2KGtI",
        "outputId": "6fdaeae9-56d7-4d7e-b134-a3ae257beb99"
      },
      "execution_count": 21,
      "outputs": [
        {
          "output_type": "stream",
          "name": "stdout",
          "text": [
            "RA group - Female counts:\n",
            "1    432\n",
            "0    166\n",
            "Name: sex, dtype: int64\n",
            "Control group - Female counts:\n",
            "1    1311\n",
            "0    1115\n",
            "Name: sex, dtype: int64\n"
          ]
        }
      ]
    },
    {
      "cell_type": "code",
      "source": [
        "# 年齢を5歳刻みにカテゴライズする関数\n",
        "def categorize_age(age):\n",
        "    return (age // 5) * 5\n",
        "\n",
        "# 年齢カテゴリの列を追加\n",
        "ra_df['age_category'] = ra_df['age'].apply(categorize_age)\n",
        "control_df['age_category'] = control_df['age'].apply(categorize_age)\n",
        "\n",
        "matched_samples = []\n",
        "\n",
        "# 5歳刻みのカテゴリごとにループ\n",
        "for age_cat in range(5, 105, 5):\n",
        "    for gender in [0, 1]:\n",
        "        ra_sample = ra_df[(ra_df['age_category'] == age_cat) & (ra_df['sex'] == gender)]\n",
        "        control_sample = control_df[(control_df['age_category'] == age_cat) & (control_df['sex'] == gender)]\n",
        "\n",
        "        # 最小のサイズに合わせる\n",
        "        sample_size = min(len(ra_sample), len(control_sample))\n",
        "\n",
        "        # サンプリング\n",
        "        ra_sample = ra_sample.sample(n=sample_size, random_state=42)\n",
        "        control_sample = control_sample.sample(n=sample_size, random_state=42)\n",
        "\n",
        "        # 結果をリストに追加\n",
        "        matched_samples.extend([ra_sample, control_sample])\n",
        "\n",
        "# 全てのサンプルを統合\n",
        "matched_df = pd.concat(matched_samples, ignore_index=True)\n",
        "\n",
        "# 結果の表示\n",
        "print(matched_df.head())\n",
        "print(matched_df.shape)"
      ],
      "metadata": {
        "colab": {
          "base_uri": "https://localhost:8080/"
        },
        "id": "MtHk57LvKcRD",
        "outputId": "60c33b2d-d8c8-460a-ecdf-9fd4e8d2129f"
      },
      "execution_count": 22,
      "outputs": [
        {
          "output_type": "stream",
          "name": "stdout",
          "text": [
            "   age  sex  RA  arthralgia                   filename  age_category\n",
            "0   20    1   1           0       RA_Left_Hand_162.jpg            20\n",
            "1   20    1   1           0      RA_Right_Hand_162.jpg            20\n",
            "2   23    1   0           0   nonRA_right_hand_239.jpg            20\n",
            "3   24    1   0           0  nonRA_right_hand_1073.jpg            20\n",
            "4   29    1   1           0       RA_Left_Hand_186.jpg            25\n",
            "(494, 6)\n"
          ]
        }
      ]
    },
    {
      "cell_type": "code",
      "source": [
        "# matched_dfをCSVとして保存\n",
        "save_path = \"/content/drive/MyDrive/2023.12.27/OptPhotoFiles/matched_samples.csv\"\n",
        "matched_df.to_csv(save_path, index=False)\n",
        "print(f\"Saved matched_df to {save_path}\")"
      ],
      "metadata": {
        "colab": {
          "base_uri": "https://localhost:8080/"
        },
        "id": "QdPN6sM0gb8f",
        "outputId": "a169705e-0042-4167-ae2c-9fd192ec0180"
      },
      "execution_count": 23,
      "outputs": [
        {
          "output_type": "stream",
          "name": "stdout",
          "text": [
            "Saved matched_df to /content/drive/MyDrive/2023.12.27/OptPhotoFiles/matched_samples.csv\n"
          ]
        }
      ]
    }
  ]
}