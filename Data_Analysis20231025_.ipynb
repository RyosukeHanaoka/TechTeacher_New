{
  "nbformat": 4,
  "nbformat_minor": 0,
  "metadata": {
    "colab": {
      "provenance": [],
      "authorship_tag": "ABX9TyMts1CLCH8M8BV00MALA1Mb",
      "include_colab_link": true
    },
    "kernelspec": {
      "name": "python3",
      "display_name": "Python 3"
    },
    "language_info": {
      "name": "python"
    }
  },
  "cells": [
    {
      "cell_type": "markdown",
      "metadata": {
        "id": "view-in-github",
        "colab_type": "text"
      },
      "source": [
        "<a href=\"https://colab.research.google.com/github/RyosukeHanaoka/TechTeacher_New/blob/main/Data_Analysis20231025_.ipynb\" target=\"_parent\"><img src=\"https://colab.research.google.com/assets/colab-badge.svg\" alt=\"Open In Colab\"/></a>"
      ]
    },
    {
      "cell_type": "markdown",
      "source": [
        "#optPhotoFilesにおけるデータ解析/年齢・性別によるマッチング\n",
        "opyPhotoFilesにおいては、被検者募集方法の違いのため、control群とRA群の年齢差が大きい。このため、モデルが皮膚の加齢性変化を学習してしまう可能性を否定できない。ここでは両群の年齢と性別の代表値を求め、それらをマッチングさせたデータセットの作成を行う。"
      ],
      "metadata": {
        "id": "PhW5FtmEGX7T"
      }
    },
    {
      "cell_type": "markdown",
      "source": [
        "#作業環境構築\n",
        "作業環境としてGoogleDriveをマウントし、統計解析、図表描画に必要なライブラリをインポートする。"
      ],
      "metadata": {
        "id": "yskzeGGqIRI0"
      }
    },
    {
      "cell_type": "code",
      "source": [
        "# 必要なライブラリのインポート\n",
        "import pandas as pd\n",
        "import numpy as np\n",
        "import matplotlib.pyplot as plt\n",
        "\n",
        "# Google Driveのマウント\n",
        "from google.colab import files\n",
        "from google.colab import drive\n",
        "drive.mount('/content/drive')"
      ],
      "metadata": {
        "id": "uieZb-evGVgb",
        "outputId": "e12af0b6-de90-4565-e8d6-0a0c1ff42f9f",
        "colab": {
          "base_uri": "https://localhost:8080/"
        }
      },
      "execution_count": 1,
      "outputs": [
        {
          "output_type": "stream",
          "name": "stdout",
          "text": [
            "Mounted at /content/drive\n"
          ]
        }
      ]
    },
    {
      "cell_type": "markdown",
      "source": [
        "#データセットの参照\n",
        "'optPhotoFiles_cleaning20231025'を使用してデータクリーニングと背景の消去を終えたoptPhotoFiles_nonRAとoptPhotoFiles_RAを参照する。"
      ],
      "metadata": {
        "id": "7r3sOD2CJL6J"
      }
    },
    {
      "cell_type": "code",
      "source": [
        "# データの読み込み\n",
        "ra_df = pd.read_csv(\"/content/drive/MyDrive/OptPhotoFiles/optPhotoTable/optPhotoTable_for_use/optPhotoTable_RA20231025.csv\")\n",
        "control_df = pd.read_csv(\"/content/drive/MyDrive/OptPhotoFiles/optPhotoTable/optPhotoFiles_controls_20231026/optPhotoTable_controls.csv\")"
      ],
      "metadata": {
        "id": "klCcl8YyJKDh"
      },
      "execution_count": 2,
      "outputs": []
    },
    {
      "cell_type": "code",
      "execution_count": 3,
      "metadata": {
        "colab": {
          "base_uri": "https://localhost:8080/",
          "height": 1000
        },
        "id": "07J8uUszJwJO",
        "outputId": "383f54c7-c8a7-40f2-e66a-a4ff7d24b347"
      },
      "outputs": [
        {
          "output_type": "stream",
          "name": "stdout",
          "text": [
            "RA group - Mean age: 69.46, Median age: 71.0, Standard Deviation: 13.05, Q1: 63.0, Q3: 80.0\n",
            "Control group - Mean age: 39.01, Median age: 37.0, Standard Deviation: 12.11, Q1: 30.0, Q3: 46.0\n",
            "RA group age distribution:\n",
            "10-14: 0\n",
            "15-19: 0\n",
            "20-24: 1\n",
            "25-29: 1\n",
            "30-34: 3\n",
            "35-39: 3\n",
            "40-44: 3\n",
            "45-49: 14\n",
            "50-54: 19\n",
            "55-59: 16\n",
            "60-64: 27\n",
            "65-69: 50\n",
            "70-74: 41\n",
            "75-79: 42\n",
            "80-84: 48\n",
            "85-89: 20\n",
            "90-94: 7\n",
            "95-99: 1\n",
            "\n",
            "Control group age distribution:\n",
            "10-14: 0\n",
            "15-19: 28\n",
            "20-24: 96\n",
            "25-29: 157\n",
            "30-34: 207\n",
            "35-39: 193\n",
            "40-44: 158\n",
            "45-49: 152\n",
            "50-54: 87\n",
            "55-59: 46\n",
            "60-64: 23\n",
            "65-69: 43\n",
            "70-74: 6\n",
            "75-79: 6\n",
            "80-84: 2\n",
            "85-89: 1\n",
            "90-94: 0\n",
            "95-99: 0\n"
          ]
        },
        {
          "output_type": "display_data",
          "data": {
            "text/plain": [
              "<Figure size 1200x600 with 1 Axes>"
            ],
            "image/png": "[encoded data removed]"
          },
          "metadata": {}
        },
        {
          "output_type": "stream",
          "name": "stdout",
          "text": [
            "RA group - Female counts:\n",
            "1    220\n",
            "0     76\n",
            "Name: female, dtype: int64\n",
            "Control group - Female counts:\n",
            "1.0    652\n",
            "0.0    553\n",
            "Name: female, dtype: int64\n"
          ]
        }
      ],
      "source": [
        "# 統計量の計算\n",
        "def get_statistics(df, column_name):\n",
        "    mean = df[column_name].mean()\n",
        "    median = df[column_name].median()\n",
        "    std = df[column_name].std()\n",
        "    q1 = df[column_name].quantile(0.25)\n",
        "    q3 = df[column_name].quantile(0.75)\n",
        "\n",
        "    return mean, median, std, q1, q3\n",
        "\n",
        "mean_ra, median_ra, std_ra, q1_ra, q3_ra = get_statistics(ra_df, \"age\")\n",
        "mean_control, median_control, std_control, q1_control, q3_control = get_statistics(control_df, \"age\")\n",
        "\n",
        "# 結果の表示\n",
        "print(f\"RA group - Mean age: {mean_ra:.2f}, Median age: {median_ra}, Standard Deviation: {std_ra:.2f}, Q1: {q1_ra}, Q3: {q3_ra}\")\n",
        "print(f\"Control group - Mean age: {mean_control:.2f}, Median age: {median_control}, Standard Deviation: {std_control:.2f}, Q1: {q1_control}, Q3: {q3_control}\")\n",
        "\n",
        "# 5歳刻みの度数分布\n",
        "bins = list(range(10, 105, 5))\n",
        "ra_hist_values, _ = np.histogram(ra_df[\"age\"], bins=bins)\n",
        "control_hist_values, _ = np.histogram(control_df[\"age\"], bins=bins)\n",
        "\n",
        "print(\"RA group age distribution:\")\n",
        "for i in range(len(bins)-1):\n",
        "    print(f\"{bins[i]}-{bins[i+1]-1}: {ra_hist_values[i]}\")\n",
        "\n",
        "print(\"\\nControl group age distribution:\")\n",
        "for i in range(len(bins)-1):\n",
        "    print(f\"{bins[i]}-{bins[i+1]-1}: {control_hist_values[i]}\")\n",
        "\n",
        "# ヒストグラムの表示\n",
        "plt.figure(figsize=(12, 6))\n",
        "plt.hist(ra_df[\"age\"], bins=bins, alpha=0.5, label=\"RA\")\n",
        "plt.hist(control_df[\"age\"], bins=bins, alpha=0.5, label=\"Control\")\n",
        "plt.title(\"Age distribution\")\n",
        "plt.xlabel(\"Age\")\n",
        "plt.ylabel(\"Count\")\n",
        "plt.legend()\n",
        "plt.show()\n",
        "\n",
        "# femaleの度数\n",
        "ra_female_counts = ra_df[\"female\"].value_counts()\n",
        "control_female_counts = control_df[\"female\"].value_counts()\n",
        "\n",
        "print(f\"RA group - Female counts:\\n{ra_female_counts}\")\n",
        "print(f\"Control group - Female counts:\\n{control_female_counts}\")\n"
      ]
    },
    {
      "cell_type": "code",
      "source": [
        "# 年齢のカテゴリを作成する関数\n",
        "def categorize_age(age):\n",
        "    return (age // 5) * 5\n",
        "\n",
        "# 年齢カテゴリの列を追加\n",
        "ra_df['age_category'] = ra_df['age'].apply(categorize_age)\n",
        "control_df['age_category'] = control_df['age'].apply(categorize_age)\n",
        "\n",
        "matched_samples = []\n",
        "\n",
        "# 5歳刻みのカテゴリごとにループ\n",
        "for age_cat in range(15, 100, 5):\n",
        "    for gender in [0, 1]:\n",
        "        ra_sample = ra_df[(ra_df['age_category'] == age_cat) & (ra_df['female'] == gender)]\n",
        "        control_sample = control_df[(control_df['age_category'] == age_cat) & (control_df['female'] == gender)]\n",
        "\n",
        "        # 最小のサイズに合わせる\n",
        "        sample_size = min(len(ra_sample), len(control_sample))\n",
        "\n",
        "        # サンプリング\n",
        "        ra_sample = ra_sample.sample(n=sample_size, random_state=42)\n",
        "        control_sample = control_sample.sample(n=sample_size, random_state=42)\n",
        "\n",
        "        # 結果をリストに追加\n",
        "        matched_samples.extend([ra_sample, control_sample])\n",
        "\n",
        "# 全てのサンプルを統合\n",
        "matched_df = pd.concat(matched_samples, ignore_index=True)\n",
        "\n",
        "# 結果の表示\n",
        "print(matched_df)"
      ],
      "metadata": {
        "colab": {
          "base_uri": "https://localhost:8080/"
        },
        "id": "uX4Bxe-ClFiT",
        "outputId": "ffab3a11-202e-4ba5-81c4-8dc0557d8bf2"
      },
      "execution_count": 4,
      "outputs": [
        {
          "output_type": "stream",
          "name": "stdout",
          "text": [
            "      age  female   RA  arthralgia        right_hand_filename  \\\n",
            "0    20.0     1.0  1.0         0.0     RA_right_hand_196_.jpg   \n",
            "1    22.0     1.0  0.0         0.0    nonRA_right_hand_78.jpg   \n",
            "2    29.0     1.0  1.0         0.0     RA_right_hand_222_.jpg   \n",
            "3    27.0     1.0  0.0         0.0  nonRA_right_hand_1129.jpg   \n",
            "4    33.0     0.0  1.0         1.0     RA_right_hand_167_.jpg   \n",
            "..    ...     ...  ...         ...                        ...   \n",
            "227  82.0     1.0  1.0         1.0     RA_right_hand_144_.jpg   \n",
            "228  81.0     1.0  0.0         0.0   nonRA_right_hand_934.jpg   \n",
            "229  80.0     1.0  0.0         0.0   nonRA_right_hand_932.jpg   \n",
            "230  85.0     1.0  1.0         0.0     RA_right_hand_257_.jpg   \n",
            "231  85.0     1.0  0.0         1.0   nonRA_right_hand_857.jpg   \n",
            "\n",
            "        left_hand_filename    num        id  age_category  \n",
            "0    RA_left_hand_196_.jpg  208.0  225614.0          20.0  \n",
            "1                      NaN    NaN       NaN          20.0  \n",
            "2    RA_left_hand_222_.jpg  234.0  221440.0          25.0  \n",
            "3                      NaN    NaN       NaN          25.0  \n",
            "4    RA_left_hand_167_.jpg  178.0       NaN          30.0  \n",
            "..                     ...    ...       ...           ...  \n",
            "227  RA_left_hand_144_.jpg  155.0  158848.0          80.0  \n",
            "228                    NaN    NaN       NaN          80.0  \n",
            "229                    NaN    NaN       NaN          80.0  \n",
            "230  RA_left_hand_257_.jpg  270.0   61944.0          85.0  \n",
            "231                    NaN    NaN       NaN          85.0  \n",
            "\n",
            "[232 rows x 9 columns]\n"
          ]
        }
      ]
    },
    {
      "cell_type": "code",
      "source": [
        "# matched_dfをCSVとして保存\n",
        "save_path = \"/content/drive/MyDrive/OptPhotoFiles/optPhotoTable/matched_samples.csv\"\n",
        "matched_df.to_csv(save_path, index=False)\n",
        "print(f\"Saved matched_df to {save_path}\")"
      ],
      "metadata": {
        "colab": {
          "base_uri": "https://localhost:8080/"
        },
        "id": "YH7jVzs_lJih",
        "outputId": "103ba745-acaa-4eca-fff1-16ab26d13021"
      },
      "execution_count": 5,
      "outputs": [
        {
          "output_type": "stream",
          "name": "stdout",
          "text": [
            "Saved matched_df to /content/drive/MyDrive/OptPhotoFiles/optPhotoTable/matched_samples.csv\n"
          ]
        }
      ]
    },
    {
      "cell_type": "code",
      "source": [
        "import os\n",
        "import shutil\n",
        "\n",
        "# 画像をコピーする関数\n",
        "def copy_image(row):\n",
        "    if row['RA'] == 1:\n",
        "        source_dir = \"/content/drive/MyDrive/OptPhotoFiles/optPhotoFiles/RA/RA_Right_Hand_4th\"\n",
        "    else:\n",
        "        source_dir = \"/content/drive/MyDrive/OptPhotoFiles/optPhotoFiles/nonRA/nonRA_Right_Hand_5th\"\n",
        "\n",
        "    destination_dir = \"/content/drive/MyDrive/OptPhotoFiles/optPhotoTable/matched_samples\"\n",
        "    # ディレクトリが存在しない場合、ディレクトリを作成\n",
        "    if not os.path.exists(destination_dir):\n",
        "      os.makedirs(destination_dir)\n",
        "\n",
        "    source_path = os.path.join(source_dir, row['right_hand_filename'])\n",
        "    destination_path = os.path.join(destination_dir, row['right_hand_filename'])\n",
        "\n",
        "    # ファイルをコピー\n",
        "    if os.path.exists(source_path):\n",
        "        shutil.copy(source_path, destination_path)\n",
        "\n",
        "# すべての行に対して上記の関数を適用\n",
        "matched_df.apply(copy_image, axis=1)\n",
        "\n",
        "print(\"Files copied successfully!\")"
      ],
      "metadata": {
        "id": "jM9WkvHAn_-E",
        "outputId": "81f8288b-1c1a-426f-8def-b87fd55f7940",
        "colab": {
          "base_uri": "https://localhost:8080/"
        }
      },
      "execution_count": 6,
      "outputs": [
        {
          "output_type": "stream",
          "name": "stdout",
          "text": [
            "Files copied successfully!\n"
          ]
        }
      ]
    },
    {
      "cell_type": "code",
      "source": [
        "# 対象のディレクトリ\n",
        "target_dir = \"/content/drive/MyDrive/OptPhotoFiles/optPhotoTable/matched_samples\"\n",
        "\n",
        "# ファイル数を計算\n",
        "file_count = sum([len(files) for _, _, files in os.walk(target_dir)])\n",
        "\n",
        "print(f\"Total number of files in {target_dir}: {file_count}\")"
      ],
      "metadata": {
        "colab": {
          "base_uri": "https://localhost:8080/"
        },
        "id": "hhONx7hQ6SvJ",
        "outputId": "523dc981-292d-491d-8461-d782ecf59567"
      },
      "execution_count": 7,
      "outputs": [
        {
          "output_type": "stream",
          "name": "stdout",
          "text": [
            "Total number of files in /content/drive/MyDrive/OptPhotoFiles/optPhotoTable/matched_samples: 229\n"
          ]
        }
      ]
    },
    {
      "cell_type": "code",
      "source": [
        "import os\n",
        "import pandas as pd\n",
        "\n",
        "# 指定したディレクトリのパス\n",
        "directory_path = '/content/drive/MyDrive/OptPhotoFiles/optPhotoTable/matched_samples'\n",
        "\n",
        "# ディレクトリ内のファイル名をリストに格納\n",
        "file_names = os.listdir(directory_path)\n",
        "\n",
        "# リストをDataFrameに変換\n",
        "df = pd.DataFrame(file_names, columns=['File Names'])\n",
        "\n",
        "# 保存先のパスを指定\n",
        "save_path = '/content/drive/MyDrive/file_names.xlsx'\n",
        "\n",
        "# DataFrameをExcelファイルとして保存\n",
        "df.to_excel(save_path, index=False)\n"
      ],
      "metadata": {
        "id": "MbSLgTNsC6y4"
      },
      "execution_count": 8,
      "outputs": []
    }
  ]
}