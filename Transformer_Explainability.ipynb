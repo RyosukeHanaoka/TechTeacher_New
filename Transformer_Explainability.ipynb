{
  "nbformat": 4,
  "nbformat_minor": 0,
  "metadata": {
    "colab": {
      "provenance": [],
      "authorship_tag": "ABX9TyN+WVNTV3u3Az4NaBbMQ5cx",
      "include_colab_link": true
    },
    "kernelspec": {
      "name": "python3",
      "display_name": "Python 3"
    },
    "language_info": {
      "name": "python"
    }
  },
  "cells": [
    {
      "cell_type": "markdown",
      "metadata": {
        "id": "view-in-github",
        "colab_type": "text"
      },
      "source": [
        "<a href=\"https://colab.research.google.com/github/RyosukeHanaoka/TechTeacher_New/blob/main/Transformer_Explainability.ipynb\" target=\"_parent\"><img src=\"https://colab.research.google.com/assets/colab-badge.svg\" alt=\"Open In Colab\"/></a>"
      ]
    },
    {
      "cell_type": "code",
      "execution_count": null,
      "metadata": {
        "id": "Nd6kvxjdpwz3"
      },
      "outputs": [],
      "source": [
        "#必要なモジュールをインポート\n",
        "import cv2\n",
        "import numpy as np\n",
        "import matplotlib.pyplot as plt\n",
        "from PIL import Image\n",
        "import torch\n",
        "import torchvision.transforms as transforms\n",
        "from baselines.ViT.ViT_LRP import vit_tiny_16_224 as vit_LRP\n",
        "from baselines.ViT.ViT_LRP import vit_base_16_224 as vit_base_LRP\n",
        "from baselines.ViT.ViT_LRP import vit_large_16_224 as vit_large_LRP\n",
        "from baselines.ViT.ViT_explainer import vit_tiny_16_224 as vit_explainer\n",
        "from baselines.ViT.ViT_explainer import vit_base_16_224 as vit_base_explainer\n",
        "from baselines.ViT.ViT_explaination_generator import LRP_VIS"
      ]
    },
    {
      "cell_type": "code",
      "source": [
        "#画像上のマスクからヒートマップを作成する関数\"show_cam_on_image\"を定義\n",
        "def show_cam_on_image(img, mask):\n",
        "  heatmap = cv2.applyColorMap(np.uint8(255 * mask), cv2.COLORMAP_JET)\n",
        "  heatmap = np.float32(heatmap) / 255\n",
        "  cam = heatmap + np.float32(img)\n",
        "  cam = cam / np.max(cam)\n",
        "  return cam"
      ],
      "metadata": {
        "id": "JbBOEnxlrW6H"
      },
      "execution_count": null,
      "outputs": []
    },
    {
      "cell_type": "code",
      "source": [
        "#ViTの読み込み\n",
        "model = vit_LRP('/path/to/pretraned.pth')\n",
        "model.eval()\n",
        "#モデルの勾配を求める\n",
        "attribution_generator = LRP_VIS(model)"
      ],
      "metadata": {
        "id": "mdeCvBcar6Og"
      },
      "execution_count": null,
      "outputs": []
    },
    {
      "cell_type": "code",
      "source": [
        "#attention weightを取得するための関数\"generate_visualization\"を定義\n",
        "def generate_visualization(original_image, class_index=None):\n",
        "  #モデルの勾配とattention_rolloutからattention weightを求める。\n",
        "  #N: バッチ数(196)\n",
        "  transformer_attribution = attribution_generator.generate_LRP(original_image. unsqueeze(0).cuda(),method=\"transformer_attribution\", index=class_index).detach()\n",
        "  #14x14にリサイズしてバイリニア補間しながらattention mapを可視化\n",
        "  transformer_attribution = transformer_attribution.reshape(1,1,14,14)\n",
        "  transformer_attribution = torch.nn.functional.interpolate(transformer_attribution,scale_factor=16,mode='bilinear')\n",
        "  transformer_attribution = transformer_attribution.reshape(224,224).cuda().data.cpu().numpy()\n",
        "  transformer_attribution = (transformer_attribution - transformer_attribution.min()) / (transformer_attribution.max() - transformer_attribution.min())\n",
        "  image_transformer_attribution = original_image.permute(1,2,0).data.cpu().numpy()\n",
        "  image_transformer_attribution = (image_transformer_attribution - image_transformer_attribution.min()) / (image_transformer_attribution.max() - image_transformer_attribution.min())\n",
        "  vis = show_cam_on_image(image_transformer_attribution, transformer_attribution)\n",
        "  vis = np.uint8(255 * vis)\n",
        "  vis = cv2.cvtColor(np.array(vis), cv2.COLOR_RGB2BGR)\n",
        "  return vis\n",
        "\n",
        "#画像をリサイズしてセンタークロップ\n",
        "transform = transforms.Compose([\n",
        "    transforms.Resize(256),\n",
        "    transforms.CenterCrop(224),\n",
        "    transforms.ToTensor()]\n",
        ")\n",
        "#画像を読み込み、猫と犬のattention mapを可視化\n",
        "image = Image.open('/path/to/image.jpg')\n",
        "dog_cat_image = transform(image)\n",
        "\n",
        "cat = generate_visualization(dog_cat_image, class_index=282)\n",
        "plt.imshow(cat)\n",
        "plt.show()\n",
        "\n",
        "dog = generate_visualization(dog_cat_image, class_index=243)\n",
        "plt.imshow(dog)\n",
        "plt.show()"
      ],
      "metadata": {
        "id": "3MnIub85sTzR"
      },
      "execution_count": null,
      "outputs": []
    }
  ]
}