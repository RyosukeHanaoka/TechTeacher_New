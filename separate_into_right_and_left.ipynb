{
  "nbformat": 4,
  "nbformat_minor": 0,
  "metadata": {
    "colab": {
      "provenance": [],
      "authorship_tag": "ABX9TyM+2hnKLHh6ByATmobuDFz/",
      "include_colab_link": true
    },
    "kernelspec": {
      "name": "python3",
      "display_name": "Python 3"
    },
    "language_info": {
      "name": "python"
    }
  },
  "cells": [
    {
      "cell_type": "markdown",
      "metadata": {
        "id": "view-in-github",
        "colab_type": "text"
      },
      "source": [
        "<a href=\"https://colab.research.google.com/github/RyosukeHanaoka/TechTeacher_New/blob/main/separate_into_right_and_left.ipynb\" target=\"_parent\"><img src=\"https://colab.research.google.com/assets/colab-badge.svg\" alt=\"Open In Colab\"/></a>"
      ]
    },
    {
      "cell_type": "code",
      "source": [
        "# 必要なライブラリのインポート\n",
        "from google.colab import drive\n",
        "from PIL import Image\n",
        "import json\n",
        "import os\n",
        "import shutil\n",
        "# Google Driveをマウント\n",
        "drive.mount('/content/drive')"
      ],
      "metadata": {
        "colab": {
          "base_uri": "https://localhost:8080/"
        },
        "id": "oTiZfM5a7McB",
        "outputId": "126c3037-a4d3-486a-82f9-6287e4583f2d"
      },
      "execution_count": 1,
      "outputs": [
        {
          "output_type": "stream",
          "name": "stdout",
          "text": [
            "Mounted at /content/drive\n"
          ]
        }
      ]
    },
    {
      "cell_type": "code",
      "source": [
        "import shutil\n",
        "shutil.copytree(src='/content/drive/MyDrive/xpFilesPNG', dst='/content/drive/MyDrive/xpFilesPNG_copy')"
      ],
      "metadata": {
        "colab": {
          "base_uri": "https://localhost:8080/",
          "height": 34
        },
        "id": "1MgWVmrs7zGD",
        "outputId": "23a9771a-4759-4030-e699-9d0324cb37b5"
      },
      "execution_count": 2,
      "outputs": [
        {
          "output_type": "execute_result",
          "data": {
            "text/plain": [
              "'/content/drive/MyDrive/xpFilesPNG_copy'"
            ],
            "application/vnd.google.colaboratory.intrinsic+json": {
              "type": "string"
            }
          },
          "metadata": {},
          "execution_count": 2
        }
      ]
    },
    {
      "cell_type": "code",
      "source": [
        "import json\n",
        "\n",
        "# Load the JSON content\n",
        "with open('/content/drive/MyDrive/xpFilesPNG/coco.json', 'r') as file:\n",
        "    coco_data = json.load(file)\n",
        "\n",
        "# Create a mapping from image_id to file_name\n",
        "image_id_to_filename = {img['id']: img['file_name'] for img in coco_data['images']}"
      ],
      "metadata": {
        "id": "YbuyTxqoFJC_"
      },
      "execution_count": 10,
      "outputs": []
    },
    {
      "cell_type": "code",
      "source": [
        "# Create a mapping from category_id to category name\n",
        "category_id_to_name = {cat['id']: cat['name'] for cat in coco_data['categories']}"
      ],
      "metadata": {
        "id": "jIS4AAWwFKkP"
      },
      "execution_count": 11,
      "outputs": []
    },
    {
      "cell_type": "code",
      "source": [
        "from PIL import Image\n",
        "import os\n",
        "\n",
        "def crop_and_save_images(annotations, image_id_to_filename, category_id_to_name, images_dir_path, save_dir_base):\n",
        "    # Ensure the save directories exist\n",
        "    save_dir_right = os.path.join(save_dir_base, 'xpFiles_right')\n",
        "    save_dir_left = os.path.join(save_dir_base, 'xpFiles_left')\n",
        "    os.makedirs(save_dir_right, exist_ok=True)\n",
        "    os.makedirs(save_dir_left, exist_ok=True)\n",
        "\n",
        "    # Iterate through annotations and crop images\n",
        "    for annotation in annotations:\n",
        "        bbox = annotation['bbox']\n",
        "        image_id = annotation['image_id']\n",
        "        category_id = annotation['category_id']\n",
        "\n",
        "        # Retrieve the file name and category name\n",
        "        file_name = image_id_to_filename[image_id]\n",
        "        category_name = category_id_to_name[category_id]\n",
        "\n",
        "        # Define the path to the image\n",
        "        image_path = os.path.join(images_dir_path, file_name)\n",
        "\n",
        "        # Open the image and crop it\n",
        "        with Image.open(image_path) as img:\n",
        "            cropped_img = img.crop((bbox[0], bbox[1], bbox[0] + bbox[2], bbox[1] + bbox[3]))\n",
        "\n",
        "            # Save the cropped image in the corresponding directory\n",
        "            if category_name == 'right':\n",
        "                cropped_img.save(os.path.join(save_dir_right, file_name))\n",
        "            else:\n",
        "                cropped_img.save(os.path.join(save_dir_left, file_name))"
      ],
      "metadata": {
        "id": "288gPqRPFRcl"
      },
      "execution_count": 12,
      "outputs": []
    },
    {
      "cell_type": "code",
      "source": [
        "# Set the path where the original images are stored\n",
        "images_dir_path = '/content/drive/MyDrive/xpFilesPNG'\n",
        "\n",
        "# Set the base directory where the cropped images will be saved\n",
        "save_dir_base = '/content/drive/MyDrive/'\n",
        "\n",
        "# Call the function with the annotations and the mappings\n",
        "crop_and_save_images(\n",
        "    annotations=coco_data['annotations'],\n",
        "    image_id_to_filename=image_id_to_filename,\n",
        "    category_id_to_name=category_id_to_name,\n",
        "    images_dir_path=images_dir_path,\n",
        "    save_dir_base=save_dir_base\n",
        ")"
      ],
      "metadata": {
        "id": "2bzMXmd7FS-w"
      },
      "execution_count": 13,
      "outputs": []
    }
  ]
}