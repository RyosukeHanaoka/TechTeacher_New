{
  "nbformat": 4,
  "nbformat_minor": 0,
  "metadata": {
    "colab": {
      "provenance": [],
      "authorship_tag": "ABX9TyM763/fFt1f9j1TveCNpHC8",
      "include_colab_link": true
    },
    "kernelspec": {
      "name": "python3",
      "display_name": "Python 3"
    },
    "language_info": {
      "name": "python"
    }
  },
  "cells": [
    {
      "cell_type": "markdown",
      "metadata": {
        "id": "view-in-github",
        "colab_type": "text"
      },
      "source": [
        "<a href=\"https://colab.research.google.com/github/RyosukeHanaoka/TechTeacher_New/blob/main/optPhotoFiles_modyfy.ipynb\" target=\"_parent\"><img src=\"https://colab.research.google.com/assets/colab-badge.svg\" alt=\"Open In Colab\"/></a>"
      ]
    },
    {
      "cell_type": "markdown",
      "source": [
        "#optPhotoFilesの調整ver.2\n",
        "前回の調整で多くの画像ファイルがoptPhotoTable_controlsとの整合性を失い、多くの属性データを失った。その理由は最初に不良ファイルのパージを行い、ファイル名称の統一を後回しにしたことが原因だった。このため、今回は最初にバックアップから元データを起こしたのち、すぐにその名称を統一し、ファイル操作とcsvファイル操作が連動させやすい状況にする。"
      ],
      "metadata": {
        "id": "voi_nfexOMzw"
      }
    },
    {
      "cell_type": "markdown",
      "source": [
        "#Google_Driveのマウント"
      ],
      "metadata": {
        "id": "araX40iuPRcX"
      }
    },
    {
      "cell_type": "code",
      "execution_count": 1,
      "metadata": {
        "colab": {
          "base_uri": "https://localhost:8080/"
        },
        "id": "1Fq49xPEN-HZ",
        "outputId": "e60cf2f7-4f53-49bd-baf0-fb702b78c5d0"
      },
      "outputs": [
        {
          "output_type": "stream",
          "name": "stdout",
          "text": [
            "Mounted at /content/drive\n"
          ]
        }
      ],
      "source": [
        "from google.colab import drive\n",
        "drive.mount('/content/drive')"
      ]
    },
    {
      "cell_type": "markdown",
      "source": [
        "#ライブラリのダウンロードおよびインポート"
      ],
      "metadata": {
        "id": "PZqkOk_qPb8U"
      }
    },
    {
      "cell_type": "code",
      "source": [
        "!pip install pyheif\n",
        "!pip install rembg\n",
        "import os\n",
        "import shutil\n",
        "from PIL import Image\n",
        "import pyheif\n",
        "import pandas as pd\n",
        "import csv\n",
        "from rembg import remove\n",
        "from concurrent.futures import ProcessPoolExecutor"
      ],
      "metadata": {
        "colab": {
          "base_uri": "https://localhost:8080/"
        },
        "id": "ONV-wu0pPkR_",
        "outputId": "05bc3622-9d69-4d4a-951e-2f3433579bc9"
      },
      "execution_count": 2,
      "outputs": [
        {
          "output_type": "stream",
          "name": "stdout",
          "text": [
            "Collecting pyheif\n",
            "  Downloading pyheif-0.7.1-cp310-cp310-manylinux_2_17_x86_64.manylinux2014_x86_64.whl (9.8 MB)\n",
            "\u001b[2K     \u001b[90m━━━━━━━━━━━━━━━━━━━━━━━━━━━━━━━━━━━━━━━━\u001b[0m \u001b[32m9.8/9.8 MB\u001b[0m \u001b[31m16.6 MB/s\u001b[0m eta \u001b[36m0:00:00\u001b[0m\n",
            "\u001b[?25hRequirement already satisfied: cffi>=1.0.0 in /usr/local/lib/python3.10/dist-packages (from pyheif) (1.16.0)\n",
            "Requirement already satisfied: pycparser in /usr/local/lib/python3.10/dist-packages (from cffi>=1.0.0->pyheif) (2.21)\n",
            "Installing collected packages: pyheif\n",
            "Successfully installed pyheif-0.7.1\n",
            "Collecting rembg\n",
            "  Downloading rembg-2.0.51-py3-none-any.whl (31 kB)\n",
            "Requirement already satisfied: numpy in /usr/local/lib/python3.10/dist-packages (from rembg) (1.23.5)\n",
            "Collecting onnxruntime (from rembg)\n",
            "  Downloading onnxruntime-1.16.1-cp310-cp310-manylinux_2_17_x86_64.manylinux2014_x86_64.whl (6.2 MB)\n",
            "\u001b[2K     \u001b[90m━━━━━━━━━━━━━━━━━━━━━━━━━━━━━━━━━━━━━━━━\u001b[0m \u001b[32m6.2/6.2 MB\u001b[0m \u001b[31m39.3 MB/s\u001b[0m eta \u001b[36m0:00:00\u001b[0m\n",
            "\u001b[?25hRequirement already satisfied: opencv-python-headless in /usr/local/lib/python3.10/dist-packages (from rembg) (4.8.1.78)\n",
            "Requirement already satisfied: pillow in /usr/local/lib/python3.10/dist-packages (from rembg) (9.4.0)\n",
            "Requirement already satisfied: pooch in /usr/local/lib/python3.10/dist-packages (from rembg) (1.7.0)\n",
            "Collecting pymatting (from rembg)\n",
            "  Downloading PyMatting-1.1.10-py3-none-any.whl (52 kB)\n",
            "\u001b[2K     \u001b[90m━━━━━━━━━━━━━━━━━━━━━━━━━━━━━━━━━━━━━━━━\u001b[0m \u001b[32m52.5/52.5 kB\u001b[0m \u001b[31m3.5 MB/s\u001b[0m eta \u001b[36m0:00:00\u001b[0m\n",
            "\u001b[?25hRequirement already satisfied: scikit-image in /usr/local/lib/python3.10/dist-packages (from rembg) (0.19.3)\n",
            "Requirement already satisfied: scipy in /usr/local/lib/python3.10/dist-packages (from rembg) (1.11.3)\n",
            "Requirement already satisfied: tqdm in /usr/local/lib/python3.10/dist-packages (from rembg) (4.66.1)\n",
            "Collecting coloredlogs (from onnxruntime->rembg)\n",
            "  Downloading coloredlogs-15.0.1-py2.py3-none-any.whl (46 kB)\n",
            "\u001b[2K     \u001b[90m━━━━━━━━━━━━━━━━━━━━━━━━━━━━━━━━━━━━━━━━\u001b[0m \u001b[32m46.0/46.0 kB\u001b[0m \u001b[31m3.8 MB/s\u001b[0m eta \u001b[36m0:00:00\u001b[0m\n",
            "\u001b[?25hRequirement already satisfied: flatbuffers in /usr/local/lib/python3.10/dist-packages (from onnxruntime->rembg) (23.5.26)\n",
            "Requirement already satisfied: packaging in /usr/local/lib/python3.10/dist-packages (from onnxruntime->rembg) (23.2)\n",
            "Requirement already satisfied: protobuf in /usr/local/lib/python3.10/dist-packages (from onnxruntime->rembg) (3.20.3)\n",
            "Requirement already satisfied: sympy in /usr/local/lib/python3.10/dist-packages (from onnxruntime->rembg) (1.12)\n",
            "Requirement already satisfied: platformdirs>=2.5.0 in /usr/local/lib/python3.10/dist-packages (from pooch->rembg) (3.11.0)\n",
            "Requirement already satisfied: requests>=2.19.0 in /usr/local/lib/python3.10/dist-packages (from pooch->rembg) (2.31.0)\n",
            "Requirement already satisfied: numba!=0.49.0 in /usr/local/lib/python3.10/dist-packages (from pymatting->rembg) (0.56.4)\n",
            "Requirement already satisfied: networkx>=2.2 in /usr/local/lib/python3.10/dist-packages (from scikit-image->rembg) (3.2)\n",
            "Requirement already satisfied: imageio>=2.4.1 in /usr/local/lib/python3.10/dist-packages (from scikit-image->rembg) (2.31.5)\n",
            "Requirement already satisfied: tifffile>=2019.7.26 in /usr/local/lib/python3.10/dist-packages (from scikit-image->rembg) (2023.9.26)\n",
            "Requirement already satisfied: PyWavelets>=1.1.1 in /usr/local/lib/python3.10/dist-packages (from scikit-image->rembg) (1.4.1)\n",
            "Requirement already satisfied: llvmlite<0.40,>=0.39.0dev0 in /usr/local/lib/python3.10/dist-packages (from numba!=0.49.0->pymatting->rembg) (0.39.1)\n",
            "Requirement already satisfied: setuptools in /usr/local/lib/python3.10/dist-packages (from numba!=0.49.0->pymatting->rembg) (67.7.2)\n",
            "Requirement already satisfied: charset-normalizer<4,>=2 in /usr/local/lib/python3.10/dist-packages (from requests>=2.19.0->pooch->rembg) (3.3.0)\n",
            "Requirement already satisfied: idna<4,>=2.5 in /usr/local/lib/python3.10/dist-packages (from requests>=2.19.0->pooch->rembg) (3.4)\n",
            "Requirement already satisfied: urllib3<3,>=1.21.1 in /usr/local/lib/python3.10/dist-packages (from requests>=2.19.0->pooch->rembg) (2.0.7)\n",
            "Requirement already satisfied: certifi>=2017.4.17 in /usr/local/lib/python3.10/dist-packages (from requests>=2.19.0->pooch->rembg) (2023.7.22)\n",
            "Collecting humanfriendly>=9.1 (from coloredlogs->onnxruntime->rembg)\n",
            "  Downloading humanfriendly-10.0-py2.py3-none-any.whl (86 kB)\n",
            "\u001b[2K     \u001b[90m━━━━━━━━━━━━━━━━━━━━━━━━━━━━━━━━━━━━━━━━\u001b[0m \u001b[32m86.8/86.8 kB\u001b[0m \u001b[31m8.1 MB/s\u001b[0m eta \u001b[36m0:00:00\u001b[0m\n",
            "\u001b[?25hRequirement already satisfied: mpmath>=0.19 in /usr/local/lib/python3.10/dist-packages (from sympy->onnxruntime->rembg) (1.3.0)\n",
            "Installing collected packages: humanfriendly, pymatting, coloredlogs, onnxruntime, rembg\n",
            "Successfully installed coloredlogs-15.0.1 humanfriendly-10.0 onnxruntime-1.16.1 pymatting-1.1.10 rembg-2.0.51\n"
          ]
        }
      ]
    },
    {
      "cell_type": "markdown",
      "source": [
        "#バックアップデータの呼び出し\n",
        "バックアップとして保存されているoptPhotoFilesBackUpに格納されているnonRA_Right_HandとnonRA_Left_Handを呼び出し、空のディレクトリ\"optPhotoFiles\"に保存する。"
      ],
      "metadata": {
        "id": "5tyCHY1OPzTr"
      }
    },
    {
      "cell_type": "code",
      "source": [
        "src_dir = \"/content/drive/MyDrive/OptPhotoFiles/optPhotoFilesBackUp/optPhotoFiles/nonRA_Right_Hand\"\n",
        "dst_dir = \"/content/drive/MyDrive/OptPhotoFiles/optPhotoFiles/nonRA/nonRA_Right_Hand\"\n",
        "\n",
        "if not os.path.exists(dst_dir):\n",
        "    shutil.copytree(src_dir, dst_dir)"
      ],
      "metadata": {
        "id": "Ep8-q-pfQr1M"
      },
      "execution_count": null,
      "outputs": []
    },
    {
      "cell_type": "code",
      "source": [
        "# 対象のディレクトリ\n",
        "target_dir = \"/content/drive/MyDrive/OptPhotoFiles/optPhotoFiles/nonRA/nonRA_Right_Hand\"\n",
        "\n",
        "# ファイル数を計算\n",
        "file_count = sum([len(files) for _, _, files in os.walk(target_dir)])\n",
        "\n",
        "print(f\"Total number of files in {target_dir}: {file_count}\")"
      ],
      "metadata": {
        "colab": {
          "base_uri": "https://localhost:8080/"
        },
        "id": "SuF8S1_rWojJ",
        "outputId": "d248a22a-4dd4-40c1-90e4-e667a39cafc5"
      },
      "execution_count": 3,
      "outputs": [
        {
          "output_type": "stream",
          "name": "stdout",
          "text": [
            "Total number of files in /content/drive/MyDrive/OptPhotoFiles/optPhotoFiles/nonRA/nonRA_Right_Hand: 1208\n"
          ]
        }
      ]
    },
    {
      "cell_type": "markdown",
      "source": [
        "同じ作業を左手にも行う。"
      ],
      "metadata": {
        "id": "yNnX3uK5Q3Oz"
      }
    },
    {
      "cell_type": "code",
      "source": [
        "src_dir = \"/content/drive/MyDrive/OptPhotoFiles/optPhotoFilesBackUp/optPhotoFiles/nonRA_Left_Hand\"\n",
        "dst_dir = \"/content/drive/MyDrive/OptPhotoFiles/optPhotoFiles/nonRA/nonRA_Left_Hand\"\n",
        "\n",
        "if not os.path.exists(dst_dir):\n",
        "    shutil.copytree(src_dir, dst_dir)"
      ],
      "metadata": {
        "id": "47HCaHi9Q74x"
      },
      "execution_count": null,
      "outputs": []
    },
    {
      "cell_type": "code",
      "source": [
        "# 対象のディレクトリ\n",
        "target_dir = \"/content/drive/MyDrive/OptPhotoFiles/optPhotoFiles/nonRA/nonRA_Left_Hand\"\n",
        "\n",
        "# ファイル数を計算\n",
        "file_count = sum([len(files) for _, _, files in os.walk(target_dir)])\n",
        "\n",
        "print(f\"Total number of files in {target_dir}: {file_count}\")"
      ],
      "metadata": {
        "colab": {
          "base_uri": "https://localhost:8080/"
        },
        "id": "ecONTzkKWvxP",
        "outputId": "a33080cb-054a-4466-9f9d-405c99393b60"
      },
      "execution_count": 4,
      "outputs": [
        {
          "output_type": "stream",
          "name": "stdout",
          "text": [
            "Total number of files in /content/drive/MyDrive/OptPhotoFiles/optPhotoFiles/nonRA/nonRA_Left_Hand: 1200\n"
          ]
        }
      ]
    },
    {
      "cell_type": "markdown",
      "source": [
        "#画像ファイルの名称統一\n",
        "nonRA_Right_HandとnonRA_Left_Handには、さまざまなファイル形式の画像ファイルが格納されており、その名称もまちまちで規則性に欠ける。まず、それらの画像ファイルとdemographic_dataを結びつけるために、ファイル名称を\"nonRA_right_hand_番号_.拡張子\"の形式に統一する。このファイル名は\"right_hand_filename\"として既存のデータテーブル\"optPhotoTable_controls.csv\"に保存する。"
      ],
      "metadata": {
        "id": "f_Jnq6FyRFoX"
      }
    },
    {
      "cell_type": "markdown",
      "source": [
        "作業用の複製を作成する。"
      ],
      "metadata": {
        "id": "viMHm7AZSu00"
      }
    },
    {
      "cell_type": "code",
      "source": [
        "src_dir = \"/content/drive/MyDrive/OptPhotoFiles/optPhotoFiles/nonRA/nonRA_Right_Hand\"\n",
        "dst_dir = \"/content/drive/MyDrive/OptPhotoFiles/optPhotoFiles/nonRA/nonRA_Right_Hand_1st\"\n",
        "\n",
        "if not os.path.exists(dst_dir):\n",
        "    shutil.copytree(src_dir, dst_dir)"
      ],
      "metadata": {
        "id": "bfJbJsvCS77o"
      },
      "execution_count": null,
      "outputs": []
    },
    {
      "cell_type": "markdown",
      "source": [
        "複製時にファイルの脱落がないことを確認するため、複製後のファイル数を確認する。"
      ],
      "metadata": {
        "id": "OsSwu81HTUV1"
      }
    },
    {
      "cell_type": "code",
      "source": [
        "# 対象のディレクトリ\n",
        "target_dir = \"/content/drive/MyDrive/OptPhotoFiles/optPhotoFiles/nonRA/nonRA_Right_Hand_1st\"\n",
        "\n",
        "# ファイル数を計算\n",
        "file_count = sum([len(files) for _, _, files in os.walk(target_dir)])\n",
        "\n",
        "print(f\"Total number of files in {target_dir}: {file_count}\")"
      ],
      "metadata": {
        "colab": {
          "base_uri": "https://localhost:8080/"
        },
        "id": "sDN6Ml0sTfRG",
        "outputId": "0b9ed718-0720-447e-d17a-60ba4292fdfa"
      },
      "execution_count": 5,
      "outputs": [
        {
          "output_type": "stream",
          "name": "stdout",
          "text": [
            "Total number of files in /content/drive/MyDrive/OptPhotoFiles/optPhotoFiles/nonRA/nonRA_Right_Hand_1st: 1076\n"
          ]
        }
      ]
    },
    {
      "cell_type": "markdown",
      "source": [
        "同じ作業を左手にも行う。"
      ],
      "metadata": {
        "id": "8dht0S_GTrNw"
      }
    },
    {
      "cell_type": "code",
      "source": [
        "src_dir = \"/content/drive/MyDrive/OptPhotoFiles/optPhotoFiles/nonRA/nonRA_Left_Hand\"\n",
        "dst_dir = \"/content/drive/MyDrive/OptPhotoFiles/optPhotoFiles/nonRA/nonRA_Left_Hand_1st\"\n",
        "\n",
        "if not os.path.exists(dst_dir):\n",
        "    shutil.copytree(src_dir, dst_dir)"
      ],
      "metadata": {
        "id": "NDbxx9mPTsGV"
      },
      "execution_count": 43,
      "outputs": []
    },
    {
      "cell_type": "markdown",
      "source": [
        "複製後のファイル数を確認する。"
      ],
      "metadata": {
        "id": "wKFHgQC6T575"
      }
    },
    {
      "cell_type": "code",
      "source": [
        "# 対象のディレクトリ\n",
        "target_dir = \"/content/drive/MyDrive/OptPhotoFiles/optPhotoFiles/nonRA/nonRA_Left_Hand_1st\"\n",
        "\n",
        "# ファイル数を計算\n",
        "file_count = sum([len(files) for _, _, files in os.walk(target_dir)])\n",
        "\n",
        "print(f\"Total number of files in {target_dir}: {file_count}\")"
      ],
      "metadata": {
        "colab": {
          "base_uri": "https://localhost:8080/"
        },
        "id": "ZCx9j0sGT_26",
        "outputId": "d9383d4f-46e7-47dd-b172-5aa35a2fcbf7"
      },
      "execution_count": 6,
      "outputs": [
        {
          "output_type": "stream",
          "name": "stdout",
          "text": [
            "Total number of files in /content/drive/MyDrive/OptPhotoFiles/optPhotoFiles/nonRA/nonRA_Left_Hand_1st: 1071\n"
          ]
        }
      ]
    },
    {
      "cell_type": "markdown",
      "source": [
        "さらに、使用するcsvファイルも、破損がないものを'optPhotoTable_back_up'と命名したディレクトリに保存し、ここから作業の都度、MyDriveの外にコピーしたoptPhotoTable内のcsvを使用することとする。"
      ],
      "metadata": {
        "id": "twbjnrX4xfhY"
      }
    },
    {
      "cell_type": "code",
      "source": [
        "src_dir = \"/content/drive/MyDrive/optPhotoTable/optPhotoTable_back_up\"\n",
        "dst_dir = \"/content/optPhotoTable\"\n",
        "\n",
        "if not os.path.exists(dst_dir):\n",
        "    shutil.copytree(src_dir, dst_dir)"
      ],
      "metadata": {
        "id": "yG7wnWKgyXg1"
      },
      "execution_count": 9,
      "outputs": []
    },
    {
      "cell_type": "markdown",
      "source": [
        "複製後のファイル数を確認する。"
      ],
      "metadata": {
        "id": "HvgnL5RJy8ry"
      }
    },
    {
      "cell_type": "code",
      "source": [
        "# 対象のディレクトリ\n",
        "target_dir = \"/content/optPhotoTable\"\n",
        "\n",
        "# ファイル数を計算\n",
        "file_count = sum([len(files) for _, _, files in os.walk(target_dir)])\n",
        "\n",
        "print(f\"Total number of files in {target_dir}: {file_count}\")"
      ],
      "metadata": {
        "colab": {
          "base_uri": "https://localhost:8080/"
        },
        "id": "oBHThLDnzBZc",
        "outputId": "b939a1ba-56b1-4161-9cb3-3c26a81e7ee4"
      },
      "execution_count": 10,
      "outputs": [
        {
          "output_type": "stream",
          "name": "stdout",
          "text": [
            "Total number of files in /content/optPhotoTable: 6\n"
          ]
        }
      ]
    },
    {
      "cell_type": "markdown",
      "source": [
        "作業を開始する。"
      ],
      "metadata": {
        "id": "wp4qNh34UNIC"
      }
    },
    {
      "cell_type": "code",
      "source": [
        "import pandas as pd\n",
        "import os\n",
        "import shutil\n",
        "\n",
        "# CSVデータを読み込む\n",
        "csv_path = '/content/optPhotoTable/optPhotoTable_controls.csv'\n",
        "data = pd.read_csv(csv_path)\n",
        "\n",
        "# right_hand_filenameからファイル名（拡張子を除く）を取得\n",
        "data['filename_without_ext'] = data['right_hand_filename'].str.rsplit(pat='.', n=1).str[0]\n",
        "\n",
        "# 画像ファイルの一覧を取得\n",
        "image_dir = '/content/drive/MyDrive/OptPhotoFiles/optPhotoFiles/nonRA/nonRA_Right_Hand_1st'\n",
        "image_files = os.listdir(image_dir)\n",
        "image_files_without_ext = [os.path.splitext(file)[0] for file in image_files]\n",
        "\n",
        "# 出力ディレクトリを確認し、存在しなければ作成\n",
        "output_dir = '/content/drive/MyDrive/OptPhotoFiles/optPhotoFiles/nonRA/nonRA_Right_Hand_2nd'\n",
        "if not os.path.exists(output_dir):\n",
        "    os.makedirs(output_dir)\n",
        "\n",
        "# 新しいファイル名を格納する辞書\n",
        "new_filename_dict = {}\n",
        "\n",
        "# ファイル名の照合と変更\n",
        "for index, image_name_without_ext in enumerate(image_files_without_ext):\n",
        "    if image_name_without_ext in data['filename_without_ext'].values:\n",
        "        ext = os.path.splitext(image_files[index])[1]\n",
        "        new_filename = f\"nonRA_right_hand_{index + 1}{ext}\"\n",
        "        new_filename_dict[image_name_without_ext] = new_filename\n",
        "\n",
        "        # ファイルをコピー\n",
        "        old_filepath = os.path.join(image_dir, image_files[index])\n",
        "        new_filepath = os.path.join(output_dir, new_filename)\n",
        "        shutil.copy2(old_filepath, new_filepath)\n",
        "\n",
        "# 新しいファイル名をCSVデータに追加\n",
        "data['new_right_hand_filename'] = data['filename_without_ext'].map(new_filename_dict)\n",
        "\n",
        "# CSVファイルを保存\n",
        "data.to_csv(csv_path, index=False)"
      ],
      "metadata": {
        "id": "kyzF1dSzUNlM"
      },
      "execution_count": null,
      "outputs": []
    },
    {
      "cell_type": "markdown",
      "source": [
        "作業時にファイルの脱落がないことを確認するため、複製後のファイル数を確認する。"
      ],
      "metadata": {
        "id": "4AmKsezyUp8O"
      }
    },
    {
      "cell_type": "code",
      "source": [
        "# 対象のディレクトリ\n",
        "target_dir = \"/content/drive/MyDrive/OptPhotoFiles/optPhotoFiles/nonRA/nonRA_Right_Hand_2nd\"\n",
        "\n",
        "# ファイル数を計算\n",
        "file_count = sum([len(files) for _, _, files in os.walk(target_dir)])\n",
        "\n",
        "print(f\"Total number of files in {target_dir}: {file_count}\")"
      ],
      "metadata": {
        "colab": {
          "base_uri": "https://localhost:8080/"
        },
        "id": "uWdXXXFxUqFI",
        "outputId": "6cdb3085-e570-4043-b7b2-b5d8cf437fdd"
      },
      "execution_count": null,
      "outputs": [
        {
          "output_type": "stream",
          "name": "stdout",
          "text": [
            "Total number of files in /content/drive/MyDrive/OptPhotoFiles/optPhotoFiles/nonRA/nonRA_Right_Hand_2nd: 1076\n"
          ]
        }
      ]
    },
    {
      "cell_type": "code",
      "source": [
        "import pandas as pd\n",
        "import os\n",
        "\n",
        "# CSVデータを読み込む\n",
        "csv_path = '/content/optPhotoTable/optPhotoTable_controls.csv'\n",
        "data = pd.read_csv(csv_path)\n",
        "\n",
        "# right_hand_filenameのファイル名（拡張子を除く）をリスト化\n",
        "csv_files_without_ext = data['right_hand_filename'].str.rsplit(pat='.', n=1).str[0].tolist()\n",
        "\n",
        "# nonRA_Right_Hand_1stのファイル一覧を取得\n",
        "dir_1st = '/content/drive/MyDrive/OptPhotoFiles/optPhotoFiles/nonRA/nonRA_Right_Hand_1st'\n",
        "files_1st = os.listdir(dir_1st)\n",
        "files_1st_without_ext = [os.path.splitext(file)[0] for file in files_1st]\n",
        "\n",
        "# 照合されなかったファイル名をリストアップ\n",
        "unmatched_files = [file for file in files_1st_without_ext if file not in csv_files_without_ext]\n",
        "\n",
        "# 結果を表示\n",
        "print(f\"Number of unmatched files: {len(unmatched_files)}\")\n",
        "print(\"\\n\".join(sorted(unmatched_files)))\n"
      ],
      "metadata": {
        "id": "z8-4A8lPg7PS"
      },
      "execution_count": null,
      "outputs": []
    },
    {
      "cell_type": "code",
      "source": [
        "import pandas as pd\n",
        "import os\n",
        "import shutil\n",
        "\n",
        "# 照合されなかったファイルのリストを取得\n",
        "csv_path =  '/content/optPhotoTable/optPhotoTable_controls.csv'\n",
        "data = pd.read_csv(csv_path)\n",
        "csv_files_without_ext = data['right_hand_filename'].str.rsplit(pat='.', n=1).str[0].tolist()\n",
        "\n",
        "dir_1st = '/content/drive/MyDrive/OptPhotoFiles/optPhotoFiles/nonRA/nonRA_Right_Hand_1st'\n",
        "files_1st = os.listdir(dir_1st)\n",
        "files_1st_without_ext = [os.path.splitext(file)[0] for file in files_1st]\n",
        "\n",
        "unmatched_files = [file for file in files_1st if os.path.splitext(file)[0] not in csv_files_without_ext]\n",
        "\n",
        "# ファイルの改名と移動\n",
        "new_dir = '/content/drive/MyDrive/OptPhotoFiles/optPhotoFiles/nonRA/nonRA_Right_Hand_2000th'\n",
        "if not os.path.exists(new_dir):\n",
        "    os.makedirs(new_dir)\n",
        "\n",
        "rename_map = {}\n",
        "counter = 2001\n",
        "\n",
        "for file in unmatched_files:\n",
        "    old_path = os.path.join(dir_1st, file)\n",
        "    file_ext = os.path.splitext(file)[1]\n",
        "    new_filename = f\"nonRA_right_hand_{counter}{file_ext}\"\n",
        "    new_path = os.path.join(new_dir, new_filename)\n",
        "    shutil.move(old_path, new_path)\n",
        "\n",
        "    rename_map[file] = new_filename\n",
        "    counter += 1\n",
        "\n",
        "# ファイル名のマッピングをCSVに保存\n",
        "df_rename_map.to_csv(csv_save_path, index=False)\n",
        "csv_save_path = '/content/rename_mapping_right_hand.csv'\n",
        "\n",
        "print(f\"Renaming and moving completed. Mapping saved to {csv_save_path}\")\n"
      ],
      "metadata": {
        "colab": {
          "base_uri": "https://localhost:8080/"
        },
        "id": "bN2-rCh5reLo",
        "outputId": "27d8109e-93f9-4d76-9091-2ea3abec0f14"
      },
      "execution_count": null,
      "outputs": [
        {
          "output_type": "stream",
          "name": "stdout",
          "text": [
            "Renaming and moving completed. Mapping saved to /content/rename_mapping.csv\n"
          ]
        }
      ]
    },
    {
      "cell_type": "markdown",
      "source": [
        "nonRA_Left_Hand_2000に含まれるファイル数を確認する。"
      ],
      "metadata": {
        "id": "Y4Ns6E4w29Pg"
      }
    },
    {
      "cell_type": "code",
      "source": [
        "# 対象のディレクトリ\n",
        "target_dir = '/content/drive/MyDrive/OptPhotoFiles/optPhotoFiles/nonRA/nonRA_Right_Hand_2000th'\n",
        "\n",
        "# ファイル数を計算\n",
        "file_count = sum([len(files) for _, _, files in os.walk(target_dir)])\n",
        "\n",
        "print(f\"Total number of files in {target_dir}: {file_count}\")"
      ],
      "metadata": {
        "id": "JyXCZKHV3Ef2"
      },
      "execution_count": null,
      "outputs": []
    },
    {
      "cell_type": "markdown",
      "source": [
        "左手の画像ファイルにも同様の作業を行う。"
      ],
      "metadata": {
        "id": "1F_m-vlMVevN"
      }
    },
    {
      "cell_type": "code",
      "source": [
        "import pandas as pd\n",
        "import os\n",
        "import shutil\n",
        "\n",
        "# CSVデータを読み込む\n",
        "csv_path = '/content/optPhotoTable/optPhotoTable_controls.csv'\n",
        "data = pd.read_csv(csv_path)\n",
        "\n",
        "# right_hand_filenameからファイル名（拡張子を除く）を取得\n",
        "data['filename_without_ext'] = data['left_hand_filename'].str.rsplit(pat='.', n=1).str[0]\n",
        "\n",
        "# 画像ファイルの一覧を取得\n",
        "image_dir = '/content/drive/MyDrive/OptPhotoFiles/optPhotoFiles/nonRA/nonRA_Left_Hand_1st'\n",
        "image_files = os.listdir(image_dir)\n",
        "image_files_without_ext = [os.path.splitext(file)[0] for file in image_files]\n",
        "\n",
        "# 出力ディレクトリを確認し、存在しなければ作成\n",
        "output_dir = '/content/drive/MyDrive/OptPhotoFiles/optPhotoFiles/nonRA/nonRA_Left_Hand_2nd'\n",
        "if not os.path.exists(output_dir):\n",
        "    os.makedirs(output_dir)\n",
        "\n",
        "# 新しいファイル名を格納する辞書\n",
        "new_filename_dict = {}\n",
        "\n",
        "# ファイル名の照合と変更\n",
        "for index, image_name_without_ext in enumerate(image_files_without_ext):\n",
        "    if image_name_without_ext in data['filename_without_ext'].values:\n",
        "        ext = os.path.splitext(image_files[index])[1]\n",
        "        new_filename = f\"nonRA_left_hand_{index + 1}{ext}\"\n",
        "        new_filename_dict[image_name_without_ext] = new_filename\n",
        "\n",
        "        # ファイルをコピー\n",
        "        old_filepath = os.path.join(image_dir, image_files[index])\n",
        "        new_filepath = os.path.join(output_dir, new_filename)\n",
        "        shutil.copy2(old_filepath, new_filepath)\n",
        "\n",
        "# 新しいファイル名をCSVデータに追加\n",
        "data['new_left_hand_filename'] = data['filename_without_ext'].map(new_filename_dict)\n",
        "\n",
        "# CSVファイルを保存\n",
        "data.to_csv(csv_path, index=False)"
      ],
      "metadata": {
        "id": "7Le4XERQVlRm"
      },
      "execution_count": 45,
      "outputs": []
    },
    {
      "cell_type": "markdown",
      "source": [
        "作業時にファイルの脱落がないことを確認するため、複製後のファイル数を確認する。"
      ],
      "metadata": {
        "id": "zHBj-NxxVuMy"
      }
    },
    {
      "cell_type": "code",
      "source": [
        "# 対象のディレクトリ\n",
        "target_dir = \"/content/drive/MyDrive/OptPhotoFiles/optPhotoFiles/nonRA/nonRA_Left_Hand_2nd\"\n",
        "\n",
        "# ファイル数を計算\n",
        "file_count = sum([len(files) for _, _, files in os.walk(target_dir)])\n",
        "\n",
        "print(f\"Total number of files in {target_dir}: {file_count}\")"
      ],
      "metadata": {
        "colab": {
          "base_uri": "https://localhost:8080/"
        },
        "id": "6hYef0KJVwqq",
        "outputId": "9e0f7b4b-9dd4-439d-8ee6-78b6c9a9297f"
      },
      "execution_count": 46,
      "outputs": [
        {
          "output_type": "stream",
          "name": "stdout",
          "text": [
            "Total number of files in /content/drive/MyDrive/OptPhotoFiles/optPhotoFiles/nonRA/nonRA_Left_Hand_2nd: 1071\n"
          ]
        }
      ]
    },
    {
      "cell_type": "code",
      "source": [
        "import pandas as pd\n",
        "import os\n",
        "\n",
        "# CSVデータを読み込む\n",
        "csv_path = '/content/optPhotoTable/optPhotoTable_controls.csv'\n",
        "data = pd.read_csv(csv_path)\n",
        "\n",
        "# right_hand_filenameのファイル名（拡張子を除く）をリスト化\n",
        "csv_files_without_ext = data['left_hand_filename'].str.rsplit(pat='.', n=1).str[0].tolist()\n",
        "\n",
        "# nonRA_Left_Hand_1stのファイル一覧を取得\n",
        "dir_1st = '/content/drive/MyDrive/OptPhotoFiles/optPhotoFiles/nonRA/nonRA_Left_Hand_1st'\n",
        "files_1st = os.listdir(dir_1st)\n",
        "files_1st_without_ext = [os.path.splitext(file)[0] for file in files_1st]\n",
        "\n",
        "# 照合されなかったファイル名をリストアップ\n",
        "unmatched_files = [file for file in files_1st_without_ext if file not in csv_files_without_ext]\n",
        "\n",
        "# 結果を表示\n",
        "print(f\"Number of unmatched files: {len(unmatched_files)}\")\n",
        "print(\"\\n\".join(sorted(unmatched_files)))"
      ],
      "metadata": {
        "colab": {
          "base_uri": "https://localhost:8080/"
        },
        "id": "LXBUa-M44YhQ",
        "outputId": "2a7e0f50-e8b4-4e35-9196-de9a8e710ea8"
      },
      "execution_count": 47,
      "outputs": [
        {
          "output_type": "stream",
          "name": "stdout",
          "text": [
            "Number of unmatched files: 129\n",
            ".DS_Store\n",
            "11D725DD-470E-4D54-A9C6-86CC7678E5BE - ちゃんぽん\n",
            "139091 - Wくろーばー\n",
            "16935491220241 - ダダダ\n",
            "16936888001023448702726803656649 - Daisuke Sasaki (ダイスケ)\n",
            "16938056831914806607150442218909 - マドレーヌ\n",
            "16938263744198438720843662757159 - もふもふうさぎ\n",
            "16938938537626922193867164875586 - ローストビーフ\n",
            "16939233990632103362032329564222 - 豊坂竹寿（プン）\n",
            "16939700779793150902473308906639 - あきぶー\n",
            "16941754264587574177806647020502 - ランキング動画スタトレch\n",
            "16942294671437814175898042002335 - テキベンジャー\n",
            "1694417996805 - 夏バテ子\n",
            "20230901-2 - えび\n",
            "20230901_142513 - パテマ\n",
            "20230902_225851 - 烏宮わかば\n",
            "20230905_104029 - いずみ\n",
            "20230905_223829 - だいちゃん\n",
            "20230906_113651 - ぱるもも\n",
            "20230909_162135_ - リアル知人にバレてはいけない趣味アカ\n",
            "230903101853844 - かず\n",
            "230908065002370 - たなぼた\n",
            "42566 - パシフィックチューブ\n",
            "50145A14-CD15-4640-AF2F-62291DCEC0BB - でこぼーこ\n",
            "6489F3E0-23AB-43D0-986B-EEF6B7FC6B23 - ろびん\n",
            "726BABDA-AE8E-4B9A-AC08-69C80EDAFB27 - ポテトへっど\n",
            "9A971FD8-658A-4E66-83E8-6935A6CB2FBD - やまだかず\n",
            "DSC01400 - ごまむぎ\n",
            "DSC_0000_BURST20230903161433497_COVER - すずめ\n",
            "DSC_0002 - クラウドワークス仕事\n",
            "DSC_0047~3 - 山口ノボル\n",
            "DSC_0051 - たまご\n",
            "DSC_0069 - Hiro\n",
            "DSC_0155左 - ペリドット\n",
            "DSC_0168 - 島田忠彦\n",
            "DSC_0179 - ぴかちゅう\n",
            "DSC_0262 - asa o\n",
            "DSC_0423 - 坪田裕貴（イーリスソフトスタジオ）\n",
            "DSC_1977 - えびさわくみこ\n",
            "F1C722DD-0CE1-4248-9174-E08D9E97DFFA - さけるちーず\n",
            "IMG-5976 - すぐる\n",
            "IMG20230901072510 - だかなぁなん\n",
            "IMG20230901120756 - パルモギ\n",
            "IMG20230907001123 - ぶっちぃ\n",
            "IMG20230916083133 - れんずじゃぱん\n",
            "IMG20230917082915 - いぽ\n",
            "IMG_0349 - タカダケンシ\n",
            "IMG_0391 - デボン\n",
            "IMG_0677 - マクド鈴木\n",
            "IMG_0792 - ミスターサドル\n",
            "IMG_0857 - 山野辺祥子\n",
            "IMG_0862 - Cros rivière\n",
            "IMG_0896 - 平松雄太郎（IRODORI -イロドリ-）\n",
            "IMG_1141 - ねこパンチ\n",
            "IMG_1522 - Lola RománTaketomi\n",
            "IMG_1796 - Ho2O hO2O\n",
            "IMG_2001[1] - プライベートトンボ\n",
            "IMG_2023-09-01-12-29-43-833 - mikimouse\n",
            "IMG_20230902_041225 - コピー - 篠永隼\n",
            "IMG_20230913_184924 - ヘビガラガラ\n",
            "IMG_20230925_094245 - ダメおやじ\n",
            "IMG_2257 - 佐藤明義\n",
            "IMG_2387 - 鈴木みどり\n",
            "IMG_2584 - なな\n",
            "IMG_2600 - デコアンドブーハウス\n",
            "IMG_2686 - ひで\n",
            "IMG_3108 - ポテニン\n",
            "IMG_3261 - 高橋良光_未奈\n",
            "IMG_3634 - やぎちゃん\n",
            "IMG_3673 - いわさきまぶ\n",
            "IMG_3802 - にゃべ\n",
            "IMG_3822 - KT_DB\n",
            "IMG_3951 - りーぴ\n",
            "IMG_4085 - かずちん釣行記（カーズ）\n",
            "IMG_4877 - 煮どうふ\n",
            "IMG_4965 - はり・きゅうマッサージ院ケアスマイル\n",
            "IMG_5513 - ルイはポメラニアン\n",
            "IMG_6107 - ラッド睦\n",
            "IMG_6171 - ゆず\n",
            "IMG_7051 - あびこ\n",
            "IMG_7064 - ネギガナイトユウキ\n",
            "IMG_7255 - すスプラ\n",
            "IMG_7415 - りそ_\n",
            "IMG_7435 - kiichi “artist_s love” inoue\n",
            "IMG_7557 - ぽにょまる\n",
            "IMG_7594 - Re_ poris\n",
            "IMG_7805 - Kazuya _\n",
            "IMG_8369 - ぽょょん\n",
            "IMG_8841 - 中村ゆず子\n",
            "IMG_9427 - じゅじゅ\n",
            "IMG_9805 - ノエルうさぎ\n",
            "IMG_9993 - めぐみ\n",
            "Left - だいすけそまき\n",
            "PXL_20230901_063224703 - どりー777\n",
            "PXL_20230904_095954681 - ごろはな\n",
            "PXL_20230906_040058494 - かたげ\n",
            "PXL_20230907_121631225 - クローバーBO\n",
            "PXL_20230908_003402115.MP~2 - ふくろうのあくび\n",
            "PXL_20230911_024449859.MP - だいずチャンネル\n",
            "P_20230908_222346_1_2 - nagare Ryokudou (ナガレ)\n",
            "SNOW_20230902_160740_448 - 草間奈津美\n",
            "hodari - あずきちゃん\n",
            "image - _ kaori\n",
            "image - いじゅえり\n",
            "image - じゃすみん\n",
            "image - ふじ\n",
            "image - ぽけ3\n",
            "image - キズマキfx\n",
            "image - ジャパンクリエイト\n",
            "image - ツムグ（つむ）\n",
            "image - マサカリゴゼン\n",
            "image - 切通めぐみ\n",
            "image1 - kuma\n",
            "image1 - ソーゴ\n",
            "left - あいざわなおき\n",
            "left hand - スガイタミオ\n",
            "→ - ねねね\n",
            "【左手】 - とあるおじさん351号\n",
            "ひだり - 伊藤紘一郎\n",
            "イメージ 2 - 鶴城有希\n",
            "左手 - natsume _\n",
            "左手 - なぎさの.\n",
            "左手 - のぶりん\n",
            "左手 - ぱそこんクリニック盛岡\n",
            "左手 - むんぺん\n",
            "左手 - ナカザワyuko\n",
            "左手 - 選ばれたのは綾鷹でした。\n",
            "左手 - 雪りんご\n",
            "手2 - 伊藤いづみ\n"
          ]
        }
      ]
    },
    {
      "cell_type": "code",
      "source": [
        "import pandas as pd\n",
        "import os\n",
        "import shutil\n",
        "##失われたデータを同定する。\n",
        "#指定されたパスのCSVファイルを指すための変数\"csv_path\"を設定。\n",
        "csv_path =  '/content/optPhotoTable/optPhotoTable_controls.csv'\n",
        "#Pandasライブラリを使用して、直前に\"csv_path\"で指定されたパスのCSVファイルを読み込み、\"data\"というDataFrameに格納。\n",
        "data = pd.read_csv(csv_path)\n",
        "#\"left_hand_filename\"カラムのファイル名から拡張子を除去し、リスト化する。\n",
        "csv_files_without_ext = data['left_hand_filename'].str.rsplit(pat='.', n=1).str[0].tolist()\n",
        "#操作対象のディレクトリのパスを指すための変数、\"dir_1st\"を設定。\n",
        "dir_1st = '/content/drive/MyDrive/OptPhotoFiles/optPhotoFiles/nonRA/nonRA_Left_Hand_1st'\n",
        "#上で指定したディレクトリ内のファイルのリスト、\"files_1st\"を取得。\n",
        "files_1st = os.listdir(dir_1st)\n",
        "#ディレクトリ内の各ファイル名から拡張子を除去。\n",
        "files_1st_without_ext = [os.path.splitext(file)[0] for file in files_1st]\n",
        "#ディレクトリ内のファイルに含まれているにもかかわらず、CSVの\"left_hand_filename\"カラムのファイル名に記載されていないファイルのリスト、\"unmatched_files\"を取得。\n",
        "unmatched_files = [file for file in files_1st if os.path.splitext(file)[0] not in csv_files_without_ext]\n",
        "\n",
        "# ファイルの改名と移動\n",
        "#新しくファイルを移動させるディレクトリのパスを指すための変数を設定。\n",
        "new_dir = '/content/drive/MyDrive/OptPhotoFiles/optPhotoFiles/nonRA/nonRA_Left_Hand_2000th'\n",
        "#新しいディレクトリが存在しない場合、ディレクトリを作成。\n",
        "if not os.path.exists(new_dir):\n",
        "    os.makedirs(new_dir)\n",
        "#改名前後のファイル名をマッピングするための辞書を初期化。\n",
        "rename_map = {}\n",
        "#新しいファイル名を生成する際のカウンターを初期化。\n",
        "counter = 2001\n",
        "\n",
        "#CSVから読み出せなかったファイル、\"unmatched_files\"についてのループを開始。\n",
        "for file in unmatched_files:\n",
        "    #現在のファイルのパスを取得。\n",
        "    old_path = os.path.join(dir_1st, file)\n",
        "    #ファイルの拡張子を取得。\n",
        "    file_ext = os.path.splitext(file)[1]\n",
        "    #新しいファイル名を生成。\n",
        "    new_filename = f\"nonRA_left_hand_{counter}{file_ext}\"\n",
        "    #新しいファイルのパスを取得。\n",
        "    new_path = os.path.join(new_dir, new_filename)\n",
        "    #ファイルを新しい場所に移動。\n",
        "    shutil.move(old_path, new_path)\n",
        "    #改名前後のファイル名を辞書に追加。\n",
        "    rename_map[file] = new_filename\n",
        "    #カウンターをインクリメント。\n",
        "    counter += 1\n",
        "\n",
        "# マッピングの辞書をDataFrameに変換\n",
        "df_rename_map = pd.DataFrame(list(rename_map.items()), columns=['Original', 'Renamed'])\n",
        "\n",
        "# ファイル名のマッピングをCSVに保存\n",
        "csv_save_path = '/content/rename_mapping_left_hand.csv'\n",
        "df_rename_map.to_csv(csv_save_path, index=False)\n",
        "\n",
        "print(f\"Renaming and moving completed. Mapping saved to {csv_save_path}\")"
      ],
      "metadata": {
        "colab": {
          "base_uri": "https://localhost:8080/"
        },
        "id": "Qcq-N-Qp4dM9",
        "outputId": "2ff9cc68-b051-4977-c4fa-7d2bb24740b8"
      },
      "execution_count": 48,
      "outputs": [
        {
          "output_type": "stream",
          "name": "stdout",
          "text": [
            "Renaming and moving completed. Mapping saved to /content/rename_mapping-left.csv\n"
          ]
        }
      ]
    },
    {
      "cell_type": "markdown",
      "source": [
        "nonRA_Left_Hand_2000に含まれるファイル数を確認する。"
      ],
      "metadata": {
        "id": "fTUON-rl2kxO"
      }
    },
    {
      "cell_type": "code",
      "source": [
        "# 対象のディレクトリ\n",
        "target_dir = '/content/drive/MyDrive/OptPhotoFiles/optPhotoFiles/nonRA/nonRA_Left_Hand_2000th'\n",
        "\n",
        "# ファイル数を計算\n",
        "file_count = sum([len(files) for _, _, files in os.walk(target_dir)])\n",
        "\n",
        "print(f\"Total number of files in {target_dir}: {file_count}\")"
      ],
      "metadata": {
        "id": "mUfk2O192lNb"
      },
      "execution_count": null,
      "outputs": []
    },
    {
      "cell_type": "markdown",
      "source": [
        "次の作業に移る前に、ここまでで出来上がったファイル をコピーして、バックアップとする。対象となるファイル群は以下の通り。\n",
        "'rename_mapping_left_hand.csv'\n",
        "\n",
        "'rename_mapping_right_hand.csv'\n",
        "\n",
        "'optPhotoTable_controls.csv'\n",
        "\n",
        "'nonRA_Left_Hand_2000th'\n",
        "\n",
        "'nonRA_Right_Hand_2000th'\n",
        "\n",
        "nonRA_Left_Hand_2nd\n",
        "\n",
        "nonRA_Right_Hand_2nd\n",
        "\n",
        "これを施行することで、作業は次の段階に進行可能となる。"
      ],
      "metadata": {
        "id": "JW3YYxeBHCjn"
      }
    },
    {
      "cell_type": "code",
      "source": [],
      "metadata": {
        "id": "4_VuJCph51ph"
      },
      "execution_count": null,
      "outputs": []
    },
    {
      "cell_type": "markdown",
      "source": [
        "\n",
        "#重要！！！！ここにTable改変の手作業を要する。\n",
        "クリーニング作業の終了したファイル名に書き換えた新しいcsvファイルをローカル環境で作成し、optPhotoTable_back_upにアップロードする。"
      ],
      "metadata": {
        "id": "Nkoft-UG3XQZ"
      }
    },
    {
      "cell_type": "markdown",
      "source": [
        "#\"nonRA_Right_Hand_2nd\"と、\"nonRA_Right_Hand_2000th\"を結合\n",
        "バックアップファイルを作成したのち、\"nonRA_Right_Hand_2nd\"と、\"nonRA_Right_Hand_2000th\"を結合し、\"nonRA_Right_Hand_3rd\"を作成する。以降はこのファイルを使用して作業を進める。"
      ],
      "metadata": {
        "id": "P1-l1idj4s8_"
      }
    },
    {
      "cell_type": "code",
      "source": [],
      "metadata": {
        "id": "0c1PIryL5zjr"
      },
      "execution_count": null,
      "outputs": []
    },
    {
      "cell_type": "markdown",
      "source": [
        "#pyheifを用いたheic形式ファイルをjpg形式に変換する。"
      ],
      "metadata": {
        "id": "buaq7IkjHX9w"
      }
    },
    {
      "cell_type": "markdown",
      "source": [
        "#ライブラリのインポート\n",
        "pyheifをはじめとする必要なライブラリをインポートする。"
      ],
      "metadata": {
        "id": "0JnKMBvr1fA8"
      }
    },
    {
      "cell_type": "code",
      "source": [
        "!pip install pyheif\n",
        "\n",
        "import os\n",
        "import pyheif\n",
        "from PIL import Image"
      ],
      "metadata": {
        "id": "UTuThOVrglte"
      },
      "execution_count": null,
      "outputs": []
    },
    {
      "cell_type": "markdown",
      "source": [
        "#右手ファイルの作業\n",
        "右手の作業から開始する。"
      ],
      "metadata": {
        "id": "6kzc-hCi1UNL"
      }
    },
    {
      "cell_type": "code",
      "source": [
        "src_dir = \"/content/drive/MyDrive/OptPhotoFiles/optPhotoFiles/nonRA/nonRA_Right_Hand_3rd\"\n",
        "dst_dir = \"/content/drive/MyDrive/OptPhotoFiles/optPhotoFiles/nonRA/nonRA_Right_Hand_4th\"\n",
        "\n",
        "# ディレクトリが存在しない場合、ディレクトリを作成\n",
        "if not os.path.exists(dst_dir):\n",
        "    os.makedirs(dst_dir)\n",
        "\n",
        "failed_files = []\n",
        "\n",
        "for root, _, files in os.walk(src_dir):\n",
        "    for file in files:\n",
        "        src_path = os.path.join(root, file)\n",
        "        filename, ext = os.path.splitext(file)\n",
        "\n",
        "        try:\n",
        "            # Convert heic files to jpg\n",
        "            if ext.lower() == '.heic':\n",
        "                heif_file = pyheif.read(src_path)\n",
        "                image = Image.frombytes(\n",
        "                    heif_file.mode,\n",
        "                    heif_file.size,\n",
        "                    heif_file.data,\n",
        "                    \"raw\",\n",
        "                    heif_file.mode,\n",
        "                    heif_file.stride,\n",
        "                )\n",
        "                dst_path = os.path.join(dst_dir, filename + '.jpg')\n",
        "                image.save(dst_path, \"JPEG\")\n",
        "\n",
        "            # Rename other jpg files to ensure the extension is \".jpg\"\n",
        "            elif ext.lower() in ['.jpeg', '.jpg']:\n",
        "                dst_path = os.path.join(dst_dir, filename + '.jpg')\n",
        "                image = Image.open(src_path)\n",
        "                image.save(dst_path, \"JPEG\")\n",
        "\n",
        "        except Exception as e:\n",
        "            print(f\"Error processing file {file}: {e}\")\n",
        "            failed_files.append(file)\n",
        "\n",
        "if failed_files:\n",
        "    print(\"Failed to process the following files:\")\n",
        "    for file in failed_files:\n",
        "        print(file)\n",
        "else:\n",
        "    print(\"All files processed successfully!\")"
      ],
      "metadata": {
        "id": "IvBsQi9l0oOc"
      },
      "execution_count": null,
      "outputs": []
    },
    {
      "cell_type": "markdown",
      "source": [
        "nonRA_Right_Hand_4thに含まれるファイル数を確認する。"
      ],
      "metadata": {
        "id": "sBoT54b36VAp"
      }
    },
    {
      "cell_type": "code",
      "source": [
        "# 対象のディレクトリ\n",
        "target_dir = \"/content/drive/MyDrive/OptPhotoFiles/optPhotoFiles/nonRA/nonRA_Right_Hand_4th\"\n",
        "\n",
        "# ファイル数を計算\n",
        "file_count = sum([len(files) for _, _, files in os.walk(target_dir)])\n",
        "\n",
        "print(f\"Total number of files in {target_dir}: {file_count}\")"
      ],
      "metadata": {
        "id": "JamwIYcl6Vsv"
      },
      "execution_count": null,
      "outputs": []
    },
    {
      "cell_type": "markdown",
      "source": [
        "#左手ファイルの作業\n",
        "左手にも同様の作業を施行する。"
      ],
      "metadata": {
        "id": "hrr4z9Jr1AcS"
      }
    },
    {
      "cell_type": "code",
      "source": [
        "src_dir = \"/content/drive/MyDrive/OptPhotoFiles/optPhotoFiles/nonRA/nonRA_Left_Hand_3rd\"\n",
        "dst_dir = \"/content/drive/MyDrive/OptPhotoFiles/optPhotoFiles/nonRA/nonRA_Left_Hand_4th\"\n",
        "\n",
        "# ディレクトリが存在しない場合、ディレクトリを作成\n",
        "if not os.path.exists(dst_dir):\n",
        "    os.makedirs(dst_dir)\n",
        "\n",
        "failed_files = []\n",
        "\n",
        "for root, _, files in os.walk(src_dir):\n",
        "    for file in files:\n",
        "        src_path = os.path.join(root, file)\n",
        "        filename, ext = os.path.splitext(file)\n",
        "\n",
        "        try:\n",
        "            # Convert heic files to jpg\n",
        "            if ext.lower() == '.heic':\n",
        "                heif_file = pyheif.read(src_path)\n",
        "                image = Image.frombytes(\n",
        "                    heif_file.mode,\n",
        "                    heif_file.size,\n",
        "                    heif_file.data,\n",
        "                    \"raw\",\n",
        "                    heif_file.mode,\n",
        "                    heif_file.stride,\n",
        "                )\n",
        "                dst_path = os.path.join(dst_dir, filename + '.jpg')\n",
        "                image.save(dst_path, \"JPEG\")\n",
        "\n",
        "            # Rename other jpg files to ensure the extension is \".jpg\"\n",
        "            elif ext.lower() in ['.jpeg', '.jpg']:\n",
        "                dst_path = os.path.join(dst_dir, filename + '.jpg')\n",
        "                image = Image.open(src_path)\n",
        "                image.save(dst_path, \"JPEG\")\n",
        "\n",
        "        except Exception as e:\n",
        "            print(f\"Error processing file {file}: {e}\")\n",
        "            failed_files.append(file)\n",
        "\n",
        "if failed_files:\n",
        "    print(\"Failed to process the following files:\")\n",
        "    for file in failed_files:\n",
        "        print(file)\n",
        "else:\n",
        "    print(\"All files processed successfully!\")"
      ],
      "metadata": {
        "id": "1_CkgMTY1BTb"
      },
      "execution_count": null,
      "outputs": []
    },
    {
      "cell_type": "markdown",
      "source": [
        "nonRA_Left_Hand_4thに含まれるファイル数を確認する。"
      ],
      "metadata": {
        "id": "KfHa3gfj77Hy"
      }
    },
    {
      "cell_type": "code",
      "source": [
        "# 対象のディレクトリ\n",
        "target_dir = \"/content/drive/MyDrive/OptPhotoFiles/optPhotoFiles/nonRA/nonRA_Left_Hand_4th\"\n",
        "\n",
        "# ファイル数を計算\n",
        "file_count = sum([len(files) for _, _, files in os.walk(target_dir)])\n",
        "\n",
        "print(f\"Total number of files in {target_dir}: {file_count}\")"
      ],
      "metadata": {
        "id": "EefuGMiS7kzB"
      },
      "execution_count": null,
      "outputs": []
    },
    {
      "cell_type": "markdown",
      "source": [
        "#以下は予備コード群\n",
        "上記のコードが失敗に終わった場合、下の予備を使用するかもしれないため、ここに保存する。"
      ],
      "metadata": {
        "id": "wwORChGA4USD"
      }
    },
    {
      "cell_type": "code",
      "source": [
        "#heicを変換する関数を定義\n",
        "def heic_convert_to(heic_filename, output_filename, q=90):\n",
        "    heif = pyheif.read(heic_filename)\n",
        "\n",
        "    image = Image.frombytes(\n",
        "        heif.mode,\n",
        "        heif.size,\n",
        "        heif.data,\n",
        "        \"raw\",\n",
        "        heif.mode,\n",
        "        heif.stride,\n",
        "    )\n",
        "    image.save(output_filename, quality=q)"
      ],
      "metadata": {
        "id": "ZLYnQv5Sexn_"
      },
      "execution_count": null,
      "outputs": []
    },
    {
      "cell_type": "code",
      "source": [
        "# 変換する画像が含まれるディレクトリパス(nonRA_Right_Hand)\n",
        "input_dir = '/content/drive/MyDrive/OptPhotoFiles/optPhotoFiles/nonRA/nonRA_Right_Hand_3rd'\n",
        "output_dir = '/content/drive/MyDrive/OptPhotoFiles/optPhotoFiles/nonRA/nonRA_Right_Hand_4th'\n",
        "#input_dirの内部を検索\n",
        "for filename in os.listdir(input_dir):\n",
        "    if filename.lower().endswith('.heic'):\n",
        "        input_filepath = os.path.join(input_dir, filename)\n",
        "        output_filepath = os.path.join(output_dir, os.path.splitext(filename)[0] + '.jpg')\n",
        "        try:\n",
        "            heic_convert_to(input_filepath, output_filepath)#関数;heic_convert_toを実行\n",
        "            print(f\"Converted {filename} to JPEG\")#作業に成功したらこちらを表示\n",
        "        except Exception as e:\n",
        "            print(f\"Couldn't convert {filename}: {e}\")#うまくいかなければこちらを表示\n",
        "    else :\n",
        "        input_filepath = os.path.join(input_dir, filename)\n",
        "        output_filepath = os.path.join(output_dir, os.path.splitext(filename)[0] + '.jpg')\n",
        "        shutil.copy(input_filepath, output_filepath)"
      ],
      "metadata": {
        "id": "bQfz4CV1fTV0"
      },
      "execution_count": null,
      "outputs": []
    },
    {
      "cell_type": "markdown",
      "source": [
        "#rembgライブラリを使用した背景の削除\n",
        "/content/drive/MyDrive/OptPhotoFiles/optPhotoFiles/nonRA/nonRA_Right_Handに含まれている画像は、非常に雑多な背景のなかに手背の画像が撮影されている。背景が学習に悪影響を及ぼさないように、背景を削除する。"
      ],
      "metadata": {
        "id": "JGzdMRJ7H_V_"
      }
    },
    {
      "cell_type": "markdown",
      "source": [
        "まず、右手画像の背景除去から開始する。"
      ],
      "metadata": {
        "id": "EATRANId8mZo"
      }
    },
    {
      "cell_type": "code",
      "source": [
        "pip install rembg\n",
        "\n",
        "import os\n",
        "from rembg import remove\n",
        "from concurrent.futures import ProcessPoolExecutor\n",
        "\n",
        "def remove_bg_from_file(file_path, dst_dir):\n",
        "    with open(file_path, \"rb\") as f:\n",
        "        img = f.read()\n",
        "        output = remove(img)\n",
        "\n",
        "    dst_file_path = os.path.join(dst_dir, os.path.basename(file_path))\n",
        "    with open(dst_file_path, \"wb\") as f_out:\n",
        "        f_out.write(output)\n",
        "\n",
        "# 画像の背景を削除するディレクトリ\n",
        "src_dir = \"/content/drive/MyDrive/OptPhotoFiles/optPhotoFiles/nonRA/nonRA_Right_Hand_4th\"\n",
        "dst_dir = \"/content/drive/MyDrive/OptPhotoFiles/optPhotoFiles/nonRA/nonRA_Right_Hand_5th\"\n",
        "\n",
        "# ディレクトリが存在しない場合、新規作成\n",
        "if not os.path.exists(dst_dir):\n",
        "    os.makedirs(dst_dir)\n",
        "\n",
        "file_paths = [os.path.join(src_dir, file) for file in os.listdir(src_dir) if file.lower().endswith(('.png', '.jpg', '.jpeg'))]\n",
        "\n",
        "# Use all available CPU cores for parallel processing\n",
        "with ProcessPoolExecutor() as executor:\n",
        "    executor.map(remove_bg_from_file, file_paths, [dst_dir] * len(file_paths))\n",
        "\n",
        "print(\"Background removal and saving to new directory completed!\")"
      ],
      "metadata": {
        "id": "kAEaMPc8GWSF"
      },
      "execution_count": null,
      "outputs": []
    },
    {
      "cell_type": "markdown",
      "source": [
        "nonRA_Right_Hand_5thに含まれるファイル数を確認する。"
      ],
      "metadata": {
        "id": "lH4xLyv_8FqQ"
      }
    },
    {
      "cell_type": "code",
      "source": [
        "# 対象のディレクトリ\n",
        "target_dir = \"/content/drive/MyDrive/OptPhotoFiles/optPhotoFiles/nonRA/nonRA_Right_Hand_5th\"\n",
        "\n",
        "# ファイル数を計算\n",
        "file_count = sum([len(files) for _, _, files in os.walk(target_dir)])\n",
        "\n",
        "print(f\"Total number of files in {target_dir}: {file_count}\")"
      ],
      "metadata": {
        "id": "Vrd0TUkH8N0G"
      },
      "execution_count": null,
      "outputs": []
    },
    {
      "cell_type": "markdown",
      "source": [
        "次に左手画像の背景除去を行う。"
      ],
      "metadata": {
        "id": "qfjZU4oK8t_v"
      }
    },
    {
      "cell_type": "code",
      "source": [
        "# 画像の背景を削除するディレクトリ\n",
        "src_dir = \"/content/drive/MyDrive/OptPhotoFiles/optPhotoFiles/nonRA/nonRA_Left_Hand_4th\"\n",
        "dst_dir = \"/content/drive/MyDrive/OptPhotoFiles/optPhotoFiles/nonRA/nonRA_Left_Hand_5th\"\n",
        "\n",
        "# ディレクトリが存在しない場合、新規作成\n",
        "if not os.path.exists(dst_dir):\n",
        "    os.makedirs(dst_dir)\n",
        "\n",
        "file_paths = [os.path.join(src_dir, file) for file in os.listdir(src_dir) if file.lower().endswith(('.png', '.jpg', '.jpeg'))]\n",
        "\n",
        "# Use all available CPU cores for parallel processing\n",
        "with ProcessPoolExecutor() as executor:\n",
        "    executor.map(remove_bg_from_file, file_paths, [dst_dir] * len(file_paths))\n",
        "\n",
        "print(\"Background removal and saving to new directory completed!\")"
      ],
      "metadata": {
        "id": "W0zJJ2VdGdTJ"
      },
      "execution_count": null,
      "outputs": []
    },
    {
      "cell_type": "markdown",
      "source": [
        "nonRA_Right_Hand_4thに含まれるファイル数を確認する。"
      ],
      "metadata": {
        "id": "LXXlxBHx8Wiz"
      }
    },
    {
      "cell_type": "code",
      "source": [
        "# 対象のディレクトリ\n",
        "target_dir = \"/content/drive/MyDrive/OptPhotoFiles/optPhotoFiles/nonRA/nonRA_Left_Hand_5th\"\n",
        "\n",
        "# ファイル数を計算\n",
        "file_count = sum([len(files) for _, _, files in os.walk(target_dir)])\n",
        "\n",
        "print(f\"Total number of files in {target_dir}: {file_count}\")"
      ],
      "metadata": {
        "id": "ZPg9DM_k8Zg-"
      },
      "execution_count": null,
      "outputs": []
    }
  ]
}